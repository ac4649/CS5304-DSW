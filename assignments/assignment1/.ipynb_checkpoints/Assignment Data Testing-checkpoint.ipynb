{
 "cells": [
  {
   "cell_type": "code",
   "execution_count": 4,
   "metadata": {},
   "outputs": [],
   "source": [
    "%matplotlib inline  \n",
    "import pandas as pd\n",
    "import numpy as np\n",
    "from sklearn.datasets import fetch_rcv1\n",
    "from sklearn.neighbors import NearestNeighbors\n",
    "from sklearn.cluster import KMeans\n",
    "from sklearn.cluster import k_means\n",
    "\n",
    "import matplotlib\n",
    "import numpy as np\n",
    "import matplotlib.pyplot as plt"
   ]
  },
  {
   "cell_type": "code",
   "execution_count": 5,
   "metadata": {},
   "outputs": [],
   "source": [
    "def load_ks(path_to_ks):\n",
    "    ks = pd.read_csv(path_to_ks, names=['k'], dtype=np.int32)\n",
    "    return ks['k'].tolist()"
   ]
  },
  {
   "cell_type": "code",
   "execution_count": 6,
   "metadata": {},
   "outputs": [],
   "source": [
    "def check_output(output, y):\n",
    "    assert type(output) == np.ndarray\n",
    "    assert output.ndim == 1\n",
    "    assert output.shape[0] == y.shape[0]"
   ]
  },
  {
   "cell_type": "code",
   "execution_count": 12,
   "metadata": {},
   "outputs": [],
   "source": [
    "# Adrien Cogny - Assignment 1 for Data Science in the Wild at Cornell Tech\n",
    "import pandas as pd\n",
    "import numpy as np\n",
    "\n",
    "from sklearn.datasets import fetch_rcv1\n",
    "from sklearn.neighbors import KNeighborsClassifier\n",
    "from sklearn.naive_bayes import BernoulliNB\n",
    "\n",
    "def load_labels(pathtoLabels):\n",
    "    DF = pd.read_csv(pathtoLabels,header=None);\n",
    "    return DF[0];\n",
    "\n",
    "def load_training_data():\n",
    "    dataSet = fetch_rcv1(subset='train')\n",
    "\n",
    "    return dataSet.data, dataSet.target, dataSet.sample_id\n",
    "\n",
    "def load_validation_data(validationData):\n",
    "\n",
    "    # This is taken from the homework FAQ and modified slightly.\n",
    "    test_data = fetch_rcv1(subset='test')\n",
    "    ids = pd.read_csv(validationData)\n",
    "    mask = np.isin(test_data.sample_id, ids)\n",
    "    validation_data = test_data.data[mask]\n",
    "    validation_target = test_data.target[mask]\n",
    "    return validation_data, validation_target, test_data\n",
    "\n",
    "class CS5304KNNClassifier():\n",
    "\n",
    "    numNeighbors = 5;\n",
    "\n",
    "    classifier = None;\n",
    "    # def __init__(self,):\n",
    "    #     # Initialization of the knn classifier should be done here\n",
    "    #     self.classifier = NearestNeighbors(n_neighbors=self.numNeighbors);        \n",
    "    #     return\n",
    "    def __init__(self,n_neighbors = None):\n",
    "        if (type(n_neighbors) == int):\n",
    "            self.numNeighbors = n_neighbors;\n",
    "        self.classifier = KNeighborsClassifier(n_neighbors=self.numNeighbors,algorithm='brute');        \n",
    "\n",
    "    def train(self,fitX, fitY):\n",
    "        #in the fitX, fitY sparce matrix, the index of the element is in indptr\n",
    "\n",
    "        fitXIndexElem = fitX.indptr;\n",
    "        fitYIndexElem = fitY.indptr;\n",
    "\n",
    "        fitXelemDF = pd.Series(data=fitX.indptr[1:])\n",
    "        fitYelemDF = pd.Series(data=fitY.indptr[1:])\n",
    "        # print(fitXelemDF);\n",
    "        # print(fitYelemDF);\n",
    "\n",
    "\n",
    "        dataArray = fitX.toarray()\n",
    "        dataDF = pd.DataFrame(data=dataArray,index=fitXelemDF)\n",
    "        # print(dataDF)\n",
    "\n",
    "        targetArray = fitY.toarray()\n",
    "        targetDF = pd.DataFrame(data=targetArray,index=fitYelemDF)\n",
    "        # print(targetDF)\n",
    "\n",
    "        self.classifier.fit(dataDF,targetDF);\n",
    "        return\n",
    "\n",
    "    def predict(self,predictX):\n",
    "        dataArray = predictX.toarray()\n",
    "        dataDF = pd.DataFrame(data=dataArray)\n",
    "        return self.classifier.predict(predictX)\n",
    "\n",
    "    def score(self,data,labels):\n",
    "        dataArray = data.toarray()\n",
    "        dataDF = pd.DataFrame(data=dataArray)\n",
    "\n",
    "        predictArray = labels.toarray()\n",
    "        labelsDF = pd.DataFrame(data=predictArray)\n",
    "\n",
    "        return self.classifier.score(dataDF,labelsDF)\n",
    "\n",
    "\n",
    "\n",
    "class CS5304NBClassifier():\n",
    "\n",
    "    classifier = None;\n",
    "    def __init__(self, alphanew = 1.25):\n",
    "        self.classifier = BernoulliNB(alpha = alphanew)\n",
    "        return\n",
    "    \n",
    "    def train(self,fitX, fitY):\n",
    "        \n",
    "        self.classifier.fit(fitX,fitY.todense())\n",
    "        return\n",
    "\n",
    "    def predict(self,predictX):\n",
    "        dataArray = predictX.toarray()\n",
    "        dataDF = pd.DataFrame(data=dataArray)\n",
    "        return self.classifier.predict(predictX)\n",
    "\n",
    "    def score(self,data,labels):\n",
    "        return self.classifier.score(data,labels.todense())\n",
    "\n",
    "class CS5304KMeansClassifier():\n",
    "    classifier = None;\n",
    "#     centroids = None;\n",
    "    numClusters = 8;\n",
    "    def __init__(self, n_clusters=2, init='k-means++'):\n",
    "        self.classifier = KMeans(n_clusters=n_clusters)\n",
    "        numClusters = n_clusters\n",
    "        return\n",
    "    \n",
    "    def train(self,fitX, fitY):\n",
    "        trainData = pd.DataFrame(data=fitX.toarray())\n",
    "#         print(trainData.shape)\n",
    "#         print(fitY.todense().shape)\n",
    "        trainData['labelContained'] = fitY.todense()\n",
    "\n",
    "        self.classifier.fit(fitX,fitY.todense())\n",
    "#         print(trainData.head(20))\n",
    "        return \n",
    "    \n",
    "    def predict(self,predictX):\n",
    "#         dataArray = predictX.toarray()\n",
    "#         dataDF = pd.DataFrame(data=dataArray)\n",
    "        return self.classifier.predict(predictX)\n",
    "\n",
    "    def score(self,data,labels):\n",
    "        predictedClusters = self.classifier.predict(data);\n",
    "        print(pd.DataFrame(data = predictedClusters).head(20))\n",
    "        print(pd.DataFrame(data = labels.todense());"
   ]
  },
  {
   "cell_type": "code",
   "execution_count": 8,
   "metadata": {},
   "outputs": [],
   "source": [
    "path_to_labels = \"labels.txt\"\n",
    "path_to_ids = \"validation.txt\"\n",
    "path_to_ks = \"ks.txt\"\n",
    "label = 33"
   ]
  },
  {
   "cell_type": "code",
   "execution_count": 9,
   "metadata": {},
   "outputs": [],
   "source": [
    "ks = load_ks(path_to_ks)\n",
    "labels = load_labels(path_to_labels)\n",
    "train_data, train_target, _ = load_training_data()\n",
    "eval_data, eval_target, _ = load_validation_data(path_to_ids)"
   ]
  },
  {
   "cell_type": "code",
   "execution_count": 10,
   "metadata": {
    "scrolled": true
   },
   "outputs": [
    {
     "name": "stdout",
     "output_type": "stream",
     "text": [
      "0      4\n",
      "1      5\n",
      "2      7\n",
      "3     33\n",
      "4     59\n",
      "5     70\n",
      "6     83\n",
      "7     95\n",
      "8     98\n",
      "9    102\n",
      "Name: 0, dtype: int64\n"
     ]
    }
   ],
   "source": [
    "print(labels)"
   ]
  },
  {
   "cell_type": "markdown",
   "metadata": {},
   "source": [
    "# KNN Classifier Testing"
   ]
  },
  {
   "cell_type": "code",
   "execution_count": null,
   "metadata": {
    "scrolled": false
   },
   "outputs": [],
   "source": [
    "scoresDF = pd.DataFrame(index=[i for i in range(1,21)],columns=[label for label in labels])\n",
    "for label in labels:    \n",
    "    print(label)\n",
    "    # Grade Ex. 1a\n",
    "    for k in range(1,21):\n",
    "#         print(k)\n",
    "        limit = 1000\n",
    "#         k = 15 # change this\n",
    "        knn = CS5304KNNClassifier(n_neighbors=k)\n",
    "        knn.train(train_data[:limit], train_target[:limit][:, label])\n",
    "        output = knn.predict(eval_data[:limit])\n",
    "        check_output(output,eval_target[:limit])\n",
    "    #     print(knn.score(eval_data[:limit],eval_target[:limit][:, label]))\n",
    "        scoresDF[label][k] = knn.score(eval_data[:limit],eval_target[:limit][:, label])\n",
    "\n",
    "scoresDF.head()"
   ]
  },
  {
   "cell_type": "code",
   "execution_count": null,
   "metadata": {},
   "outputs": [],
   "source": [
    "scoresDF.head(20)\n",
    "scoresDF.to_csv('scores_matrix')"
   ]
  },
  {
   "cell_type": "code",
   "execution_count": null,
   "metadata": {},
   "outputs": [],
   "source": [
    "scoresDF.max()"
   ]
  },
  {
   "cell_type": "code",
   "execution_count": null,
   "metadata": {},
   "outputs": [],
   "source": [
    "scoresDF.head(20)"
   ]
  },
  {
   "cell_type": "code",
   "execution_count": null,
   "metadata": {},
   "outputs": [],
   "source": [
    "scoresDF.plot()"
   ]
  },
  {
   "cell_type": "markdown",
   "metadata": {},
   "source": [
    "# NB Classification Testing"
   ]
  },
  {
   "cell_type": "code",
   "execution_count": null,
   "metadata": {
    "scrolled": true
   },
   "outputs": [],
   "source": [
    "# print(label)\n",
    "# # nb = CS5304NBClassifier()\n",
    "# # nb.train(train_data, train_target[:, label])\n",
    "# # output = nb.predict(eval_data)\n",
    "# # check_output(output,eval_target)\n",
    "# # print(nb.score(eval_data,eval_target[:, label]))\n",
    "\n",
    "scoresNBDF = pd.DataFrame(index=[label for label in labels],columns=[i for i in np.arange(0.1, 2.0, 0.1)])\n",
    "for label in labels:\n",
    "    print(label)\n",
    "    for alpha in np.arange(0.1, 2.0, 0.1):  \n",
    "#         print(alpha)\n",
    "        nb = CS5304NBClassifier(alpha)\n",
    "        nb.train(train_data, train_target[:, label])\n",
    "        output = nb.predict(eval_data)\n",
    "        check_output(output,eval_target)\n",
    "    #     print(nb.score(eval_data,eval_target[:, label]))\n",
    "        scoresNBDF[alpha][label] = nb.score(eval_data,eval_target[:, label])\n",
    "scoresNBDF.head()"
   ]
  },
  {
   "cell_type": "code",
   "execution_count": null,
   "metadata": {
    "scrolled": true
   },
   "outputs": [],
   "source": [
    "scoresNBDF.head(20)"
   ]
  },
  {
   "cell_type": "code",
   "execution_count": null,
   "metadata": {},
   "outputs": [],
   "source": [
    "scoresNBDF.T.plot()"
   ]
  },
  {
   "cell_type": "markdown",
   "metadata": {},
   "source": [
    "# Kmeans Clustering"
   ]
  },
  {
   "cell_type": "code",
   "execution_count": 13,
   "metadata": {},
   "outputs": [],
   "source": [
    "kmeans = CS5304KMeansClassifier()\n",
    "kmeans.train(train_data, train_target[:, label])"
   ]
  },
  {
   "cell_type": "code",
   "execution_count": 14,
   "metadata": {},
   "outputs": [],
   "source": [
    "output = kmeans.predict(eval_data)\n",
    "check_output(output,eval_target)"
   ]
  },
  {
   "cell_type": "code",
   "execution_count": 15,
   "metadata": {},
   "outputs": [
    {
     "data": {
      "text/plain": [
       "<matplotlib.axes._subplots.AxesSubplot at 0x7f945365dd68>"
      ]
     },
     "execution_count": 15,
     "metadata": {},
     "output_type": "execute_result"
    },
    {
     "data": {
      "image/png": "[encoded data removed]",
      "text/plain": [
       "<matplotlib.figure.Figure at 0x7f948eed2518>"
      ]
     },
     "metadata": {},
     "output_type": "display_data"
    }
   ],
   "source": [
    "# print(kmeans.classifier.cluster_centers_)\n",
    "# pd.DataFrame(data=kmeans.classifier.labels_).head(100)\n",
    "pd.DataFrame(data=output).plot()"
   ]
  },
  {
   "cell_type": "code",
   "execution_count": 25,
   "metadata": {},
   "outputs": [
    {
     "name": "stdout",
     "output_type": "stream",
     "text": [
      "[[0]\n",
      " [0]\n",
      " [0]\n",
      " ...\n",
      " [1]\n",
      " [1]\n",
      " [0]]\n"
     ]
    }
   ],
   "source": []
  },
  {
   "cell_type": "code",
   "execution_count": 26,
   "metadata": {},
   "outputs": [
    {
     "name": "stdout",
     "output_type": "stream",
     "text": [
      "    0\n",
      "0   0\n",
      "1   0\n",
      "2   0\n",
      "3   0\n",
      "4   0\n",
      "5   0\n",
      "6   0\n",
      "7   0\n",
      "8   0\n",
      "9   0\n",
      "10  0\n",
      "11  0\n",
      "12  0\n",
      "13  0\n",
      "14  0\n",
      "15  0\n",
      "16  0\n",
      "17  0\n",
      "18  0\n",
      "19  0\n"
     ]
    },
    {
     "ename": "ValueError",
     "evalue": "DataFrame constructor not properly called!",
     "output_type": "error",
     "traceback": [
      "\u001b[0;31m---------------------------------------------------------------------------\u001b[0m",
      "\u001b[0;31mValueError\u001b[0m                                Traceback (most recent call last)",
      "\u001b[0;32m<ipython-input-26-27d28ff5d083>\u001b[0m in \u001b[0;36m<module>\u001b[0;34m()\u001b[0m\n\u001b[0;32m----> 1\u001b[0;31m \u001b[0mkmeans\u001b[0m\u001b[0;34m.\u001b[0m\u001b[0mscore\u001b[0m\u001b[0;34m(\u001b[0m\u001b[0meval_data\u001b[0m\u001b[0;34m,\u001b[0m\u001b[0meval_target\u001b[0m\u001b[0;34m[\u001b[0m\u001b[0;34m:\u001b[0m\u001b[0;34m,\u001b[0m \u001b[0mlabel\u001b[0m\u001b[0;34m]\u001b[0m\u001b[0;34m)\u001b[0m\u001b[0;34m\u001b[0m\u001b[0m\n\u001b[0m",
      "\u001b[0;32m<ipython-input-12-5637bc3c16ee>\u001b[0m in \u001b[0;36mscore\u001b[0;34m(self, data, labels)\u001b[0m\n\u001b[1;32m    126\u001b[0m         \u001b[0mpredictedClusters\u001b[0m \u001b[0;34m=\u001b[0m \u001b[0mself\u001b[0m\u001b[0;34m.\u001b[0m\u001b[0mclassifier\u001b[0m\u001b[0;34m.\u001b[0m\u001b[0mpredict\u001b[0m\u001b[0;34m(\u001b[0m\u001b[0mdata\u001b[0m\u001b[0;34m)\u001b[0m\u001b[0;34m;\u001b[0m\u001b[0;34m\u001b[0m\u001b[0m\n\u001b[1;32m    127\u001b[0m         \u001b[0mprint\u001b[0m\u001b[0;34m(\u001b[0m\u001b[0mpd\u001b[0m\u001b[0;34m.\u001b[0m\u001b[0mDataFrame\u001b[0m\u001b[0;34m(\u001b[0m\u001b[0mdata\u001b[0m \u001b[0;34m=\u001b[0m \u001b[0mpredictedClusters\u001b[0m\u001b[0;34m)\u001b[0m\u001b[0;34m.\u001b[0m\u001b[0mhead\u001b[0m\u001b[0;34m(\u001b[0m\u001b[0;36m20\u001b[0m\u001b[0;34m)\u001b[0m\u001b[0;34m)\u001b[0m\u001b[0;34m\u001b[0m\u001b[0m\n\u001b[0;32m--> 128\u001b[0;31m         \u001b[0mprint\u001b[0m\u001b[0;34m(\u001b[0m\u001b[0mpd\u001b[0m\u001b[0;34m.\u001b[0m\u001b[0mDataFrame\u001b[0m\u001b[0;34m(\u001b[0m\u001b[0mdata\u001b[0m \u001b[0;34m=\u001b[0m \u001b[0mlabels\u001b[0m\u001b[0;34m)\u001b[0m\u001b[0;34m)\u001b[0m\u001b[0;34m;\u001b[0m\u001b[0;34m\u001b[0m\u001b[0m\n\u001b[0m",
      "\u001b[0;32m/opt/conda/lib/python3.6/site-packages/pandas/core/frame.py\u001b[0m in \u001b[0;36m__init__\u001b[0;34m(self, data, index, columns, dtype, copy)\u001b[0m\n\u001b[1;32m    402\u001b[0m                                          dtype=values.dtype, copy=False)\n\u001b[1;32m    403\u001b[0m             \u001b[0;32melse\u001b[0m\u001b[0;34m:\u001b[0m\u001b[0;34m\u001b[0m\u001b[0m\n\u001b[0;32m--> 404\u001b[0;31m                 \u001b[0;32mraise\u001b[0m \u001b[0mValueError\u001b[0m\u001b[0;34m(\u001b[0m\u001b[0;34m'DataFrame constructor not properly called!'\u001b[0m\u001b[0;34m)\u001b[0m\u001b[0;34m\u001b[0m\u001b[0m\n\u001b[0m\u001b[1;32m    405\u001b[0m \u001b[0;34m\u001b[0m\u001b[0m\n\u001b[1;32m    406\u001b[0m         \u001b[0mNDFrame\u001b[0m\u001b[0;34m.\u001b[0m\u001b[0m__init__\u001b[0m\u001b[0;34m(\u001b[0m\u001b[0mself\u001b[0m\u001b[0;34m,\u001b[0m \u001b[0mmgr\u001b[0m\u001b[0;34m,\u001b[0m \u001b[0mfastpath\u001b[0m\u001b[0;34m=\u001b[0m\u001b[0;32mTrue\u001b[0m\u001b[0;34m)\u001b[0m\u001b[0;34m\u001b[0m\u001b[0m\n",
      "\u001b[0;31mValueError\u001b[0m: DataFrame constructor not properly called!"
     ]
    }
   ],
   "source": [
    "kmeans.score(eval_data,eval_target[:, label])"
   ]
  },
  {
   "cell_type": "code",
   "execution_count": null,
   "metadata": {},
   "outputs": [],
   "source": []
  }
 ],
 "metadata": {
  "kernelspec": {
   "display_name": "Python 3",
   "language": "python",
   "name": "python3"
  },
  "language_info": {
   "codemirror_mode": {
    "name": "ipython",
    "version": 3
   },
   "file_extension": ".py",
   "mimetype": "text/x-python",
   "name": "python",
   "nbconvert_exporter": "python",
   "pygments_lexer": "ipython3",
   "version": "3.6.2"
  }
 },
 "nbformat": 4,
 "nbformat_minor": 2
}
