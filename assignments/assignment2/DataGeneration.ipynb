{
 "cells": [
  {
   "cell_type": "code",
   "execution_count": 23,
   "metadata": {},
   "outputs": [],
   "source": [
    "import pandas as pd\n",
    "import random\n",
    "import re\n",
    "from IPython.display import clear_output\n",
    "import itertools\n",
    "import matplotlib.pyplot as plt\n",
    "from sklearn.feature_extraction.text import CountVectorizer"
   ]
  },
  {
   "cell_type": "code",
   "execution_count": 2,
   "metadata": {
    "collapsed": true
   },
   "outputs": [],
   "source": [
    "#create an index file for the huge data file\n",
    "def createIndex(filePath):\n",
    "    file = open(filePath,'r');\n",
    "    indexFilePath = filePath+\"_index.csv\"\n",
    "    indexFile = open(indexFilePath,'w');\n",
    "    indexFile.close()\n",
    "    \n",
    "    offset = 0\n",
    "    lineNumber = 0\n",
    "    for line in file:\n",
    "#         clear_output(wait=True)\n",
    "#         print(lineNumber)\n",
    "        indexFile = open(indexFilePath,'a');\n",
    "        indexFile.write(str(lineNumber) + \",\" + str(offset) + \"\\n\")\n",
    "        indexFile.close()\n",
    "        lineNumber = lineNumber + 1\n",
    "        offset += len(line)\n",
    "    file.close()\n",
    "    return indexFilePath"
   ]
  },
  {
   "cell_type": "code",
   "execution_count": 3,
   "metadata": {
    "collapsed": true
   },
   "outputs": [],
   "source": [
    "def generateNIndecesFrom(n, rangeOfIndeces):\n",
    "    print(\"Generating \" + str(n) + \" indeces from range\")\n",
    "    allIndeces = random.sample(rangeOfIndeces, n)\n",
    "    allIndeces = pd.Series(data = allIndeces)\n",
    "    allIndeces = allIndeces.sort_values().reset_index().drop(['index'],axis=1)\n",
    "    allIndeces.columns = ['Index'];\n",
    "    return allIndeces"
   ]
  },
  {
   "cell_type": "code",
   "execution_count": 4,
   "metadata": {
    "collapsed": true
   },
   "outputs": [],
   "source": [
    "def generateAndSaveSubset(file,dataFrame,indexValues,numRowsPerItteration,totalNumRows,column_headers,frameSaveName):\n",
    "    dataFrame = generateSubSet(file,dataFrame,indexValues,numRowsPerItteration,totalNumRows,column_headers)\n",
    "    dataFrame.to_csv(frameSaveName)\n",
    "    return dataFrame"
   ]
  },
  {
   "cell_type": "code",
   "execution_count": 5,
   "metadata": {
    "collapsed": true
   },
   "outputs": [],
   "source": [
    "def generateSubSet(file,dataFrame,indexValues,numRowsPerItteration,totalNumRows,column_headers):\n",
    "    totalNumIterations = int(totalNumRows/numRowsPerItteration)\n",
    "    print(\"Number of itterations = \" + str(totalNumIterations))\n",
    "    totalNumRowsTraversed = 0\n",
    "    prevsize = 0\n",
    "    for i in range(totalNumIterations + 1):\n",
    "#         \n",
    "#         print(\"Itteration number: \" + str(i))\n",
    "#         print(\"skipRows: \" + str(i * numRowsPerItteration))\n",
    "#         print(\"Read in : \" + str(numRowsPerItteration))\n",
    "        curData = pd.read_table(file,skiprows = i * numRowsPerItteration, nrows = numRowsPerItteration,header=None)\n",
    "        curData.index = [i for i in range(i*numRowsPerItteration,i*numRowsPerItteration + curData.shape[0])]\n",
    "        totalNumRowsTraversed = totalNumRowsTraversed + curData.shape[0]\n",
    "\n",
    "#         print(curData.shape)\n",
    "#         print(curData.index.shape)\n",
    "\n",
    "        curData['Index'] = curData.index\n",
    "        curData.columns = column_headers\n",
    "\n",
    "#         print(indexValues)\n",
    "#         break\n",
    "        curIndexRange = indexValues['Index'][(indexValues['Index'] < (i*numRowsPerItteration + numRowsPerItteration)) & (indexValues['Index'] > (i*numRowsPerItteration-1))]\n",
    "        curData = curData[curData['Index'].isin(curIndexRange)]\n",
    "\n",
    "        dataFrame = pd.concat([dataFrame,curData])\n",
    "        \n",
    "        clear_output()\n",
    "        print(\"Extraction Stats: \" + str(dataFrame.shape[0]) + \" percent: \" + str(dataFrame.shape[0] / indexValues.shape[0] * 100) + \"%\")\n",
    "        print(\"Document Stats: \" + str(totalNumRowsTraversed) + \" percent: \" + str(totalNumRowsTraversed/totalNumRows*100) + \"%\")\n",
    "        if (dataFrame.shape[0] - prevsize) > 500000:\n",
    "            prevsize = dataFrame.shape[0]\n",
    "#             dataFrame.to_csv(frameSaveName)\n",
    "        elif dataFrame.shape[0] == indexValues.shape[0]:\n",
    "            print(\"Finished with the data collection\")\n",
    "#             dataFrame.to_csv(frameSaveName)\n",
    "            break\n",
    "    print(\"Extraction is Done, now saving frame\")        \n",
    "    return dataFrame"
   ]
  },
  {
   "cell_type": "code",
   "execution_count": 6,
   "metadata": {},
   "outputs": [],
   "source": [
    "#Load or Generate the 2M indeces to use\n",
    "try:\n",
    "    twoMIndeces = pd.read_csv('2MIndeces.csv')\n",
    "    \n",
    "except:\n",
    "    print(\"There were not 2000000 data points\")\n",
    "    twoMIndeces = generateNIndecesFrom(2000000,range(0,45840617)) # this range is because there are this number of records in the training set.\n",
    "    twoMIndeces.to_csv('2MIndeces.csv',index=False,header=False)"
   ]
  },
  {
   "cell_type": "code",
   "execution_count": 8,
   "metadata": {
    "scrolled": true
   },
   "outputs": [],
   "source": [
    "#Load or Generate the 1M indeces for train, 250k validation and 750k test\n",
    "try:\n",
    "    trainIndeces = pd.read_csv('train_ids.txt')\n",
    "    validationIndeces = pd.read_csv('validation_ids.txt')\n",
    "    testingIndeces = pd.read_csv('test_ids.txt')\n",
    "except:\n",
    "    print(\"There were not 1000000 data points\")\n",
    "    trainIndeces = generateNIndecesFrom(1000000,list(twoMIndeces['Index']))\n",
    "    trainIndeces.to_csv('train_ids.txt',index=False,header=False)\n",
    "\n",
    "    remainingIndeces = twoMIndeces['Index'][~twoMIndeces['Index'].isin(trainIndeces.values)]\n",
    "    validationIndeces = generateNIndecesFrom(250000,list(remainingIndeces))\n",
    "    validationIndeces.to_csv('validation_ids.txt',index=False,header=False)\n",
    "    \n",
    "    testingIndeces = twoMIndeces['Index'][~(twoMIndeces['Index'].isin(trainIndeces.values) | twoMIndeces['Index'].isin(validationIndeces.values))]\n",
    "    testingIndeces = generateNIndecesFrom(750000,list(testingIndeces))\n",
    "    testingIndeces.to_csv('test_ids.txt',index=False,header=False)\n",
    "\n",
    "#renaming the columns in case loading from file\n",
    "trainIndeces.columns = ['Index']\n",
    "validationIndeces.columns = ['Index']\n",
    "testingIndeces.columns = ['Index']"
   ]
  },
  {
   "cell_type": "code",
   "execution_count": 9,
   "metadata": {
    "collapsed": true
   },
   "outputs": [],
   "source": [
    "def getColumnHeaders():\n",
    "    return pd.Series(data=['label','integer_1','integer_2','integer_3',\n",
    "                                 'integer_4','integer_5','integer_6','integer_7','integer_8','integer_9',\n",
    "                                 'integer_10','integer_11','integer_12','integer_13','categorical_1',\n",
    "                                 'categorical_2','categorical_3','categorical_4','categorical_5','categorical_6',\n",
    "                                 'categorical_7','categorical_8','categorical_9','categorical_10','categorical_11',\n",
    "                                 'categorical_12','categorical_13','categorical_14','categorical_15','categorical_16',\n",
    "                                 'categorical_17','categorical_18','categorical_19','categorical_20','categorical_21',\n",
    "                                 'categorical_22','categorical_23','categorical_24','categorical_25','categorical_26','Index'])\n",
    "def getDataColumns():\n",
    "    return pd.Series(data=['integer_1','integer_2','integer_3',\n",
    "                                 'integer_4','integer_5','integer_6','integer_7','integer_8','integer_9',\n",
    "                                 'integer_10','integer_11','integer_12','integer_13','categorical_1',\n",
    "                                 'categorical_2','categorical_3','categorical_4','categorical_5','categorical_6',\n",
    "                                 'categorical_7','categorical_8','categorical_9','categorical_10','categorical_11',\n",
    "                                 'categorical_12','categorical_13','categorical_14','categorical_15','categorical_16',\n",
    "                                 'categorical_17','categorical_18','categorical_19','categorical_20','categorical_21',\n",
    "                                 'categorical_22','categorical_23','categorical_24','categorical_25','categorical_26'])\n",
    "column_headers = getColumnHeaders()"
   ]
  },
  {
   "cell_type": "code",
   "execution_count": 10,
   "metadata": {
    "scrolled": true
   },
   "outputs": [],
   "source": [
    "try:\n",
    "    train1M = pd.read_csv('train1M.csv',squeeze = True)\n",
    "except:\n",
    "    print(\"No 1M collection\")\n",
    "    train1M = pd.DataFrame()\n",
    "    train1M = generateAndSaveSubset('dac/train.txt',train1M,trainIndeces,4000000,46000000,column_headers,'train1M.csv')"
   ]
  },
  {
   "cell_type": "code",
   "execution_count": 11,
   "metadata": {},
   "outputs": [],
   "source": [
    "try:\n",
    "    validation250k = pd.read_csv('validation250k.csv',squeeze = True)\n",
    "except:\n",
    "    print(\"No 250k collection\")\n",
    "    validation250k = pd.DataFrame()\n",
    "    validation250k = generateAndSaveSubset('dac/train.txt',validation250k,validationIndeces,4000000,46000000,column_headers,'validation250k.csv')"
   ]
  },
  {
   "cell_type": "code",
   "execution_count": 12,
   "metadata": {},
   "outputs": [],
   "source": [
    "try:\n",
    "    test750k = pd.read_csv('test750k.csv',squeeze = True)\n",
    "except:\n",
    "    print(\"No 750k collection\")\n",
    "    test750k = pd.DataFrame()\n",
    "    test750k = generateAndSaveSubset('dac/train.txt',test750k,validationIndeces,4000000,46000000,column_headers,'test750k.csv')"
   ]
  },
  {
   "cell_type": "code",
   "execution_count": 13,
   "metadata": {
    "scrolled": true
   },
   "outputs": [
    {
     "data": {
      "text/plain": [
       "(1000000, 42)"
      ]
     },
     "execution_count": 13,
     "metadata": {},
     "output_type": "execute_result"
    }
   ],
   "source": [
    "train1M.shape"
   ]
  },
  {
   "cell_type": "code",
   "execution_count": 14,
   "metadata": {},
   "outputs": [
    {
     "data": {
      "text/plain": [
       "Index(['Unnamed: 0', 'label', 'integer_1', 'integer_2', 'integer_3',\n",
       "       'integer_4', 'integer_5', 'integer_6', 'integer_7', 'integer_8',\n",
       "       'integer_9', 'integer_10', 'integer_11', 'integer_12', 'integer_13',\n",
       "       'categorical_1', 'categorical_2', 'categorical_3', 'categorical_4',\n",
       "       'categorical_5', 'categorical_6', 'categorical_7', 'categorical_8',\n",
       "       'categorical_9', 'categorical_10', 'categorical_11', 'categorical_12',\n",
       "       'categorical_13', 'categorical_14', 'categorical_15', 'categorical_16',\n",
       "       'categorical_17', 'categorical_18', 'categorical_19', 'categorical_20',\n",
       "       'categorical_21', 'categorical_22', 'categorical_23', 'categorical_24',\n",
       "       'categorical_25', 'categorical_26', 'Index'],\n",
       "      dtype='object')"
      ]
     },
     "execution_count": 14,
     "metadata": {},
     "output_type": "execute_result"
    }
   ],
   "source": [
    "train1M.columns"
   ]
  },
  {
   "cell_type": "code",
   "execution_count": 15,
   "metadata": {
    "scrolled": true
   },
   "outputs": [
    {
     "data": {
      "text/plain": [
       "array([0, 0, 1, ..., 0, 1, 0], dtype=int64)"
      ]
     },
     "execution_count": 15,
     "metadata": {},
     "output_type": "execute_result"
    }
   ],
   "source": [
    "validation250k['label'].values"
   ]
  },
  {
   "cell_type": "code",
   "execution_count": 16,
   "metadata": {},
   "outputs": [
    {
     "data": {
      "text/html": [
       "<div>\n",
       "<style>\n",
       "    .dataframe thead tr:only-child th {\n",
       "        text-align: right;\n",
       "    }\n",
       "\n",
       "    .dataframe thead th {\n",
       "        text-align: left;\n",
       "    }\n",
       "\n",
       "    .dataframe tbody tr th {\n",
       "        vertical-align: top;\n",
       "    }\n",
       "</style>\n",
       "<table border=\"1\" class=\"dataframe\">\n",
       "  <thead>\n",
       "    <tr style=\"text-align: right;\">\n",
       "      <th></th>\n",
       "      <th>label</th>\n",
       "      <th>integer_1</th>\n",
       "      <th>integer_2</th>\n",
       "      <th>integer_3</th>\n",
       "      <th>integer_4</th>\n",
       "      <th>integer_5</th>\n",
       "      <th>integer_6</th>\n",
       "      <th>integer_7</th>\n",
       "      <th>integer_8</th>\n",
       "      <th>integer_9</th>\n",
       "      <th>...</th>\n",
       "      <th>categorical_16</th>\n",
       "      <th>categorical_17</th>\n",
       "      <th>categorical_18</th>\n",
       "      <th>categorical_19</th>\n",
       "      <th>categorical_20</th>\n",
       "      <th>categorical_21</th>\n",
       "      <th>categorical_22</th>\n",
       "      <th>categorical_23</th>\n",
       "      <th>categorical_24</th>\n",
       "      <th>categorical_25</th>\n",
       "    </tr>\n",
       "  </thead>\n",
       "  <tbody>\n",
       "    <tr>\n",
       "      <th>0</th>\n",
       "      <td>0</td>\n",
       "      <td>10.0</td>\n",
       "      <td>1</td>\n",
       "      <td>11.0</td>\n",
       "      <td>14.0</td>\n",
       "      <td>133.0</td>\n",
       "      <td>16.0</td>\n",
       "      <td>12.0</td>\n",
       "      <td>18.0</td>\n",
       "      <td>244.0</td>\n",
       "      <td>...</td>\n",
       "      <td>085faf22</td>\n",
       "      <td>e5ba7672</td>\n",
       "      <td>0b331314</td>\n",
       "      <td>21ddcdc9</td>\n",
       "      <td>5840adea</td>\n",
       "      <td>1242136d</td>\n",
       "      <td>NaN</td>\n",
       "      <td>32c7478e</td>\n",
       "      <td>0bab5d7e</td>\n",
       "      <td>ea9a246c</td>\n",
       "    </tr>\n",
       "    <tr>\n",
       "      <th>1</th>\n",
       "      <td>0</td>\n",
       "      <td>0.0</td>\n",
       "      <td>54</td>\n",
       "      <td>13.0</td>\n",
       "      <td>9.0</td>\n",
       "      <td>3411.0</td>\n",
       "      <td>75.0</td>\n",
       "      <td>3.0</td>\n",
       "      <td>21.0</td>\n",
       "      <td>113.0</td>\n",
       "      <td>...</td>\n",
       "      <td>54dd60b2</td>\n",
       "      <td>3486227d</td>\n",
       "      <td>5aed7436</td>\n",
       "      <td>21ddcdc9</td>\n",
       "      <td>a458ea53</td>\n",
       "      <td>b39b1608</td>\n",
       "      <td>NaN</td>\n",
       "      <td>32c7478e</td>\n",
       "      <td>3fdb382b</td>\n",
       "      <td>e8b83407</td>\n",
       "    </tr>\n",
       "    <tr>\n",
       "      <th>2</th>\n",
       "      <td>1</td>\n",
       "      <td>13.0</td>\n",
       "      <td>1</td>\n",
       "      <td>13.0</td>\n",
       "      <td>13.0</td>\n",
       "      <td>48.0</td>\n",
       "      <td>19.0</td>\n",
       "      <td>13.0</td>\n",
       "      <td>8.0</td>\n",
       "      <td>13.0</td>\n",
       "      <td>...</td>\n",
       "      <td>c64d548f</td>\n",
       "      <td>3486227d</td>\n",
       "      <td>63cdbb21</td>\n",
       "      <td>cf99e5de</td>\n",
       "      <td>a458ea53</td>\n",
       "      <td>5f957280</td>\n",
       "      <td>NaN</td>\n",
       "      <td>3a171ecb</td>\n",
       "      <td>1793a828</td>\n",
       "      <td>e8b83407</td>\n",
       "    </tr>\n",
       "    <tr>\n",
       "      <th>3</th>\n",
       "      <td>0</td>\n",
       "      <td>2.0</td>\n",
       "      <td>322</td>\n",
       "      <td>1.0</td>\n",
       "      <td>3.0</td>\n",
       "      <td>37.0</td>\n",
       "      <td>4.0</td>\n",
       "      <td>2.0</td>\n",
       "      <td>3.0</td>\n",
       "      <td>3.0</td>\n",
       "      <td>...</td>\n",
       "      <td>08dd6c7b</td>\n",
       "      <td>776ce399</td>\n",
       "      <td>5aed7436</td>\n",
       "      <td>9902b8f1</td>\n",
       "      <td>a458ea53</td>\n",
       "      <td>3fcdec93</td>\n",
       "      <td>NaN</td>\n",
       "      <td>32c7478e</td>\n",
       "      <td>302bda93</td>\n",
       "      <td>e8b83407</td>\n",
       "    </tr>\n",
       "    <tr>\n",
       "      <th>4</th>\n",
       "      <td>0</td>\n",
       "      <td>0.0</td>\n",
       "      <td>1</td>\n",
       "      <td>NaN</td>\n",
       "      <td>NaN</td>\n",
       "      <td>2969.0</td>\n",
       "      <td>126.0</td>\n",
       "      <td>3.0</td>\n",
       "      <td>27.0</td>\n",
       "      <td>77.0</td>\n",
       "      <td>...</td>\n",
       "      <td>31ca40b6</td>\n",
       "      <td>07c540c4</td>\n",
       "      <td>7b49e3d2</td>\n",
       "      <td>NaN</td>\n",
       "      <td>NaN</td>\n",
       "      <td>dfcfc3fa</td>\n",
       "      <td>NaN</td>\n",
       "      <td>3a171ecb</td>\n",
       "      <td>aee52b6f</td>\n",
       "      <td>NaN</td>\n",
       "    </tr>\n",
       "  </tbody>\n",
       "</table>\n",
       "<p>5 rows × 39 columns</p>\n",
       "</div>"
      ],
      "text/plain": [
       "   label  integer_1  integer_2  integer_3  integer_4  integer_5  integer_6  \\\n",
       "0      0       10.0          1       11.0       14.0      133.0       16.0   \n",
       "1      0        0.0         54       13.0        9.0     3411.0       75.0   \n",
       "2      1       13.0          1       13.0       13.0       48.0       19.0   \n",
       "3      0        2.0        322        1.0        3.0       37.0        4.0   \n",
       "4      0        0.0          1        NaN        NaN     2969.0      126.0   \n",
       "\n",
       "   integer_7  integer_8  integer_9      ...        categorical_16  \\\n",
       "0       12.0       18.0      244.0      ...              085faf22   \n",
       "1        3.0       21.0      113.0      ...              54dd60b2   \n",
       "2       13.0        8.0       13.0      ...              c64d548f   \n",
       "3        2.0        3.0        3.0      ...              08dd6c7b   \n",
       "4        3.0       27.0       77.0      ...              31ca40b6   \n",
       "\n",
       "   categorical_17  categorical_18  categorical_19 categorical_20  \\\n",
       "0        e5ba7672        0b331314        21ddcdc9       5840adea   \n",
       "1        3486227d        5aed7436        21ddcdc9       a458ea53   \n",
       "2        3486227d        63cdbb21        cf99e5de       a458ea53   \n",
       "3        776ce399        5aed7436        9902b8f1       a458ea53   \n",
       "4        07c540c4        7b49e3d2             NaN            NaN   \n",
       "\n",
       "  categorical_21 categorical_22 categorical_23 categorical_24 categorical_25  \n",
       "0       1242136d            NaN       32c7478e       0bab5d7e       ea9a246c  \n",
       "1       b39b1608            NaN       32c7478e       3fdb382b       e8b83407  \n",
       "2       5f957280            NaN       3a171ecb       1793a828       e8b83407  \n",
       "3       3fcdec93            NaN       32c7478e       302bda93       e8b83407  \n",
       "4       dfcfc3fa            NaN       3a171ecb       aee52b6f            NaN  \n",
       "\n",
       "[5 rows x 39 columns]"
      ]
     },
     "execution_count": 16,
     "metadata": {},
     "output_type": "execute_result"
    }
   ],
   "source": [
    "validation250k[validation250k.columns[1:40]].head()"
   ]
  },
  {
   "cell_type": "code",
   "execution_count": null,
   "metadata": {
    "collapsed": true,
    "scrolled": true
   },
   "outputs": [],
   "source": [
    "# testData = pd.read_table('dac/train.txt',skiprows = 0, nrows = 1000,header=None)\n",
    "\n",
    "# testData['Index'] = testData.index\n",
    "\n",
    "# testData.columns = column_headers\n",
    "\n",
    "# testData.head()"
   ]
  },
  {
   "cell_type": "code",
   "execution_count": 41,
   "metadata": {},
   "outputs": [
    {
     "data": {
      "text/plain": [
       "array([[<matplotlib.axes._subplots.AxesSubplot object at 0x000002171F531208>,\n",
       "        <matplotlib.axes._subplots.AxesSubplot object at 0x000002171F59AF98>,\n",
       "        <matplotlib.axes._subplots.AxesSubplot object at 0x000002171F6087B8>,\n",
       "        <matplotlib.axes._subplots.AxesSubplot object at 0x000002171F642BA8>],\n",
       "       [<matplotlib.axes._subplots.AxesSubplot object at 0x000002171F6C25C0>,\n",
       "        <matplotlib.axes._subplots.AxesSubplot object at 0x000002171F6FC5F8>,\n",
       "        <matplotlib.axes._subplots.AxesSubplot object at 0x000002171F78CF98>,\n",
       "        <matplotlib.axes._subplots.AxesSubplot object at 0x000002171F79EC50>],\n",
       "       [<matplotlib.axes._subplots.AxesSubplot object at 0x000002171F857DA0>,\n",
       "        <matplotlib.axes._subplots.AxesSubplot object at 0x000002171F8F8588>,\n",
       "        <matplotlib.axes._subplots.AxesSubplot object at 0x000002171F961BE0>,\n",
       "        <matplotlib.axes._subplots.AxesSubplot object at 0x000002171F9C2F60>],\n",
       "       [<matplotlib.axes._subplots.AxesSubplot object at 0x000002171FA3FC18>,\n",
       "        <matplotlib.axes._subplots.AxesSubplot object at 0x000002171FAA2588>,\n",
       "        <matplotlib.axes._subplots.AxesSubplot object at 0x000002171FADF978>,\n",
       "        <matplotlib.axes._subplots.AxesSubplot object at 0x000002171FB64EB8>]], dtype=object)"
      ]
     },
     "execution_count": 41,
     "metadata": {},
     "output_type": "execute_result"
    }
   ],
   "source": [
    "plt.figure();\n",
    "train1M.hist(stacked=True, bins=20)\n",
    "# for col in train1M.columns:\n",
    "#     if (train1M[col].dtype == 'int64' and col != 'label' and col != 'Index'):\n",
    "# #         print(train1M[col].dtype)\n",
    "#         train1M[col].hist(stacked=True, bins=20)"
   ]
  },
  {
   "cell_type": "code",
   "execution_count": 21,
   "metadata": {},
   "outputs": [
    {
     "data": {
      "text/plain": [
       "(4, 4)"
      ]
     },
     "execution_count": 21,
     "metadata": {},
     "output_type": "execute_result"
    }
   ],
   "source": []
  },
  {
   "cell_type": "code",
   "execution_count": null,
   "metadata": {
    "collapsed": true
   },
   "outputs": [],
   "source": []
  }
 ],
 "metadata": {
  "kernelspec": {
   "display_name": "Python 3",
   "language": "python",
   "name": "python3"
  },
  "language_info": {
   "codemirror_mode": {
    "name": "ipython",
    "version": 3
   },
   "file_extension": ".py",
   "mimetype": "text/x-python",
   "name": "python",
   "nbconvert_exporter": "python",
   "pygments_lexer": "ipython3",
   "version": "3.6.2"
  }
 },
 "nbformat": 4,
 "nbformat_minor": 2
}
