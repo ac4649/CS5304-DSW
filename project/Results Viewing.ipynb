{
 "cells": [
  {
   "cell_type": "code",
   "execution_count": 15,
   "metadata": {},
   "outputs": [],
   "source": [
    "import pandas as pd"
   ]
  },
  {
   "cell_type": "code",
   "execution_count": 40,
   "metadata": {},
   "outputs": [
    {
     "data": {
      "text/html": [
       "<div>\n",
       "<style scoped>\n",
       "    .dataframe tbody tr th:only-of-type {\n",
       "        vertical-align: middle;\n",
       "    }\n",
       "\n",
       "    .dataframe tbody tr th {\n",
       "        vertical-align: top;\n",
       "    }\n",
       "\n",
       "    .dataframe thead th {\n",
       "        text-align: right;\n",
       "    }\n",
       "</style>\n",
       "<table border=\"1\" class=\"dataframe\">\n",
       "  <thead>\n",
       "    <tr style=\"text-align: right;\">\n",
       "      <th></th>\n",
       "      <th>0.1</th>\n",
       "      <th>0.125</th>\n",
       "      <th>0.15000000000000002</th>\n",
       "      <th>0.17500000000000002</th>\n",
       "      <th>0.2</th>\n",
       "    </tr>\n",
       "  </thead>\n",
       "  <tbody>\n",
       "    <tr>\n",
       "      <th>0.100</th>\n",
       "      <td>0.558444</td>\n",
       "      <td>0.554937</td>\n",
       "      <td>0.556148</td>\n",
       "      <td>0.557351</td>\n",
       "      <td>0.559231</td>\n",
       "    </tr>\n",
       "    <tr>\n",
       "      <th>0.125</th>\n",
       "      <td>0.558263</td>\n",
       "      <td>0.556910</td>\n",
       "      <td>0.560872</td>\n",
       "      <td>0.558566</td>\n",
       "      <td>0.558009</td>\n",
       "    </tr>\n",
       "    <tr>\n",
       "      <th>0.150</th>\n",
       "      <td>0.556936</td>\n",
       "      <td>0.555896</td>\n",
       "      <td>0.550677</td>\n",
       "      <td>0.555257</td>\n",
       "      <td>0.556595</td>\n",
       "    </tr>\n",
       "    <tr>\n",
       "      <th>0.175</th>\n",
       "      <td>0.555782</td>\n",
       "      <td>0.558281</td>\n",
       "      <td>0.558311</td>\n",
       "      <td>0.555079</td>\n",
       "      <td>NaN</td>\n",
       "    </tr>\n",
       "    <tr>\n",
       "      <th>0.200</th>\n",
       "      <td>0.557506</td>\n",
       "      <td>0.557229</td>\n",
       "      <td>0.558698</td>\n",
       "      <td>0.557026</td>\n",
       "      <td>NaN</td>\n",
       "    </tr>\n",
       "  </tbody>\n",
       "</table>\n",
       "</div>"
      ],
      "text/plain": [
       "            0.1     0.125  0.15000000000000002  0.17500000000000002       0.2\n",
       "0.100  0.558444  0.554937             0.556148             0.557351  0.559231\n",
       "0.125  0.558263  0.556910             0.560872             0.558566  0.558009\n",
       "0.150  0.556936  0.555896             0.550677             0.555257  0.556595\n",
       "0.175  0.555782  0.558281             0.558311             0.555079       NaN\n",
       "0.200  0.557506  0.557229             0.558698             0.557026       NaN"
      ]
     },
     "execution_count": 40,
     "metadata": {},
     "output_type": "execute_result"
    }
   ],
   "source": [
    "results = pd.read_csv('ScoreResults01-0.2.csv',index_col=0)\n",
    "results"
   ]
  },
  {
   "cell_type": "code",
   "execution_count": null,
   "metadata": {},
   "outputs": [],
   "source": []
  }
 ],
 "metadata": {
  "kernelspec": {
   "display_name": "Python 3",
   "language": "python",
   "name": "python3"
  },
  "language_info": {
   "codemirror_mode": {
    "name": "ipython",
    "version": 3
   },
   "file_extension": ".py",
   "mimetype": "text/x-python",
   "name": "python",
   "nbconvert_exporter": "python",
   "pygments_lexer": "ipython3",
   "version": "3.6.5"
  }
 },
 "nbformat": 4,
 "nbformat_minor": 2
}
