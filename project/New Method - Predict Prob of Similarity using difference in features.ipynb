{
 "cells": [
  {
   "cell_type": "code",
   "execution_count": 3,
   "metadata": {},
   "outputs": [],
   "source": [
    "%matplotlib inline\n",
    "from PIL import Image\n",
    "import pandas as pd\n",
    "import seaborn as sns\n",
    "from sklearn.linear_model import LogisticRegression\n",
    "import os\n",
    "import itertools\n",
    "from tqdm import *\n",
    "from tqdm import tqdm_notebook as tqdm\n",
    "import random\n",
    "import numpy as np\n",
    "import math\n",
    "\n",
    "from IPython.display import clear_output"
   ]
  },
  {
   "cell_type": "markdown",
   "metadata": {},
   "source": [
    "# Step 1: Load Data Set"
   ]
  },
  {
   "cell_type": "code",
   "execution_count": 21,
   "metadata": {},
   "outputs": [],
   "source": [
    "fileNames = []\n",
    "for file in os.listdir(\"data/train_1\"):\n",
    "    if file.endswith(\".jpg\"):\n",
    "        fileNames.append(file)\n",
    "# fileNamesDF = pd.DataFrame(fileNames)"
   ]
  },
  {
   "cell_type": "code",
   "execution_count": 22,
   "metadata": {
    "scrolled": true
   },
   "outputs": [
    {
     "data": {
      "application/vnd.jupyter.widget-view+json": {
       "model_id": "448296cb1d75421ca4e7f7aa9fe7cb63",
       "version_major": 2,
       "version_minor": 0
      },
      "text/plain": [
       "HBox(children=(IntProgress(value=0, max=31), HTML(value='')))"
      ]
     },
     "metadata": {},
     "output_type": "display_data"
    },
    {
     "name": "stdout",
     "output_type": "stream",
     "text": [
      "\n"
     ]
    }
   ],
   "source": [
    "#only take certain artist so that the probabilities aren't basically all false when doing the tupples\n",
    "minNumPaintingsPerArtist = 350\n",
    "\n",
    "# #for each artist, only take n of their paintings\n",
    "numPaintingsPerAuthor = 100\n",
    "\n",
    "\n",
    "trainInfo = pd.read_csv('data/train_info.csv')\n",
    "mostPopularArtists = trainInfo['artist'].value_counts()[trainInfo['artist'].value_counts() > minNumPaintingsPerArtist]\n",
    "\n",
    "trainInfo = trainInfo[trainInfo['filename'].isin(fileNames)]\n",
    "fileNamesDFAll = trainInfo[trainInfo['artist'].isin(mostPopularArtists.index)]\n",
    "\n",
    "\n",
    "fileNamesDF = pd.DataFrame()\n",
    "for artist in tqdm(mostPopularArtists.index):\n",
    "    fileNamesDF = fileNamesDF.append(trainInfo[trainInfo['artist'] == artist][:numPaintingsPerAuthor])\n",
    "    \n",
    "fileNamesDF = fileNamesDF['filename']"
   ]
  },
  {
   "cell_type": "code",
   "execution_count": 23,
   "metadata": {},
   "outputs": [],
   "source": [
    "# Load the all_data_info for the dataset we are using\n",
    "allInfo = pd.read_csv('data/all_data_info.csv')\n",
    "allInfo = allInfo[allInfo['new_filename'].isin(fileNamesDF)]"
   ]
  },
  {
   "cell_type": "code",
   "execution_count": 24,
   "metadata": {},
   "outputs": [],
   "source": [
    "featuresDF = pd.DataFrame(allInfo['new_filename'])\n",
    "featuresDF['pixelsx'] = allInfo['pixelsx']\n",
    "featuresDF['pixelsy'] = allInfo['pixelsy']"
   ]
  },
  {
   "cell_type": "code",
   "execution_count": 25,
   "metadata": {},
   "outputs": [],
   "source": [
    "def normalizeSeries(series, maxNum):\n",
    "    series = series/maxNum\n",
    "    return series"
   ]
  },
  {
   "cell_type": "code",
   "execution_count": 26,
   "metadata": {},
   "outputs": [],
   "source": [
    "def featurizeImage(filename):\n",
    "    # Extract the features from the actual image\n",
    "    jpgfile = Image.open(\"data/train_1/\" + filename)\n",
    "#     print(jpgfile)\n",
    "    \n",
    "    bands = jpgfile.getbands()\n",
    "    if bands[0] == 'L':\n",
    "        # grayscale image\n",
    "        imageDF = pd.DataFrame(list(jpgfile.getdata()),columns=['grayscale'])\n",
    "#         imageDF['grayscale'] = normalizeSeries(imageDF['grayscale',])\n",
    "    elif len(bands) == 4:\n",
    "        #get red, green and blue chanels \n",
    "        imageDF = pd.DataFrame(list(jpgfile.getdata()),columns=['red','green','blue','alpha'])\n",
    "        imageDF['red'] = normalizeSeries(imageDF['red'],255)\n",
    "        imageDF['green'] = normalizeSeries(imageDF['green'],255)\n",
    "        imageDF['blue'] = normalizeSeries(imageDF['blue'],255)  \n",
    "        imageDF['alpha'] = normalizeSeries(imageDF['alpha'],255)  \n",
    "    elif len(bands) == 3:\n",
    "        #get red, green and blue chanels \n",
    "        imageDF = pd.DataFrame(list(jpgfile.getdata()),columns=['red','green','blue'])\n",
    "        imageDF['red'] = normalizeSeries(imageDF['red'],255)\n",
    "        imageDF['green'] = normalizeSeries(imageDF['green'],255)\n",
    "        imageDF['blue'] = normalizeSeries(imageDF['blue'],255)  \n",
    "    else:\n",
    "        imageDF = pd.DataFrame(list(jpgfile.getdata()))\n",
    "        print(bands)\n",
    "        return imageDF, bands\n",
    "\n",
    "    return imageDF.mean().values"
   ]
  },
  {
   "cell_type": "code",
   "execution_count": 27,
   "metadata": {},
   "outputs": [
    {
     "data": {
      "text/plain": [
       "Int64Index([   602,    697,    773,    784,    829,    854,    867,    879,\n",
       "               891,    893,\n",
       "            ...\n",
       "             99178,  99731,  99874,  99957, 100221, 100419, 100492, 100860,\n",
       "            101114, 101176],\n",
       "           dtype='int64', length=1626)"
      ]
     },
     "execution_count": 27,
     "metadata": {},
     "output_type": "execute_result"
    }
   ],
   "source": [
    "featuresDF.index"
   ]
  },
  {
   "cell_type": "code",
   "execution_count": null,
   "metadata": {
    "scrolled": false
   },
   "outputs": [
    {
     "name": "stdout",
     "output_type": "stream",
     "text": [
      "Int64Index([   602,    697,    773,    784,    829,    854,    867,    879,\n",
      "               891,    893,\n",
      "            ...\n",
      "             99178,  99731,  99874,  99957, 100221, 100419, 100492, 100860,\n",
      "            101114, 101176],\n",
      "           dtype='int64', length=1626)\n"
     ]
    },
    {
     "data": {
      "application/vnd.jupyter.widget-view+json": {
       "model_id": "5593720d05d5457ab49b0cb2504c9798",
       "version_major": 2,
       "version_minor": 0
      },
      "text/plain": [
       "HBox(children=(IntProgress(value=0, max=1626), HTML(value='')))"
      ]
     },
     "metadata": {},
     "output_type": "display_data"
    }
   ],
   "source": [
    "imageFeaturesDF = pd.DataFrame(index=featuresDF.index,columns=['features']) \n",
    "print(imageFeaturesDF.index)\n",
    "for row in tqdm(list(featuresDF.index)):\n",
    "    imageFeatures = featurizeImage(featuresDF.loc[row]['new_filename'])\n",
    "    imageFeaturesDF.loc[row]['features'] = imageFeatures\n"
   ]
  },
  {
   "cell_type": "code",
   "execution_count": null,
   "metadata": {},
   "outputs": [],
   "source": [
    "imageFeaturesDF.head()"
   ]
  },
  {
   "cell_type": "code",
   "execution_count": null,
   "metadata": {},
   "outputs": [],
   "source": [
    "imageFeaturesDF.to_csv('image_features_extracted4.csv')"
   ]
  },
  {
   "cell_type": "code",
   "execution_count": null,
   "metadata": {},
   "outputs": [],
   "source": [
    "featuresDF['imgFeatures'] = imageFeaturesDF['features']"
   ]
  },
  {
   "cell_type": "code",
   "execution_count": null,
   "metadata": {},
   "outputs": [],
   "source": [
    "featuresDF.head()"
   ]
  },
  {
   "cell_type": "code",
   "execution_count": null,
   "metadata": {},
   "outputs": [],
   "source": [
    "def compareImages(img1, img2):\n",
    "    \n",
    "    diffx = np.abs(img1['pixelsx']-img2['pixelsx']) / (img1['pixelsx'] + img2['pixelsx'])\n",
    "    diffy = np.abs(img1['pixelsy']-img2['pixelsy']) / (img1['pixelsy'] + img2['pixelsy'])\n",
    "    \n",
    "    diffSize = (diffx + diffy)/2\n",
    "    \n",
    "    img1Features = img1['imgFeatures']\n",
    "    img2Features = img2['imgFeatures']\n",
    "    \n",
    "    imgFeatureScore = 0\n",
    "    \n",
    "    if (len(img1Features) == len(img2Features)):\n",
    "        imgFeatureDiffs = np.abs(img1Features - img2Features)\n",
    "        imgFeatureScore = sum(imgFeatureDiffs)\n",
    "        score = (diffSize+imgFeatureScore)/2\n",
    "    else:\n",
    "        score = (diffSize+imgFeatureScore)/2\n",
    "\n",
    "   \n",
    "    return 1-score"
   ]
  },
  {
   "cell_type": "code",
   "execution_count": null,
   "metadata": {},
   "outputs": [],
   "source": [
    "def generatePrediction(score,threshold):\n",
    "    if score > threshold:\n",
    "        return True\n",
    "    else:\n",
    "        return False\n",
    "\n",
    "def generatePredictions(scores,threshold):\n",
    "    predictions = []\n",
    "    for curScore in tqdm(scores,leave=False):\n",
    "        predictions.append(generatePrediction(curScore,threshold))\n",
    "\n",
    "    return predictions"
   ]
  },
  {
   "cell_type": "code",
   "execution_count": null,
   "metadata": {},
   "outputs": [],
   "source": [
    "def computeStats(truth,predictions):\n",
    "    accuracy = (predictions == truth).sum()/len(predictions == truth)\n",
    "    truePos = ((predictions == True) and (truth == True)).sum()\n",
    "    trueNeg = ((predictions == False) and (truth == False)).sum()\n",
    "    falsePos = ((predictions == True) and (truth == False)).sum()\n",
    "    falseNeg = ((predictions == False) and (truth == True)).sum()\n",
    "    return accuracy, truePos, trueNeg, falsePos, falseNeg"
   ]
  },
  {
   "cell_type": "code",
   "execution_count": null,
   "metadata": {
    "scrolled": true
   },
   "outputs": [],
   "source": [
    "def trainThreshold(featuresTrain,maxNumIterations = 100,initialProb = 0.5, increaseRate = 0.001):\n",
    "    \n",
    "    probThreshold = initialProb\n",
    "    prevAccuracy = 0\n",
    "\n",
    "    for i in tqdm(range(maxNumIterations),leave=False):\n",
    "        # the score represents how similar two images are\n",
    "\n",
    "        scores = []\n",
    "        iloc1 = featuresTrain.sample(frac=0.5).index\n",
    "        iloc2 = featuresTrain.sample(frac=0.5).index\n",
    "        # print(len(iloc2))\n",
    "        # print(nTrials)\n",
    "\n",
    "        for i, loc in tqdm(enumerate(iloc1),leave=False):\n",
    "            scores.append(compareImages(featuresTrain.loc[loc],featuresTrain.loc[iloc2[i]]))\n",
    "\n",
    "        filenames1 = featuresTrain.loc[iloc1]['new_filename'].values\n",
    "        filenames2 = featuresTrain.loc[iloc2]['new_filename'].values\n",
    "\n",
    "\n",
    "        truth = trainInfo[trainInfo['filename'].isin(filenames1)]['artist'].values == trainInfo[trainInfo['filename'].isin(filenames2)]['artist'].values\n",
    "        predictions = generatePredictions(scores,probThreshold)\n",
    "\n",
    "        #compute true positive -\n",
    "        acuracy, tp, tn, fp, fn = computeStats(truth,predictions)\n",
    "       \n",
    "        if (accuracy < prevAccuracy):\n",
    "            print(\"peak accuracy\")\n",
    "            return probThreshold, prevAccuracy\n",
    "        \n",
    "        probThreshold += increaseRate\n",
    "    \n",
    "    return probThreshold, accuracy"
   ]
  },
  {
   "cell_type": "code",
   "execution_count": null,
   "metadata": {},
   "outputs": [],
   "source": [
    "def computeDevAcc(featuresTrain,probability):\n",
    "\n",
    "    # the score represents how similar two images are\n",
    "    scores = []\n",
    "    iloc1 = featuresTrain.sample(frac=0.5).index\n",
    "    iloc2 = featuresTrain.sample(frac=0.5).index\n",
    "\n",
    "    # print(len(iloc2))\n",
    "    # print(nTrials)\n",
    "\n",
    "    for i, loc in tqdm(enumerate(iloc1),leave=False):\n",
    "        scores.append(compareImages(featuresTrain.loc[loc],featuresTrain.loc[iloc2[i]]))\n",
    "\n",
    "    filenames1 = featuresTrain.loc[iloc1]['new_filename'].values\n",
    "    filenames2 = featuresTrain.loc[iloc2]['new_filename'].values\n",
    "\n",
    "\n",
    "    truth = trainInfo[trainInfo['filename'].isin(filenames1)]['artist'].values == trainInfo[trainInfo['filename'].isin(filenames2)]['artist'].values\n",
    "    predictions = generatePredictions(scores,probability)\n",
    "\n",
    "    accuracy = (predictions == truth).sum()/len(predictions == truth)\n",
    "    return accuracy"
   ]
  },
  {
   "cell_type": "code",
   "execution_count": null,
   "metadata": {},
   "outputs": [],
   "source": [
    "nTrainFraction = 0.6\n",
    "nDevFraction = 0.4\n",
    "\n",
    "thresholds = []\n",
    "devAccuracies = []\n",
    "numberSamples = 10\n",
    "for i in tqdm(range(numberSamples)):\n",
    "    featuresTrain = featuresDF.sample(frac=nTrainFraction)\n",
    "    featuresDev = featuresDF.drop(featuresTrain.index)\n",
    "#     featuresTest = featuresDF.drop(featuresDev.index).drop(featuresTrain.index).sample(n=nTest)\n",
    "    learnedThreshold, trainAccuracy = trainThreshold(featuresTrain,50,0.5,0.01)\n",
    "    thresholds.append((learnedThreshold,trainAccuracy))\n",
    "    meanDevAccuracy = 0\n",
    "    accuraciesDev = []\n",
    "    for i in range(10):\n",
    "        accuraciesDev.append(computeDevAcc(featuresDev,learnedThreshold))\n",
    "    meanDevAccuracy = np.mean(accuraciesDev)\n",
    "    devAccuracies.append(meanDevAccuracy)\n",
    "    \n",
    "print(thresholds)\n",
    "print(devAccuracies)"
   ]
  },
  {
   "cell_type": "code",
   "execution_count": null,
   "metadata": {},
   "outputs": [],
   "source": []
  }
 ],
 "metadata": {
  "kernelspec": {
   "display_name": "Python 3",
   "language": "python",
   "name": "python3"
  },
  "language_info": {
   "codemirror_mode": {
    "name": "ipython",
    "version": 3
   },
   "file_extension": ".py",
   "mimetype": "text/x-python",
   "name": "python",
   "nbconvert_exporter": "python",
   "pygments_lexer": "ipython3",
   "version": "3.6.5"
  }
 },
 "nbformat": 4,
 "nbformat_minor": 2
}
