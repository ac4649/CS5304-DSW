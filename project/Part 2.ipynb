{
 "cells": [
  {
   "cell_type": "code",
   "execution_count": 1,
   "metadata": {},
   "outputs": [],
   "source": [
    "%matplotlib inline\n",
    "from PIL import Image\n",
    "import pandas as pd\n",
    "import seaborn as sns\n",
    "from sklearn.linear_model import LogisticRegression\n",
    "import os\n",
    "import itertools\n",
    "from tqdm import *\n",
    "from tqdm import tqdm_notebook as tqdm\n",
    "import random\n",
    "import numpy as np\n",
    "import math\n",
    "import matplotlib.pyplot as plt\n",
    "\n",
    "from IPython.display import clear_output\n",
    "\n",
    "from io import StringIO\n",
    "import re\n",
    "\n",
    "import pickle\n",
    "import os\n",
    "\n",
    "from multiprocessing import Pool \n",
    "from itertools import product\n",
    "import sys\n",
    "from functools import partial"
   ]
  },
  {
   "cell_type": "markdown",
   "metadata": {},
   "source": [
    "# Step 1: Load Data Set"
   ]
  },
  {
   "cell_type": "code",
   "execution_count": 2,
   "metadata": {},
   "outputs": [],
   "source": [
    "fileNames = []\n",
    "for file in os.listdir(\"data/train_1\"):\n",
    "    if file.endswith(\".jpg\"):\n",
    "        fileNames.append(file)\n",
    "# fileNamesDF = pd.DataFrame(fileNames)"
   ]
  },
  {
   "cell_type": "code",
   "execution_count": 69,
   "metadata": {
    "scrolled": true
   },
   "outputs": [
    {
     "data": {
      "application/vnd.jupyter.widget-view+json": {
       "model_id": "c5237425e58e4d32abf350142af51a67",
       "version_major": 2,
       "version_minor": 0
      },
      "text/plain": [
       "HBox(children=(IntProgress(value=0, max=9), HTML(value='')))"
      ]
     },
     "metadata": {},
     "output_type": "display_data"
    },
    {
     "name": "stdout",
     "output_type": "stream",
     "text": [
      "\n"
     ]
    }
   ],
   "source": [
    "#only take certain artist so that the probabilities aren't basically all false when doing the tupples\n",
    "minNumPaintingsPerArtist = 55\n",
    "\n",
    "# #for each artist, only take n of their paintings\n",
    "numPaintingsPerAuthor = 100\n",
    "\n",
    "\n",
    "trainInfo = pd.read_csv('data/train_info.csv')\n",
    "trainInfo = trainInfo[trainInfo['filename'].isin(fileNames)]\n",
    "\n",
    "mostPopularArtists = trainInfo['artist'].value_counts()[trainInfo['artist'].value_counts() > minNumPaintingsPerArtist]\n",
    "# print(mostPopularArtists.head())\n",
    "# fileNamesDFAll = trainInfo[trainInfo['artist'].isin(mostPopularArtists.index)]\n",
    "# print(fileNamesDFAll.head())\n",
    "\n",
    "fileNamesDF = pd.DataFrame()\n",
    "moreInfo = pd.DataFrame()\n",
    "for artist in tqdm(mostPopularArtists.index):\n",
    "    fileNamesDF = fileNamesDF.append(trainInfo[trainInfo['artist'] == artist][:numPaintingsPerAuthor])\n",
    "    \n",
    "fileNamesDF.set_index('filename', inplace=True)"
   ]
  },
  {
   "cell_type": "code",
   "execution_count": 70,
   "metadata": {},
   "outputs": [],
   "source": [
    "# Load the all_data_info for the dataset we are using\n",
    "allInfo = pd.read_csv('data/all_data_info.csv')\n",
    "allInfo.set_index('new_filename', inplace=True)\n",
    "\n",
    "allInfo = allInfo[allInfo.index.isin(fileNamesDF.index)]\n",
    "\n",
    "\n",
    "featuresDF = pd.DataFrame(index=allInfo.index)\n",
    "featuresDF['pixelsx'] = allInfo['pixelsx']\n",
    "featuresDF['pixelsy'] = allInfo['pixelsy']\n",
    "featuresDF['style'] = allInfo['style']\n",
    "featuresDF['genre'] = fileNamesDF['genre']\n",
    "\n",
    "\n",
    "# featuresDF['features'] = pd.Series()"
   ]
  },
  {
   "cell_type": "code",
   "execution_count": 72,
   "metadata": {},
   "outputs": [],
   "source": [
    "def normalizeSeries(series, maxNum):\n",
    "    series = series/maxNum\n",
    "    return series"
   ]
  },
  {
   "cell_type": "code",
   "execution_count": 73,
   "metadata": {},
   "outputs": [],
   "source": [
    "def featurizeImage(filename):\n",
    "    # Extract the features from the actual image\n",
    "    jpgfile = Image.open(\"data/train_1/\" + filename)\n",
    "#     print(jpgfile)\n",
    "    \n",
    "    bands = jpgfile.getbands()\n",
    "    if bands[0] == 'L':\n",
    "        # grayscale image\n",
    "        imageDF = pd.DataFrame(list(jpgfile.getdata()),columns=['grayscale'])\n",
    "#         return imageDF\n",
    "#         imageDF['grayscale'] = normalizeSeries(imageDF['grayscale',])\n",
    "    elif len(bands) == 4:\n",
    "        #get red, green and blue chanels \n",
    "        imageDF = pd.DataFrame(list(jpgfile.getdata()),columns=['red','green','blue','alpha'])\n",
    "        imageDF['red'] = normalizeSeries(imageDF['red'],255)\n",
    "        imageDF['green'] = normalizeSeries(imageDF['green'],255)\n",
    "        imageDF['blue'] = normalizeSeries(imageDF['blue'],255)  \n",
    "        imageDF['alpha'] = normalizeSeries(imageDF['alpha'],255)  \n",
    "    elif len(bands) == 3:\n",
    "        #get red, green and blue chanels \n",
    "        imageDF = pd.DataFrame(list(jpgfile.getdata()),columns=['red','green','blue'])\n",
    "        imageDF['red'] = normalizeSeries(imageDF['red'],255)\n",
    "        imageDF['green'] = normalizeSeries(imageDF['green'],255)\n",
    "        imageDF['blue'] = normalizeSeries(imageDF['blue'],255)  \n",
    "    else:\n",
    "        imageDF = pd.DataFrame(list(jpgfile.getdata()))\n",
    "        print(bands)\n",
    "        return imageDF.mean(), bands\n",
    "    \n",
    "    return imageDF.mean()"
   ]
  },
  {
   "cell_type": "code",
   "execution_count": 74,
   "metadata": {},
   "outputs": [],
   "source": [
    "def pickleDF(fileName,dataFrame,numSplits):\n",
    "    print(numSplits)\n",
    "    dfArray = np.array_split(dataFrame, numSplits)\n",
    "    for i, df in enumerate(dfArray):\n",
    "        df.to_pickle(fileName+\"-\"+str(i))"
   ]
  },
  {
   "cell_type": "code",
   "execution_count": 86,
   "metadata": {},
   "outputs": [],
   "source": [
    "def getImgData(dataFrame,baseName):\n",
    "    sys.stdout.flush()\n",
    "#     index = 0\n",
    "#     while os.path.exists(baseName+\"-\"+str(index)):\n",
    "#         index = index + 1\n",
    "    \n",
    "    newFileName = baseName + \".pckl\"\n",
    "    print(newFileName)\n",
    "    sys.stdout.flush()\n",
    "    featureSeries = []\n",
    "    for row in tqdm(list(dataFrame.index), leave=False): \n",
    "        imageFeatures = featurizeImage(row)\n",
    "        featureSeries.append(imageFeatures)\n",
    "        sys.stdout.flush()\n",
    "    \n",
    "#     print(featureSeries)\n",
    "    dataFrame['features'] = featureSeries\n",
    "#     print(dataFrame['features'])\n",
    "    dataFrame.to_pickle(newFileName)\n",
    "    return dataFrame"
   ]
  },
  {
   "cell_type": "code",
   "execution_count": 87,
   "metadata": {},
   "outputs": [],
   "source": [
    "def concatFrames(dataFrames):\n",
    "    return pd.concat(dataFrames)"
   ]
  },
  {
   "cell_type": "code",
   "execution_count": 88,
   "metadata": {},
   "outputs": [],
   "source": [
    "def loadImagesFromPickles(fileNames):\n",
    "    \n",
    "    dataFrames = []\n",
    "    for fileName in fileNames:\n",
    "        dataFrames.append(pd.read_pickle(fileName))\n",
    "\n",
    "    return concatFrames(dataFrames)"
   ]
  },
  {
   "cell_type": "code",
   "execution_count": null,
   "metadata": {
    "scrolled": false
   },
   "outputs": [
    {
     "name": "stdout",
     "output_type": "stream",
     "text": [
      "10\n",
      "trainImgsAllcolorBands-NewFeatures-0.pckl\n",
      "trainImgsAllcolorBands-NewFeatures-3.pckl\n",
      "trainImgsAllcolorBands-NewFeatures-2.pckl\n",
      "trainImgsAllcolorBands-NewFeatures-1.pckl\n"
     ]
    },
    {
     "data": {
      "application/vnd.jupyter.widget-view+json": {
       "model_id": "",
       "version_major": 2,
       "version_minor": 0
      },
      "text/plain": [
       "HBox(children=(IntProgress(value=0, max=54), HTML(value='')))"
      ]
     },
     "metadata": {},
     "output_type": "display_data"
    },
    {
     "data": {
      "application/vnd.jupyter.widget-view+json": {
       "model_id": "",
       "version_major": 2,
       "version_minor": 0
      },
      "text/plain": [
       "HBox(children=(IntProgress(value=0, max=54), HTML(value='')))"
      ]
     },
     "metadata": {},
     "output_type": "display_data"
    },
    {
     "data": {
      "application/vnd.jupyter.widget-view+json": {
       "model_id": "9fd36d7d7d294f0fbba1136ed6bd9e0f",
       "version_major": 2,
       "version_minor": 0
      },
      "text/plain": [
       "HBox(children=(IntProgress(value=0, max=54), HTML(value='')))"
      ]
     },
     "metadata": {},
     "output_type": "display_data"
    },
    {
     "data": {
      "application/vnd.jupyter.widget-view+json": {
       "model_id": "",
       "version_major": 2,
       "version_minor": 0
      },
      "text/plain": [
       "HBox(children=(IntProgress(value=0, max=54), HTML(value='')))"
      ]
     },
     "metadata": {},
     "output_type": "display_data"
    },
    {
     "name": "stdout",
     "output_type": "stream",
     "text": [
      "trainImgsAllcolorBands-NewFeatures-4.pckl\n"
     ]
    },
    {
     "data": {
      "application/vnd.jupyter.widget-view+json": {
       "model_id": "",
       "version_major": 2,
       "version_minor": 0
      },
      "text/plain": [
       "HBox(children=(IntProgress(value=0, max=54), HTML(value='')))"
      ]
     },
     "metadata": {},
     "output_type": "display_data"
    },
    {
     "name": "stdout",
     "output_type": "stream",
     "text": [
      "trainImgsAllcolorBands-NewFeatures-5.pckl\n"
     ]
    },
    {
     "data": {
      "application/vnd.jupyter.widget-view+json": {
       "model_id": "",
       "version_major": 2,
       "version_minor": 0
      },
      "text/plain": [
       "HBox(children=(IntProgress(value=0, max=53), HTML(value='')))"
      ]
     },
     "metadata": {},
     "output_type": "display_data"
    },
    {
     "name": "stdout",
     "output_type": "stream",
     "text": [
      "trainImgsAllcolorBands-NewFeatures-6.pckl\n"
     ]
    },
    {
     "data": {
      "application/vnd.jupyter.widget-view+json": {
       "model_id": "",
       "version_major": 2,
       "version_minor": 0
      },
      "text/plain": [
       "HBox(children=(IntProgress(value=0, max=53), HTML(value='')))"
      ]
     },
     "metadata": {},
     "output_type": "display_data"
    },
    {
     "name": "stdout",
     "output_type": "stream",
     "text": [
      "trainImgsAllcolorBands-NewFeatures-7.pckl\n"
     ]
    },
    {
     "data": {
      "application/vnd.jupyter.widget-view+json": {
       "model_id": "034b3722893149b2b8130e2692b0e857",
       "version_major": 2,
       "version_minor": 0
      },
      "text/plain": [
       "HBox(children=(IntProgress(value=0, max=53), HTML(value='')))"
      ]
     },
     "metadata": {},
     "output_type": "display_data"
    },
    {
     "name": "stdout",
     "output_type": "stream",
     "text": [
      "trainImgsAllcolorBands-NewFeatures-8.pckl\n"
     ]
    },
    {
     "data": {
      "application/vnd.jupyter.widget-view+json": {
       "model_id": "4cad076c02bc404fb582de7abe94d1d5",
       "version_major": 2,
       "version_minor": 0
      },
      "text/plain": [
       "HBox(children=(IntProgress(value=0, max=53), HTML(value='')))"
      ]
     },
     "metadata": {},
     "output_type": "display_data"
    },
    {
     "name": "stdout",
     "output_type": "stream",
     "text": [
      "trainImgsAllcolorBands-NewFeatures-9.pckl\n"
     ]
    },
    {
     "data": {
      "application/vnd.jupyter.widget-view+json": {
       "model_id": "b1ad88cc08dc4eef974ad7e10deaf972",
       "version_major": 2,
       "version_minor": 0
      },
      "text/plain": [
       "HBox(children=(IntProgress(value=0, max=53), HTML(value='')))"
      ]
     },
     "metadata": {},
     "output_type": "display_data"
    }
   ],
   "source": [
    "baseFileName = 'trainImgsAllcolorBands-NewFeatures'\n",
    "splitFeaturesData = np.array_split(featuresDF,10)\n",
    "print(len(splitFeaturesData))\n",
    "pool = Pool()\n",
    "inputData = [[splitFeaturesData[i], baseFileName+\"-\"+str(i)] for i in range(len(splitFeaturesData))]\n",
    "pool.starmap(getImgData, inputData)\n",
    "pool.close() \n",
    "results = pool.join()"
   ]
  },
  {
   "cell_type": "code",
   "execution_count": null,
   "metadata": {},
   "outputs": [],
   "source": [
    "print(results)"
   ]
  },
  {
   "cell_type": "code",
   "execution_count": null,
   "metadata": {},
   "outputs": [],
   "source": [
    "pickleLoaded = loadImagesFromPickles([baseFileName+\"-\"+str(i)+\".pckl\" for i in range(len(splitFeaturesData))])"
   ]
  },
  {
   "cell_type": "code",
   "execution_count": null,
   "metadata": {},
   "outputs": [],
   "source": [
    "pickleLoaded"
   ]
  },
  {
   "cell_type": "markdown",
   "metadata": {},
   "source": [
    "# Models"
   ]
  },
  {
   "cell_type": "code",
   "execution_count": null,
   "metadata": {},
   "outputs": [],
   "source": [
    "idx2Categorical"
   ]
  }
 ],
 "metadata": {
  "kernelspec": {
   "display_name": "Python 3",
   "language": "python",
   "name": "python3"
  },
  "language_info": {
   "codemirror_mode": {
    "name": "ipython",
    "version": 3
   },
   "file_extension": ".py",
   "mimetype": "text/x-python",
   "name": "python",
   "nbconvert_exporter": "python",
   "pygments_lexer": "ipython3",
   "version": "3.6.5"
  }
 },
 "nbformat": 4,
 "nbformat_minor": 2
}
