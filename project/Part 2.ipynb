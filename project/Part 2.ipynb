{
 "cells": [
  {
   "cell_type": "code",
   "execution_count": 1,
   "metadata": {},
   "outputs": [],
   "source": [
    "%matplotlib inline\n",
    "from PIL import Image\n",
    "import pandas as pd\n",
    "import seaborn as sns\n",
    "from sklearn.linear_model import LogisticRegression\n",
    "import os\n",
    "import itertools\n",
    "from tqdm import *\n",
    "from tqdm import tqdm_notebook as tqdm\n",
    "import random\n",
    "import numpy as np\n",
    "import math\n",
    "import matplotlib.pyplot as plt\n",
    "\n",
    "from IPython.display import clear_output"
   ]
  },
  {
   "cell_type": "markdown",
   "metadata": {},
   "source": [
    "# Step 1: Load Data Set"
   ]
  },
  {
   "cell_type": "code",
   "execution_count": 2,
   "metadata": {},
   "outputs": [],
   "source": [
    "fileNames = []\n",
    "for file in os.listdir(\"data/train_1\"):\n",
    "    if file.endswith(\".jpg\"):\n",
    "        fileNames.append(file)\n",
    "# fileNamesDF = pd.DataFrame(fileNames)"
   ]
  },
  {
   "cell_type": "code",
   "execution_count": 3,
   "metadata": {},
   "outputs": [
    {
     "data": {
      "application/vnd.jupyter.widget-view+json": {
       "model_id": "59d214e5795d4b7380ffac7f76548304",
       "version_major": 2,
       "version_minor": 0
      },
      "text/plain": [
       "HBox(children=(IntProgress(value=0, max=23), HTML(value='')))"
      ]
     },
     "metadata": {},
     "output_type": "display_data"
    },
    {
     "name": "stdout",
     "output_type": "stream",
     "text": [
      "\n"
     ]
    }
   ],
   "source": [
    "#only take certain artist so that the probabilities aren't basically all false when doing the tupples\n",
    "minNumPaintingsPerArtist = 50\n",
    "\n",
    "# #for each artist, only take n of their paintings\n",
    "numPaintingsPerAuthor = 100\n",
    "\n",
    "\n",
    "trainInfo = pd.read_csv('data/train_info.csv')\n",
    "trainInfo = trainInfo[trainInfo['filename'].isin(fileNames)]\n",
    "\n",
    "mostPopularArtists = trainInfo['artist'].value_counts()[trainInfo['artist'].value_counts() > minNumPaintingsPerArtist]\n",
    "# print(mostPopularArtists.head())\n",
    "# fileNamesDFAll = trainInfo[trainInfo['artist'].isin(mostPopularArtists.index)]\n",
    "# print(fileNamesDFAll.head())\n",
    "\n",
    "\n",
    "\n",
    "fileNamesDF = pd.DataFrame()\n",
    "for artist in tqdm(mostPopularArtists.index):\n",
    "    fileNamesDF = fileNamesDF.append(trainInfo[trainInfo['artist'] == artist][:numPaintingsPerAuthor])"
   ]
  },
  {
   "cell_type": "code",
   "execution_count": 4,
   "metadata": {},
   "outputs": [],
   "source": [
    "# Load the all_data_info for the dataset we are using\n",
    "allInfo = pd.read_csv('data/all_data_info.csv')\n",
    "allInfo = allInfo[allInfo['new_filename'].isin(fileNamesDF['filename'])]\n",
    "\n",
    "featuresDF = pd.DataFrame(allInfo['new_filename'])\n",
    "featuresDF['pixelsx'] = allInfo['pixelsx']\n",
    "featuresDF['pixelsy'] = allInfo['pixelsy']"
   ]
  },
  {
   "cell_type": "code",
   "execution_count": 5,
   "metadata": {},
   "outputs": [],
   "source": [
    "def normalizeSeries(series, maxNum):\n",
    "    series = series/maxNum\n",
    "    return series"
   ]
  },
  {
   "cell_type": "code",
   "execution_count": 6,
   "metadata": {},
   "outputs": [],
   "source": [
    "def featurizeImage(filename):\n",
    "    # Extract the features from the actual image\n",
    "    jpgfile = Image.open(\"data/train_1/\" + filename)\n",
    "#     print(jpgfile)\n",
    "    \n",
    "    bands = jpgfile.getbands()\n",
    "    if bands[0] == 'L':\n",
    "        # grayscale image\n",
    "        imageDF = pd.DataFrame(list(jpgfile.getdata()),columns=['grayscale'])\n",
    "#         imageDF['grayscale'] = normalizeSeries(imageDF['grayscale',])\n",
    "    elif len(bands) == 4:\n",
    "        #get red, green and blue chanels \n",
    "        imageDF = pd.DataFrame(list(jpgfile.getdata()),columns=['red','green','blue','alpha'])\n",
    "        imageDF['red'] = normalizeSeries(imageDF['red'],255)\n",
    "        imageDF['green'] = normalizeSeries(imageDF['green'],255)\n",
    "        imageDF['blue'] = normalizeSeries(imageDF['blue'],255)  \n",
    "        imageDF['alpha'] = normalizeSeries(imageDF['alpha'],255)  \n",
    "    elif len(bands) == 3:\n",
    "        #get red, green and blue chanels \n",
    "        imageDF = pd.DataFrame(list(jpgfile.getdata()),columns=['red','green','blue'])\n",
    "        imageDF['red'] = normalizeSeries(imageDF['red'],255)\n",
    "        imageDF['green'] = normalizeSeries(imageDF['green'],255)\n",
    "        imageDF['blue'] = normalizeSeries(imageDF['blue'],255)  \n",
    "    else:\n",
    "        imageDF = pd.DataFrame(list(jpgfile.getdata()))\n",
    "        print(bands)\n",
    "        return imageDF, bands\n",
    "\n",
    "    return imageDF"
   ]
  },
  {
   "cell_type": "code",
   "execution_count": 14,
   "metadata": {
    "scrolled": false
   },
   "outputs": [
    {
     "data": {
      "text/plain": [
       "Int64Index([  201,   602,   697,   773,   784,   829,   854,   867,   879,\n",
       "              891,\n",
       "            ...\n",
       "            81867, 82039, 82905, 84014, 90393, 92193, 93066, 93403, 96412,\n",
       "            97634],\n",
       "           dtype='int64', length=1276)"
      ]
     },
     "execution_count": 14,
     "metadata": {},
     "output_type": "execute_result"
    }
   ],
   "source": [
    "featuresDF.index"
   ]
  },
  {
   "cell_type": "code",
   "execution_count": 35,
   "metadata": {},
   "outputs": [
    {
     "data": {
      "text/plain": [
       "float"
      ]
     },
     "execution_count": 35,
     "metadata": {},
     "output_type": "execute_result"
    }
   ],
   "source": []
  },
  {
   "cell_type": "code",
   "execution_count": null,
   "metadata": {},
   "outputs": [
    {
     "name": "stdout",
     "output_type": "stream",
     "text": [
      "                                                features\n",
      "201                   red     green      blue\\n0     ...\n",
      "602                   red     green      blue\\n0     ...\n",
      "697                   red     green      blue\\n0     ...\n",
      "773              grayscale\\n0               248\\n1   ...\n",
      "784                   red     green      blue\\n0     ...\n",
      "829                   red     green      blue\\n0     ...\n",
      "854                   red     green      blue\\n0     ...\n",
      "867                   red     green      blue\\n0     ...\n",
      "879                   red     green      blue\\n0     ...\n",
      "891                   red     green      blue\\n0     ...\n",
      "893                  red     green      blue\\n0      ...\n",
      "921                  red     green      blue\\n0      ...\n",
      "933                  red     green      blue\\n0      ...\n",
      "949                  red     green      blue\\n0      ...\n",
      "1011                 red     green      blue\\n0      ...\n",
      "1050                 red     green      blue\\n0      ...\n",
      "1063                 red     green      blue\\n0      ...\n",
      "1436                 red     green      blue\\n0      ...\n",
      "1578                 red     green      blue\\n0      ...\n",
      "1624                 red     green      blue\\n0      ...\n",
      "1725                 red     green      blue\\n0      ...\n",
      "1816                 red     green      blue\\n0      ...\n",
      "1870                 red     green      blue\\n0      ...\n",
      "1921                 red     green      blue\\n0      ...\n",
      "2026                 red     green      blue\\n0      ...\n",
      "2032                 red     green      blue\\n0      ...\n",
      "2041                 red     green      blue\\n0      ...\n",
      "2067                 red     green      blue\\n0      ...\n",
      "2110                 red     green      blue\\n0      ...\n",
      "2133                 red     green      blue\\n0      ...\n",
      "...                                                  ...\n",
      "75853                                                NaN\n",
      "76084                                                NaN\n",
      "76158                                                NaN\n",
      "76218                                                NaN\n",
      "76416                                                NaN\n",
      "76523                                                NaN\n",
      "76906                                                NaN\n",
      "77408                                                NaN\n",
      "77880                                                NaN\n",
      "78103                                                NaN\n",
      "78121                                                NaN\n",
      "78545                                                NaN\n",
      "78998                                                NaN\n",
      "79169                                                NaN\n",
      "79422                                                NaN\n",
      "79847                                                NaN\n",
      "80531                                                NaN\n",
      "80615                                                NaN\n",
      "80845                                                NaN\n",
      "80938                                                NaN\n",
      "81867                                                NaN\n",
      "82039                                                NaN\n",
      "82905                                                NaN\n",
      "84014                                                NaN\n",
      "90393                                                NaN\n",
      "92193                                                NaN\n",
      "93066                                                NaN\n",
      "93403                                                NaN\n",
      "96412                                                NaN\n",
      "97634                                                NaN\n",
      "\n",
      "[1276 rows x 1 columns]\n"
     ]
    },
    {
     "data": {
      "application/vnd.jupyter.widget-view+json": {
       "model_id": "195a7f6217fe423fb47c0d794cb25b92",
       "version_major": 2,
       "version_minor": 0
      },
      "text/plain": [
       "HBox(children=(IntProgress(value=0, max=1276), HTML(value='')))"
      ]
     },
     "metadata": {},
     "output_type": "display_data"
    },
    {
     "name": "stdout",
     "output_type": "stream",
     "text": [
      "201\n",
      "\n",
      "602\n",
      "697\n"
     ]
    }
   ],
   "source": [
    "# imageFeaturesDF = pd.DataFrame(index=featuresDF.index,columns=['features']) \n",
    "imageFeaturesDF = pd.read_csv('trainImgsAllcolorBands.csv',index_col=0)\n",
    "for row in tqdm(list(featuresDF.index)):\n",
    "    if (type(imageFeaturesDF.loc[row]['features']) != str):\n",
    "        print(row)\n",
    "        imageFeatures = featurizeImage(featuresDF.loc[row]['new_filename'])\n",
    "        imageFeaturesDF.loc[row]['features'] = imageFeatures\n",
    "        imageFeaturesDF.to_csv('trainImgsAllcolorBands.csv')\n"
   ]
  },
  {
   "cell_type": "code",
   "execution_count": null,
   "metadata": {},
   "outputs": [],
   "source": [
    "imageFeaturesDF.head()"
   ]
  },
  {
   "cell_type": "code",
   "execution_count": null,
   "metadata": {},
   "outputs": [],
   "source": []
  },
  {
   "cell_type": "code",
   "execution_count": null,
   "metadata": {},
   "outputs": [],
   "source": []
  }
 ],
 "metadata": {
  "kernelspec": {
   "display_name": "Python 3",
   "language": "python",
   "name": "python3"
  },
  "language_info": {
   "codemirror_mode": {
    "name": "ipython",
    "version": 3
   },
   "file_extension": ".py",
   "mimetype": "text/x-python",
   "name": "python",
   "nbconvert_exporter": "python",
   "pygments_lexer": "ipython3",
   "version": "3.6.5"
  }
 },
 "nbformat": 4,
 "nbformat_minor": 2
}
