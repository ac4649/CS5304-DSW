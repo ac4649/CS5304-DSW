{
 "cells": [
  {
   "cell_type": "code",
   "execution_count": 50,
   "metadata": {},
   "outputs": [],
   "source": [
    "%matplotlib inline\n",
    "from PIL import Image\n",
    "import pandas as pd\n",
    "import seaborn as sns\n",
    "from sklearn.linear_model import LogisticRegression\n",
    "from sklearn.ensemble import RandomForestClassifier\n",
    "import os\n",
    "import itertools\n",
    "from tqdm import *\n",
    "from tqdm import tqdm_notebook as tqdm\n",
    "import random\n",
    "import numpy as np\n",
    "import math\n",
    "import matplotlib\n",
    "import matplotlib.pyplot as plt\n",
    "\n",
    "from IPython.display import clear_output\n",
    "\n",
    "from io import StringIO\n",
    "import re\n",
    "\n",
    "import pickle\n",
    "import os\n",
    "\n",
    "from multiprocessing import Pool \n",
    "from itertools import product\n",
    "import sys\n",
    "from functools import partial\n",
    "\n"
   ]
  },
  {
   "cell_type": "markdown",
   "metadata": {},
   "source": [
    "# Step 1: Load Data Set"
   ]
  },
  {
   "cell_type": "code",
   "execution_count": 3,
   "metadata": {},
   "outputs": [],
   "source": [
    "fileNames = []\n",
    "for file in os.listdir(\"data/train_1\"):\n",
    "    if file.endswith(\".jpg\"):\n",
    "        fileNames.append(file)\n",
    "# fileNamesDF = pd.DataFrame(fileNames)"
   ]
  },
  {
   "cell_type": "code",
   "execution_count": 4,
   "metadata": {
    "scrolled": false
   },
   "outputs": [
    {
     "data": {
      "application/vnd.jupyter.widget-view+json": {
       "model_id": "34cbcc2e17314d5a8f896da9b30f98e1",
       "version_major": 2,
       "version_minor": 0
      },
      "text/plain": [
       "HBox(children=(IntProgress(value=0, max=9), HTML(value='')))"
      ]
     },
     "metadata": {},
     "output_type": "display_data"
    },
    {
     "name": "stdout",
     "output_type": "stream",
     "text": [
      "\n"
     ]
    }
   ],
   "source": [
    "#only take certain artist so that the probabilities aren't basically all false when doing the tupples\n",
    "minNumPaintingsPerArtist = 55\n",
    "\n",
    "# #for each artist, only take n of their paintings\n",
    "numPaintingsPerAuthor = 100\n",
    "\n",
    "\n",
    "trainInfo = pd.read_csv('data/train_info.csv')\n",
    "trainInfo = trainInfo[trainInfo['filename'].isin(fileNames)]\n",
    "\n",
    "mostPopularArtists = trainInfo['artist'].value_counts()[trainInfo['artist'].value_counts() > minNumPaintingsPerArtist]\n",
    "# print(mostPopularArtists.head())\n",
    "# fileNamesDFAll = trainInfo[trainInfo['artist'].isin(mostPopularArtists.index)]\n",
    "# print(fileNamesDFAll.head())\n",
    "\n",
    "fileNamesDF = pd.DataFrame()\n",
    "moreInfo = pd.DataFrame()\n",
    "for artist in tqdm(mostPopularArtists.index):\n",
    "    fileNamesDF = fileNamesDF.append(trainInfo[trainInfo['artist'] == artist][:numPaintingsPerAuthor])\n",
    "    \n",
    "fileNamesDF.set_index('filename', inplace=True)"
   ]
  },
  {
   "cell_type": "code",
   "execution_count": 5,
   "metadata": {},
   "outputs": [
    {
     "data": {
      "text/plain": [
       "0eeac4ecff259dc515be795e1a76019a    70\n",
       "121fffad1eb6f7dff228b8a71b6aec72    60\n",
       "d09f796f2b0aa11dffc88badd9806119    59\n",
       "dd4989789d310581024ae2b9203d5439    58\n",
       "6f80666437feea42f295cdc0f1eb4df9    58\n",
       "f7e1cb7b67e7b154d9dca7d12879d7b0    58\n",
       "db1318d32df7428076e03513ebf762bb    58\n",
       "c3e9d9ebe5f2900190bef9342c440bd9    58\n",
       "8a1a67964c0cbea29fc9801b5c42c553    56\n",
       "Name: artist, dtype: int64"
      ]
     },
     "execution_count": 5,
     "metadata": {},
     "output_type": "execute_result"
    }
   ],
   "source": [
    "mostPopularArtists"
   ]
  },
  {
   "cell_type": "code",
   "execution_count": 6,
   "metadata": {},
   "outputs": [],
   "source": [
    "# Load the all_data_info for the dataset we are using\n",
    "allInfo = pd.read_csv('data/all_data_info.csv')\n",
    "allInfo.set_index('new_filename', inplace=True)\n",
    "\n",
    "allInfo = allInfo[allInfo.index.isin(fileNamesDF.index)]\n",
    "\n",
    "\n",
    "featuresDF = pd.DataFrame(index=allInfo.index)\n",
    "featuresDF['pixelsx'] = allInfo['pixelsx']\n",
    "featuresDF['pixelsy'] = allInfo['pixelsy']\n",
    "featuresDF['style'] = allInfo['style']\n",
    "featuresDF['genre'] = fileNamesDF['genre']\n",
    "\n",
    "\n",
    "# featuresDF['features'] = pd.Series()"
   ]
  },
  {
   "cell_type": "code",
   "execution_count": 7,
   "metadata": {},
   "outputs": [
    {
     "data": {
      "text/html": [
       "<div>\n",
       "<style scoped>\n",
       "    .dataframe tbody tr th:only-of-type {\n",
       "        vertical-align: middle;\n",
       "    }\n",
       "\n",
       "    .dataframe tbody tr th {\n",
       "        vertical-align: top;\n",
       "    }\n",
       "\n",
       "    .dataframe thead th {\n",
       "        text-align: right;\n",
       "    }\n",
       "</style>\n",
       "<table border=\"1\" class=\"dataframe\">\n",
       "  <thead>\n",
       "    <tr style=\"text-align: right;\">\n",
       "      <th></th>\n",
       "      <th>artist</th>\n",
       "      <th>date</th>\n",
       "      <th>genre</th>\n",
       "      <th>pixelsx</th>\n",
       "      <th>pixelsy</th>\n",
       "      <th>size_bytes</th>\n",
       "      <th>source</th>\n",
       "      <th>style</th>\n",
       "      <th>title</th>\n",
       "      <th>artist_group</th>\n",
       "      <th>in_train</th>\n",
       "    </tr>\n",
       "    <tr>\n",
       "      <th>new_filename</th>\n",
       "      <th></th>\n",
       "      <th></th>\n",
       "      <th></th>\n",
       "      <th></th>\n",
       "      <th></th>\n",
       "      <th></th>\n",
       "      <th></th>\n",
       "      <th></th>\n",
       "      <th></th>\n",
       "      <th></th>\n",
       "      <th></th>\n",
       "    </tr>\n",
       "  </thead>\n",
       "  <tbody>\n",
       "    <tr>\n",
       "      <th>15075.jpg</th>\n",
       "      <td>Albrecht Durer</td>\n",
       "      <td>NaN</td>\n",
       "      <td>sketch and study</td>\n",
       "      <td>2536.0</td>\n",
       "      <td>2929.0</td>\n",
       "      <td>621267.0</td>\n",
       "      <td>wikiart</td>\n",
       "      <td>Northern Renaissance</td>\n",
       "      <td>Study of a body of Christ</td>\n",
       "      <td>train_and_test</td>\n",
       "      <td>True</td>\n",
       "    </tr>\n",
       "    <tr>\n",
       "      <th>18039.jpg</th>\n",
       "      <td>Albrecht Durer</td>\n",
       "      <td>1506</td>\n",
       "      <td>religious painting</td>\n",
       "      <td>2352.0</td>\n",
       "      <td>3129.0</td>\n",
       "      <td>1046324.0</td>\n",
       "      <td>wikiart</td>\n",
       "      <td>Northern Renaissance</td>\n",
       "      <td>Madonna with the Siskin</td>\n",
       "      <td>train_and_test</td>\n",
       "      <td>True</td>\n",
       "    </tr>\n",
       "    <tr>\n",
       "      <th>1053.jpg</th>\n",
       "      <td>Albrecht Durer</td>\n",
       "      <td>NaN</td>\n",
       "      <td>design</td>\n",
       "      <td>2536.0</td>\n",
       "      <td>2836.0</td>\n",
       "      <td>725632.0</td>\n",
       "      <td>wikiart</td>\n",
       "      <td>Northern Renaissance</td>\n",
       "      <td>Wappen Pirckheimer</td>\n",
       "      <td>train_and_test</td>\n",
       "      <td>True</td>\n",
       "    </tr>\n",
       "    <tr>\n",
       "      <th>1458.jpg</th>\n",
       "      <td>Albrecht Durer</td>\n",
       "      <td>NaN</td>\n",
       "      <td>miniature</td>\n",
       "      <td>2394.0</td>\n",
       "      <td>3000.0</td>\n",
       "      <td>693310.0</td>\n",
       "      <td>wikiart</td>\n",
       "      <td>Northern Renaissance</td>\n",
       "      <td>Draft for a book sign lion</td>\n",
       "      <td>train_and_test</td>\n",
       "      <td>True</td>\n",
       "    </tr>\n",
       "    <tr>\n",
       "      <th>18076.jpg</th>\n",
       "      <td>Odilon Redon</td>\n",
       "      <td>NaN</td>\n",
       "      <td>flower painting</td>\n",
       "      <td>2232.0</td>\n",
       "      <td>3198.0</td>\n",
       "      <td>3950198.0</td>\n",
       "      <td>wikiart</td>\n",
       "      <td>Realism</td>\n",
       "      <td>The Red Poppy</td>\n",
       "      <td>train_and_test</td>\n",
       "      <td>True</td>\n",
       "    </tr>\n",
       "    <tr>\n",
       "      <th>13849.jpg</th>\n",
       "      <td>Albrecht Durer</td>\n",
       "      <td>NaN</td>\n",
       "      <td>portrait</td>\n",
       "      <td>2360.0</td>\n",
       "      <td>3000.0</td>\n",
       "      <td>757619.0</td>\n",
       "      <td>wikiart</td>\n",
       "      <td>Northern Renaissance</td>\n",
       "      <td>Portrait of a Woman</td>\n",
       "      <td>train_and_test</td>\n",
       "      <td>True</td>\n",
       "    </tr>\n",
       "    <tr>\n",
       "      <th>1805.jpg</th>\n",
       "      <td>Albrecht Durer</td>\n",
       "      <td>NaN</td>\n",
       "      <td>portrait</td>\n",
       "      <td>2220.0</td>\n",
       "      <td>3000.0</td>\n",
       "      <td>830408.0</td>\n",
       "      <td>wikiart</td>\n",
       "      <td>Northern Renaissance</td>\n",
       "      <td>Portrait of Conrat Verkell</td>\n",
       "      <td>train_and_test</td>\n",
       "      <td>True</td>\n",
       "    </tr>\n",
       "    <tr>\n",
       "      <th>19349.jpg</th>\n",
       "      <td>Odilon Redon</td>\n",
       "      <td>1900</td>\n",
       "      <td>symbolic painting</td>\n",
       "      <td>2536.0</td>\n",
       "      <td>2602.0</td>\n",
       "      <td>497502.0</td>\n",
       "      <td>wikiart</td>\n",
       "      <td>Symbolism</td>\n",
       "      <td>Silence</td>\n",
       "      <td>train_and_test</td>\n",
       "      <td>True</td>\n",
       "    </tr>\n",
       "    <tr>\n",
       "      <th>10199.jpg</th>\n",
       "      <td>Albrecht Durer</td>\n",
       "      <td>NaN</td>\n",
       "      <td>religious painting</td>\n",
       "      <td>2187.0</td>\n",
       "      <td>3000.0</td>\n",
       "      <td>850580.0</td>\n",
       "      <td>wikipedia</td>\n",
       "      <td>Northern Renaissance</td>\n",
       "      <td>Christ on the Mount of Olives</td>\n",
       "      <td>train_and_test</td>\n",
       "      <td>True</td>\n",
       "    </tr>\n",
       "    <tr>\n",
       "      <th>12105.jpg</th>\n",
       "      <td>Albrecht Durer</td>\n",
       "      <td>NaN</td>\n",
       "      <td>religious painting</td>\n",
       "      <td>2179.0</td>\n",
       "      <td>3000.0</td>\n",
       "      <td>778661.0</td>\n",
       "      <td>wikiart</td>\n",
       "      <td>Northern Renaissance</td>\n",
       "      <td>St. Fridolin</td>\n",
       "      <td>train_and_test</td>\n",
       "      <td>True</td>\n",
       "    </tr>\n",
       "    <tr>\n",
       "      <th>103162.jpg</th>\n",
       "      <td>Albrecht Durer</td>\n",
       "      <td>NaN</td>\n",
       "      <td>design</td>\n",
       "      <td>2176.0</td>\n",
       "      <td>3000.0</td>\n",
       "      <td>526393.0</td>\n",
       "      <td>wikiart</td>\n",
       "      <td>Northern Renaissance</td>\n",
       "      <td>Design to a court dress</td>\n",
       "      <td>train_and_test</td>\n",
       "      <td>True</td>\n",
       "    </tr>\n",
       "    <tr>\n",
       "      <th>1756.jpg</th>\n",
       "      <td>Albrecht Durer</td>\n",
       "      <td>NaN</td>\n",
       "      <td>sketch and study</td>\n",
       "      <td>2175.0</td>\n",
       "      <td>3000.0</td>\n",
       "      <td>722528.0</td>\n",
       "      <td>wikiart</td>\n",
       "      <td>Northern Renaissance</td>\n",
       "      <td>The justice of Trajan</td>\n",
       "      <td>train_and_test</td>\n",
       "      <td>True</td>\n",
       "    </tr>\n",
       "    <tr>\n",
       "      <th>18801.jpg</th>\n",
       "      <td>Albrecht Durer</td>\n",
       "      <td>NaN</td>\n",
       "      <td>religious painting</td>\n",
       "      <td>3000.0</td>\n",
       "      <td>2150.0</td>\n",
       "      <td>1036158.0</td>\n",
       "      <td>wikiart</td>\n",
       "      <td>Northern Renaissance</td>\n",
       "      <td>Christ</td>\n",
       "      <td>train_and_test</td>\n",
       "      <td>True</td>\n",
       "    </tr>\n",
       "    <tr>\n",
       "      <th>13513.jpg</th>\n",
       "      <td>Albrecht Durer</td>\n",
       "      <td>NaN</td>\n",
       "      <td>sketch and study</td>\n",
       "      <td>3000.0</td>\n",
       "      <td>2130.0</td>\n",
       "      <td>834393.0</td>\n",
       "      <td>wikiart</td>\n",
       "      <td>Northern Renaissance</td>\n",
       "      <td>Christ boy</td>\n",
       "      <td>train_and_test</td>\n",
       "      <td>True</td>\n",
       "    </tr>\n",
       "    <tr>\n",
       "      <th>19114.jpg</th>\n",
       "      <td>Albrecht Durer</td>\n",
       "      <td>NaN</td>\n",
       "      <td>sketch and study</td>\n",
       "      <td>3000.0</td>\n",
       "      <td>2083.0</td>\n",
       "      <td>675308.0</td>\n",
       "      <td>wikiart</td>\n",
       "      <td>Northern Renaissance</td>\n",
       "      <td>Studies on a great \"picture of the Virgin\"   M...</td>\n",
       "      <td>train_and_test</td>\n",
       "      <td>True</td>\n",
       "    </tr>\n",
       "    <tr>\n",
       "      <th>1707.jpg</th>\n",
       "      <td>Albrecht Durer</td>\n",
       "      <td>1506</td>\n",
       "      <td>portrait</td>\n",
       "      <td>2024.0</td>\n",
       "      <td>2987.0</td>\n",
       "      <td>746235.0</td>\n",
       "      <td>wikiart</td>\n",
       "      <td>Northern Renaissance</td>\n",
       "      <td>Portrait of an architect</td>\n",
       "      <td>train_and_test</td>\n",
       "      <td>True</td>\n",
       "    </tr>\n",
       "    <tr>\n",
       "      <th>19728.jpg</th>\n",
       "      <td>Albrecht Durer</td>\n",
       "      <td>NaN</td>\n",
       "      <td>design</td>\n",
       "      <td>2024.0</td>\n",
       "      <td>2986.0</td>\n",
       "      <td>907849.0</td>\n",
       "      <td>wikiart</td>\n",
       "      <td>Northern Renaissance</td>\n",
       "      <td>Design for All Saints picture</td>\n",
       "      <td>train_and_test</td>\n",
       "      <td>True</td>\n",
       "    </tr>\n",
       "    <tr>\n",
       "      <th>15902.jpg</th>\n",
       "      <td>Albrecht Durer</td>\n",
       "      <td>1500</td>\n",
       "      <td>self-portrait</td>\n",
       "      <td>2052.0</td>\n",
       "      <td>2876.0</td>\n",
       "      <td>805305.0</td>\n",
       "      <td>wikiart</td>\n",
       "      <td>Northern Renaissance</td>\n",
       "      <td>Self-Portrait at the Age of Twenty Eight</td>\n",
       "      <td>train_and_test</td>\n",
       "      <td>True</td>\n",
       "    </tr>\n",
       "    <tr>\n",
       "      <th>16923.jpg</th>\n",
       "      <td>Albrecht Durer</td>\n",
       "      <td>NaN</td>\n",
       "      <td>portrait</td>\n",
       "      <td>1960.0</td>\n",
       "      <td>3000.0</td>\n",
       "      <td>566940.0</td>\n",
       "      <td>wikiart</td>\n",
       "      <td>Northern Renaissance</td>\n",
       "      <td>Nuremberg woman in house dress</td>\n",
       "      <td>train_and_test</td>\n",
       "      <td>True</td>\n",
       "    </tr>\n",
       "    <tr>\n",
       "      <th>1975.jpg</th>\n",
       "      <td>Albrecht Durer</td>\n",
       "      <td>c.1519</td>\n",
       "      <td>portrait</td>\n",
       "      <td>2024.0</td>\n",
       "      <td>2859.0</td>\n",
       "      <td>1339510.0</td>\n",
       "      <td>wikiart</td>\n",
       "      <td>Northern Renaissance</td>\n",
       "      <td>Portrait of Jakob Fugger</td>\n",
       "      <td>train_and_test</td>\n",
       "      <td>True</td>\n",
       "    </tr>\n",
       "    <tr>\n",
       "      <th>101535.jpg</th>\n",
       "      <td>Albrecht Durer</td>\n",
       "      <td>1514</td>\n",
       "      <td>portrait</td>\n",
       "      <td>2024.0</td>\n",
       "      <td>2814.0</td>\n",
       "      <td>688790.0</td>\n",
       "      <td>wikiart</td>\n",
       "      <td>Northern Renaissance</td>\n",
       "      <td>Portrait of the Artist's Mother</td>\n",
       "      <td>train_and_test</td>\n",
       "      <td>True</td>\n",
       "    </tr>\n",
       "    <tr>\n",
       "      <th>12078.jpg</th>\n",
       "      <td>Albrecht Durer</td>\n",
       "      <td>NaN</td>\n",
       "      <td>religious painting</td>\n",
       "      <td>1859.0</td>\n",
       "      <td>3000.0</td>\n",
       "      <td>733785.0</td>\n",
       "      <td>wikiart</td>\n",
       "      <td>Northern Renaissance</td>\n",
       "      <td>St. Paul</td>\n",
       "      <td>train_and_test</td>\n",
       "      <td>True</td>\n",
       "    </tr>\n",
       "    <tr>\n",
       "      <th>11430.jpg</th>\n",
       "      <td>Albrecht Durer</td>\n",
       "      <td>NaN</td>\n",
       "      <td>religious painting</td>\n",
       "      <td>1855.0</td>\n",
       "      <td>3000.0</td>\n",
       "      <td>718261.0</td>\n",
       "      <td>wikiart</td>\n",
       "      <td>Northern Renaissance</td>\n",
       "      <td>Lamentation</td>\n",
       "      <td>train_and_test</td>\n",
       "      <td>True</td>\n",
       "    </tr>\n",
       "    <tr>\n",
       "      <th>19187.jpg</th>\n",
       "      <td>Albrecht Durer</td>\n",
       "      <td>1506</td>\n",
       "      <td>religious painting</td>\n",
       "      <td>2550.0</td>\n",
       "      <td>2129.0</td>\n",
       "      <td>658873.0</td>\n",
       "      <td>wikiart</td>\n",
       "      <td>Northern Renaissance</td>\n",
       "      <td>Christ among the Doctors</td>\n",
       "      <td>train_and_test</td>\n",
       "      <td>True</td>\n",
       "    </tr>\n",
       "    <tr>\n",
       "      <th>19584.jpg</th>\n",
       "      <td>Albrecht Durer</td>\n",
       "      <td>1508</td>\n",
       "      <td>sketch and study</td>\n",
       "      <td>1770.0</td>\n",
       "      <td>3000.0</td>\n",
       "      <td>964195.0</td>\n",
       "      <td>wikiart</td>\n",
       "      <td>Northern Renaissance</td>\n",
       "      <td>Standing Apostle</td>\n",
       "      <td>train_and_test</td>\n",
       "      <td>True</td>\n",
       "    </tr>\n",
       "    <tr>\n",
       "      <th>17732.jpg</th>\n",
       "      <td>Albrecht Durer</td>\n",
       "      <td>1495</td>\n",
       "      <td>animal painting</td>\n",
       "      <td>3000.0</td>\n",
       "      <td>1711.0</td>\n",
       "      <td>788684.0</td>\n",
       "      <td>wikiart</td>\n",
       "      <td>Northern Renaissance</td>\n",
       "      <td>A lobster</td>\n",
       "      <td>train_and_test</td>\n",
       "      <td>True</td>\n",
       "    </tr>\n",
       "    <tr>\n",
       "      <th>12572.jpg</th>\n",
       "      <td>Albrecht Durer</td>\n",
       "      <td>c.1496</td>\n",
       "      <td>religious painting</td>\n",
       "      <td>2024.0</td>\n",
       "      <td>2531.0</td>\n",
       "      <td>649609.0</td>\n",
       "      <td>wikiart</td>\n",
       "      <td>Northern Renaissance</td>\n",
       "      <td>Lot's escape</td>\n",
       "      <td>train_and_test</td>\n",
       "      <td>True</td>\n",
       "    </tr>\n",
       "    <tr>\n",
       "      <th>17440.jpg</th>\n",
       "      <td>Pierre-Auguste Renoir</td>\n",
       "      <td>1882</td>\n",
       "      <td>portrait</td>\n",
       "      <td>2536.0</td>\n",
       "      <td>2016.0</td>\n",
       "      <td>524173.0</td>\n",
       "      <td>wikiart</td>\n",
       "      <td>Impressionism</td>\n",
       "      <td>Portrait of Charles and Georges Durand Ruel</td>\n",
       "      <td>train_and_test</td>\n",
       "      <td>True</td>\n",
       "    </tr>\n",
       "    <tr>\n",
       "      <th>14400.jpg</th>\n",
       "      <td>Albrecht Durer</td>\n",
       "      <td>NaN</td>\n",
       "      <td>mythological painting</td>\n",
       "      <td>2536.0</td>\n",
       "      <td>1917.0</td>\n",
       "      <td>552104.0</td>\n",
       "      <td>wikiart</td>\n",
       "      <td>Northern Renaissance</td>\n",
       "      <td>Nymph</td>\n",
       "      <td>train_and_test</td>\n",
       "      <td>True</td>\n",
       "    </tr>\n",
       "    <tr>\n",
       "      <th>18483.jpg</th>\n",
       "      <td>Albrecht Durer</td>\n",
       "      <td>NaN</td>\n",
       "      <td>religious painting</td>\n",
       "      <td>1560.0</td>\n",
       "      <td>3000.0</td>\n",
       "      <td>420044.0</td>\n",
       "      <td>wikiart</td>\n",
       "      <td>Northern Renaissance</td>\n",
       "      <td>The evil thief</td>\n",
       "      <td>train_and_test</td>\n",
       "      <td>True</td>\n",
       "    </tr>\n",
       "    <tr>\n",
       "      <th>...</th>\n",
       "      <td>...</td>\n",
       "      <td>...</td>\n",
       "      <td>...</td>\n",
       "      <td>...</td>\n",
       "      <td>...</td>\n",
       "      <td>...</td>\n",
       "      <td>...</td>\n",
       "      <td>...</td>\n",
       "      <td>...</td>\n",
       "      <td>...</td>\n",
       "      <td>...</td>\n",
       "    </tr>\n",
       "    <tr>\n",
       "      <th>16970.jpg</th>\n",
       "      <td>Nicholas Roerich</td>\n",
       "      <td>1916</td>\n",
       "      <td>portrait</td>\n",
       "      <td>800.0</td>\n",
       "      <td>649.0</td>\n",
       "      <td>107503.0</td>\n",
       "      <td>wikiart</td>\n",
       "      <td>Art Nouveau (Modern)</td>\n",
       "      <td>Prince (Knyaz)</td>\n",
       "      <td>train_and_test</td>\n",
       "      <td>True</td>\n",
       "    </tr>\n",
       "    <tr>\n",
       "      <th>1655.jpg</th>\n",
       "      <td>Eugene Boudin</td>\n",
       "      <td>c.1875</td>\n",
       "      <td>marina</td>\n",
       "      <td>862.0</td>\n",
       "      <td>600.0</td>\n",
       "      <td>126894.0</td>\n",
       "      <td>wikiart</td>\n",
       "      <td>Impressionism</td>\n",
       "      <td>High seas</td>\n",
       "      <td>train_and_test</td>\n",
       "      <td>True</td>\n",
       "    </tr>\n",
       "    <tr>\n",
       "      <th>18186.jpg</th>\n",
       "      <td>Nicholas Roerich</td>\n",
       "      <td>1918</td>\n",
       "      <td>illustration</td>\n",
       "      <td>800.0</td>\n",
       "      <td>645.0</td>\n",
       "      <td>185578.0</td>\n",
       "      <td>wikiart</td>\n",
       "      <td>Art Nouveau (Modern)</td>\n",
       "      <td>Vignette for book \"N. K. Roerich\"</td>\n",
       "      <td>train_and_test</td>\n",
       "      <td>True</td>\n",
       "    </tr>\n",
       "    <tr>\n",
       "      <th>101943.jpg</th>\n",
       "      <td>Odilon Redon</td>\n",
       "      <td>c.1910</td>\n",
       "      <td>religious painting</td>\n",
       "      <td>635.0</td>\n",
       "      <td>800.0</td>\n",
       "      <td>133296.0</td>\n",
       "      <td>wikiart</td>\n",
       "      <td>Symbolism</td>\n",
       "      <td>Saint Sebastian</td>\n",
       "      <td>train_and_test</td>\n",
       "      <td>True</td>\n",
       "    </tr>\n",
       "    <tr>\n",
       "      <th>12225.jpg</th>\n",
       "      <td>Eugene Boudin</td>\n",
       "      <td>NaN</td>\n",
       "      <td>marina</td>\n",
       "      <td>938.0</td>\n",
       "      <td>535.0</td>\n",
       "      <td>117109.0</td>\n",
       "      <td>wikiart</td>\n",
       "      <td>Impressionism</td>\n",
       "      <td>Antwerp, Boats on the River Escaut</td>\n",
       "      <td>train_and_test</td>\n",
       "      <td>True</td>\n",
       "    </tr>\n",
       "    <tr>\n",
       "      <th>16859.jpg</th>\n",
       "      <td>Nicholas Roerich</td>\n",
       "      <td>1912</td>\n",
       "      <td>design</td>\n",
       "      <td>838.0</td>\n",
       "      <td>594.0</td>\n",
       "      <td>127884.0</td>\n",
       "      <td>wikiart</td>\n",
       "      <td>Art Nouveau (Modern)</td>\n",
       "      <td>Study of scene design for \"Peer Gynt\"</td>\n",
       "      <td>train_and_test</td>\n",
       "      <td>True</td>\n",
       "    </tr>\n",
       "    <tr>\n",
       "      <th>11832.jpg</th>\n",
       "      <td>Odilon Redon</td>\n",
       "      <td>1896</td>\n",
       "      <td>symbolic painting</td>\n",
       "      <td>600.0</td>\n",
       "      <td>823.0</td>\n",
       "      <td>227167.0</td>\n",
       "      <td>wikiart</td>\n",
       "      <td>Symbolism</td>\n",
       "      <td>I plunged into solitude. I dwelt in the tree b...</td>\n",
       "      <td>train_and_test</td>\n",
       "      <td>True</td>\n",
       "    </tr>\n",
       "    <tr>\n",
       "      <th>12397.jpg</th>\n",
       "      <td>Nicholas Roerich</td>\n",
       "      <td>1908</td>\n",
       "      <td>design</td>\n",
       "      <td>800.0</td>\n",
       "      <td>616.0</td>\n",
       "      <td>78401.0</td>\n",
       "      <td>wikiart</td>\n",
       "      <td>Art Nouveau (Modern)</td>\n",
       "      <td>Prologue. Forest.</td>\n",
       "      <td>train_and_test</td>\n",
       "      <td>True</td>\n",
       "    </tr>\n",
       "    <tr>\n",
       "      <th>15739.jpg</th>\n",
       "      <td>Eugene Boudin</td>\n",
       "      <td>1894</td>\n",
       "      <td>marina</td>\n",
       "      <td>800.0</td>\n",
       "      <td>610.0</td>\n",
       "      <td>75929.0</td>\n",
       "      <td>wikiart</td>\n",
       "      <td>Impressionism</td>\n",
       "      <td>The Lock at Trouville</td>\n",
       "      <td>train_and_test</td>\n",
       "      <td>True</td>\n",
       "    </tr>\n",
       "    <tr>\n",
       "      <th>14384.jpg</th>\n",
       "      <td>Ilya Repin</td>\n",
       "      <td>NaN</td>\n",
       "      <td>genre painting</td>\n",
       "      <td>1000.0</td>\n",
       "      <td>486.0</td>\n",
       "      <td>101419.0</td>\n",
       "      <td>wikiart</td>\n",
       "      <td>Realism</td>\n",
       "      <td>Young ladys walk among herd of cow</td>\n",
       "      <td>train_and_test</td>\n",
       "      <td>True</td>\n",
       "    </tr>\n",
       "    <tr>\n",
       "      <th>19445.jpg</th>\n",
       "      <td>Nicholas Roerich</td>\n",
       "      <td>1915</td>\n",
       "      <td>mythological painting</td>\n",
       "      <td>851.0</td>\n",
       "      <td>569.0</td>\n",
       "      <td>43139.0</td>\n",
       "      <td>wikiart</td>\n",
       "      <td>Art Nouveau (Modern)</td>\n",
       "      <td>Beyond the seas there are the great lands  (Da...</td>\n",
       "      <td>train_and_test</td>\n",
       "      <td>True</td>\n",
       "    </tr>\n",
       "    <tr>\n",
       "      <th>11726.jpg</th>\n",
       "      <td>Nicholas Roerich</td>\n",
       "      <td>1915</td>\n",
       "      <td>landscape</td>\n",
       "      <td>800.0</td>\n",
       "      <td>603.0</td>\n",
       "      <td>60669.0</td>\n",
       "      <td>wikiart</td>\n",
       "      <td>Symbolism</td>\n",
       "      <td>Cloud</td>\n",
       "      <td>train_and_test</td>\n",
       "      <td>True</td>\n",
       "    </tr>\n",
       "    <tr>\n",
       "      <th>1861.jpg</th>\n",
       "      <td>Odilon Redon</td>\n",
       "      <td>1889</td>\n",
       "      <td>symbolic painting</td>\n",
       "      <td>600.0</td>\n",
       "      <td>800.0</td>\n",
       "      <td>129031.0</td>\n",
       "      <td>wikiart</td>\n",
       "      <td>Symbolism</td>\n",
       "      <td>Death: My irony surpasses all others!</td>\n",
       "      <td>train_and_test</td>\n",
       "      <td>True</td>\n",
       "    </tr>\n",
       "    <tr>\n",
       "      <th>15550.jpg</th>\n",
       "      <td>Eugene Boudin</td>\n",
       "      <td>1852</td>\n",
       "      <td>landscape</td>\n",
       "      <td>1121.0</td>\n",
       "      <td>428.0</td>\n",
       "      <td>95824.0</td>\n",
       "      <td>wikiart</td>\n",
       "      <td>Realism</td>\n",
       "      <td>The Francois Ier Tower at Le Havre</td>\n",
       "      <td>train_and_test</td>\n",
       "      <td>True</td>\n",
       "    </tr>\n",
       "    <tr>\n",
       "      <th>13388.jpg</th>\n",
       "      <td>Nicholas Roerich</td>\n",
       "      <td>1905</td>\n",
       "      <td>history painting</td>\n",
       "      <td>800.0</td>\n",
       "      <td>597.0</td>\n",
       "      <td>456361.0</td>\n",
       "      <td>wikiart</td>\n",
       "      <td>Symbolism</td>\n",
       "      <td>Varangian warriors</td>\n",
       "      <td>train_and_test</td>\n",
       "      <td>True</td>\n",
       "    </tr>\n",
       "    <tr>\n",
       "      <th>12220.jpg</th>\n",
       "      <td>Odilon Redon</td>\n",
       "      <td>1885</td>\n",
       "      <td>genre painting</td>\n",
       "      <td>612.0</td>\n",
       "      <td>780.0</td>\n",
       "      <td>54541.0</td>\n",
       "      <td>wikiart</td>\n",
       "      <td>Symbolism</td>\n",
       "      <td>A madman in a dismal landscape</td>\n",
       "      <td>train_and_test</td>\n",
       "      <td>True</td>\n",
       "    </tr>\n",
       "    <tr>\n",
       "      <th>16000.jpg</th>\n",
       "      <td>Ilya Repin</td>\n",
       "      <td>1898.0</td>\n",
       "      <td>portrait</td>\n",
       "      <td>621.0</td>\n",
       "      <td>767.0</td>\n",
       "      <td>59589.0</td>\n",
       "      <td>wikiart</td>\n",
       "      <td>Realism</td>\n",
       "      <td>The Blond (Portrait of Tevashova)</td>\n",
       "      <td>train_and_test</td>\n",
       "      <td>True</td>\n",
       "    </tr>\n",
       "    <tr>\n",
       "      <th>16078.jpg</th>\n",
       "      <td>Nicholas Roerich</td>\n",
       "      <td>1914</td>\n",
       "      <td>sketch and study</td>\n",
       "      <td>800.0</td>\n",
       "      <td>595.0</td>\n",
       "      <td>51275.0</td>\n",
       "      <td>wikiart</td>\n",
       "      <td>Art Nouveau (Modern)</td>\n",
       "      <td>Procopius the Righteous is praying of unknown ...</td>\n",
       "      <td>train_and_test</td>\n",
       "      <td>True</td>\n",
       "    </tr>\n",
       "    <tr>\n",
       "      <th>12742.jpg</th>\n",
       "      <td>Eugene Boudin</td>\n",
       "      <td>NaN</td>\n",
       "      <td>sketch and study</td>\n",
       "      <td>800.0</td>\n",
       "      <td>594.0</td>\n",
       "      <td>77844.0</td>\n",
       "      <td>wikiart</td>\n",
       "      <td>Impressionism</td>\n",
       "      <td>Leaving Mass at Plougastel</td>\n",
       "      <td>train_and_test</td>\n",
       "      <td>True</td>\n",
       "    </tr>\n",
       "    <tr>\n",
       "      <th>101944.jpg</th>\n",
       "      <td>Nicholas Roerich</td>\n",
       "      <td>1911</td>\n",
       "      <td>landscape</td>\n",
       "      <td>800.0</td>\n",
       "      <td>593.0</td>\n",
       "      <td>97286.0</td>\n",
       "      <td>wikiart</td>\n",
       "      <td>Symbolism</td>\n",
       "      <td>Rond rocks</td>\n",
       "      <td>train_and_test</td>\n",
       "      <td>True</td>\n",
       "    </tr>\n",
       "    <tr>\n",
       "      <th>19240.jpg</th>\n",
       "      <td>Nicholas Roerich</td>\n",
       "      <td>1910</td>\n",
       "      <td>design</td>\n",
       "      <td>800.0</td>\n",
       "      <td>592.0</td>\n",
       "      <td>88117.0</td>\n",
       "      <td>wikiart</td>\n",
       "      <td>Art Nouveau (Modern)</td>\n",
       "      <td>Terem of Kikimora</td>\n",
       "      <td>train_and_test</td>\n",
       "      <td>True</td>\n",
       "    </tr>\n",
       "    <tr>\n",
       "      <th>15131.jpg</th>\n",
       "      <td>Nicholas Roerich</td>\n",
       "      <td>1928</td>\n",
       "      <td>landscape</td>\n",
       "      <td>795.0</td>\n",
       "      <td>592.0</td>\n",
       "      <td>105445.0</td>\n",
       "      <td>wikiart</td>\n",
       "      <td>Symbolism</td>\n",
       "      <td>Sharugon Monastery, Tibet</td>\n",
       "      <td>train_and_test</td>\n",
       "      <td>True</td>\n",
       "    </tr>\n",
       "    <tr>\n",
       "      <th>15610.jpg</th>\n",
       "      <td>Odilon Redon</td>\n",
       "      <td>NaN</td>\n",
       "      <td>symbolic painting</td>\n",
       "      <td>567.0</td>\n",
       "      <td>800.0</td>\n",
       "      <td>113675.0</td>\n",
       "      <td>wikiart</td>\n",
       "      <td>Symbolism</td>\n",
       "      <td>The Blessing</td>\n",
       "      <td>train_and_test</td>\n",
       "      <td>True</td>\n",
       "    </tr>\n",
       "    <tr>\n",
       "      <th>10642.jpg</th>\n",
       "      <td>Eugene Boudin</td>\n",
       "      <td>NaN</td>\n",
       "      <td>genre painting</td>\n",
       "      <td>976.0</td>\n",
       "      <td>462.0</td>\n",
       "      <td>96655.0</td>\n",
       "      <td>wikiart</td>\n",
       "      <td>Impressionism</td>\n",
       "      <td>Beach at Trouville</td>\n",
       "      <td>train_and_test</td>\n",
       "      <td>True</td>\n",
       "    </tr>\n",
       "    <tr>\n",
       "      <th>102366.jpg</th>\n",
       "      <td>Odilon Redon</td>\n",
       "      <td>1900</td>\n",
       "      <td>mythological painting</td>\n",
       "      <td>582.0</td>\n",
       "      <td>750.0</td>\n",
       "      <td>144908.0</td>\n",
       "      <td>wikiart</td>\n",
       "      <td>Symbolism</td>\n",
       "      <td>Pegasus</td>\n",
       "      <td>train_and_test</td>\n",
       "      <td>True</td>\n",
       "    </tr>\n",
       "    <tr>\n",
       "      <th>102556.jpg</th>\n",
       "      <td>Odilon Redon</td>\n",
       "      <td>c.1900</td>\n",
       "      <td>flower painting</td>\n",
       "      <td>597.0</td>\n",
       "      <td>723.0</td>\n",
       "      <td>89452.0</td>\n",
       "      <td>wikiart</td>\n",
       "      <td>Realism</td>\n",
       "      <td>Flowers in a Red Pitcher</td>\n",
       "      <td>train_and_test</td>\n",
       "      <td>True</td>\n",
       "    </tr>\n",
       "    <tr>\n",
       "      <th>14573.jpg</th>\n",
       "      <td>Eugene Boudin</td>\n",
       "      <td>1886</td>\n",
       "      <td>marina</td>\n",
       "      <td>581.0</td>\n",
       "      <td>736.0</td>\n",
       "      <td>96997.0</td>\n",
       "      <td>wikiart</td>\n",
       "      <td>Impressionism</td>\n",
       "      <td>The Port</td>\n",
       "      <td>train_and_test</td>\n",
       "      <td>True</td>\n",
       "    </tr>\n",
       "    <tr>\n",
       "      <th>151.jpg</th>\n",
       "      <td>Eugene Boudin</td>\n",
       "      <td>NaN</td>\n",
       "      <td>landscape</td>\n",
       "      <td>800.0</td>\n",
       "      <td>512.0</td>\n",
       "      <td>71661.0</td>\n",
       "      <td>wikiart</td>\n",
       "      <td>Impressionism</td>\n",
       "      <td>Antwerp, the head of Flanders</td>\n",
       "      <td>train_and_test</td>\n",
       "      <td>True</td>\n",
       "    </tr>\n",
       "    <tr>\n",
       "      <th>10370.jpg</th>\n",
       "      <td>Odilon Redon</td>\n",
       "      <td>NaN</td>\n",
       "      <td>flower painting</td>\n",
       "      <td>557.0</td>\n",
       "      <td>710.0</td>\n",
       "      <td>105251.0</td>\n",
       "      <td>wikiart</td>\n",
       "      <td>Realism</td>\n",
       "      <td>Small Bouquet in a Pitcher</td>\n",
       "      <td>train_and_test</td>\n",
       "      <td>True</td>\n",
       "    </tr>\n",
       "    <tr>\n",
       "      <th>15768.jpg</th>\n",
       "      <td>Odilon Redon</td>\n",
       "      <td>c.1900</td>\n",
       "      <td>flower painting</td>\n",
       "      <td>524.0</td>\n",
       "      <td>617.0</td>\n",
       "      <td>51691.0</td>\n",
       "      <td>wikiart</td>\n",
       "      <td>Realism</td>\n",
       "      <td>Flowers in a Pot</td>\n",
       "      <td>train_and_test</td>\n",
       "      <td>True</td>\n",
       "    </tr>\n",
       "  </tbody>\n",
       "</table>\n",
       "<p>535 rows × 11 columns</p>\n",
       "</div>"
      ],
      "text/plain": [
       "                             artist    date                  genre  pixelsx  \\\n",
       "new_filename                                                                  \n",
       "15075.jpg            Albrecht Durer     NaN       sketch and study   2536.0   \n",
       "18039.jpg            Albrecht Durer    1506     religious painting   2352.0   \n",
       "1053.jpg             Albrecht Durer     NaN                 design   2536.0   \n",
       "1458.jpg             Albrecht Durer     NaN              miniature   2394.0   \n",
       "18076.jpg              Odilon Redon     NaN        flower painting   2232.0   \n",
       "13849.jpg            Albrecht Durer     NaN               portrait   2360.0   \n",
       "1805.jpg             Albrecht Durer     NaN               portrait   2220.0   \n",
       "19349.jpg              Odilon Redon    1900      symbolic painting   2536.0   \n",
       "10199.jpg            Albrecht Durer     NaN     religious painting   2187.0   \n",
       "12105.jpg            Albrecht Durer     NaN     religious painting   2179.0   \n",
       "103162.jpg           Albrecht Durer     NaN                 design   2176.0   \n",
       "1756.jpg             Albrecht Durer     NaN       sketch and study   2175.0   \n",
       "18801.jpg            Albrecht Durer     NaN     religious painting   3000.0   \n",
       "13513.jpg            Albrecht Durer     NaN       sketch and study   3000.0   \n",
       "19114.jpg            Albrecht Durer     NaN       sketch and study   3000.0   \n",
       "1707.jpg             Albrecht Durer    1506               portrait   2024.0   \n",
       "19728.jpg            Albrecht Durer     NaN                 design   2024.0   \n",
       "15902.jpg            Albrecht Durer    1500          self-portrait   2052.0   \n",
       "16923.jpg            Albrecht Durer     NaN               portrait   1960.0   \n",
       "1975.jpg             Albrecht Durer  c.1519               portrait   2024.0   \n",
       "101535.jpg           Albrecht Durer    1514               portrait   2024.0   \n",
       "12078.jpg            Albrecht Durer     NaN     religious painting   1859.0   \n",
       "11430.jpg            Albrecht Durer     NaN     religious painting   1855.0   \n",
       "19187.jpg            Albrecht Durer    1506     religious painting   2550.0   \n",
       "19584.jpg            Albrecht Durer    1508       sketch and study   1770.0   \n",
       "17732.jpg            Albrecht Durer    1495        animal painting   3000.0   \n",
       "12572.jpg            Albrecht Durer  c.1496     religious painting   2024.0   \n",
       "17440.jpg     Pierre-Auguste Renoir    1882               portrait   2536.0   \n",
       "14400.jpg            Albrecht Durer     NaN  mythological painting   2536.0   \n",
       "18483.jpg            Albrecht Durer     NaN     religious painting   1560.0   \n",
       "...                             ...     ...                    ...      ...   \n",
       "16970.jpg          Nicholas Roerich    1916               portrait    800.0   \n",
       "1655.jpg              Eugene Boudin  c.1875                 marina    862.0   \n",
       "18186.jpg          Nicholas Roerich    1918           illustration    800.0   \n",
       "101943.jpg             Odilon Redon  c.1910     religious painting    635.0   \n",
       "12225.jpg             Eugene Boudin     NaN                 marina    938.0   \n",
       "16859.jpg          Nicholas Roerich    1912                 design    838.0   \n",
       "11832.jpg              Odilon Redon    1896      symbolic painting    600.0   \n",
       "12397.jpg          Nicholas Roerich    1908                 design    800.0   \n",
       "15739.jpg             Eugene Boudin    1894                 marina    800.0   \n",
       "14384.jpg                Ilya Repin     NaN         genre painting   1000.0   \n",
       "19445.jpg          Nicholas Roerich    1915  mythological painting    851.0   \n",
       "11726.jpg          Nicholas Roerich    1915              landscape    800.0   \n",
       "1861.jpg               Odilon Redon    1889      symbolic painting    600.0   \n",
       "15550.jpg             Eugene Boudin    1852              landscape   1121.0   \n",
       "13388.jpg          Nicholas Roerich    1905       history painting    800.0   \n",
       "12220.jpg              Odilon Redon    1885         genre painting    612.0   \n",
       "16000.jpg                Ilya Repin  1898.0               portrait    621.0   \n",
       "16078.jpg          Nicholas Roerich    1914       sketch and study    800.0   \n",
       "12742.jpg             Eugene Boudin     NaN       sketch and study    800.0   \n",
       "101944.jpg         Nicholas Roerich    1911              landscape    800.0   \n",
       "19240.jpg          Nicholas Roerich    1910                 design    800.0   \n",
       "15131.jpg          Nicholas Roerich    1928              landscape    795.0   \n",
       "15610.jpg              Odilon Redon     NaN      symbolic painting    567.0   \n",
       "10642.jpg             Eugene Boudin     NaN         genre painting    976.0   \n",
       "102366.jpg             Odilon Redon    1900  mythological painting    582.0   \n",
       "102556.jpg             Odilon Redon  c.1900        flower painting    597.0   \n",
       "14573.jpg             Eugene Boudin    1886                 marina    581.0   \n",
       "151.jpg               Eugene Boudin     NaN              landscape    800.0   \n",
       "10370.jpg              Odilon Redon     NaN        flower painting    557.0   \n",
       "15768.jpg              Odilon Redon  c.1900        flower painting    524.0   \n",
       "\n",
       "              pixelsy  size_bytes     source                 style  \\\n",
       "new_filename                                                         \n",
       "15075.jpg      2929.0    621267.0    wikiart  Northern Renaissance   \n",
       "18039.jpg      3129.0   1046324.0    wikiart  Northern Renaissance   \n",
       "1053.jpg       2836.0    725632.0    wikiart  Northern Renaissance   \n",
       "1458.jpg       3000.0    693310.0    wikiart  Northern Renaissance   \n",
       "18076.jpg      3198.0   3950198.0    wikiart               Realism   \n",
       "13849.jpg      3000.0    757619.0    wikiart  Northern Renaissance   \n",
       "1805.jpg       3000.0    830408.0    wikiart  Northern Renaissance   \n",
       "19349.jpg      2602.0    497502.0    wikiart             Symbolism   \n",
       "10199.jpg      3000.0    850580.0  wikipedia  Northern Renaissance   \n",
       "12105.jpg      3000.0    778661.0    wikiart  Northern Renaissance   \n",
       "103162.jpg     3000.0    526393.0    wikiart  Northern Renaissance   \n",
       "1756.jpg       3000.0    722528.0    wikiart  Northern Renaissance   \n",
       "18801.jpg      2150.0   1036158.0    wikiart  Northern Renaissance   \n",
       "13513.jpg      2130.0    834393.0    wikiart  Northern Renaissance   \n",
       "19114.jpg      2083.0    675308.0    wikiart  Northern Renaissance   \n",
       "1707.jpg       2987.0    746235.0    wikiart  Northern Renaissance   \n",
       "19728.jpg      2986.0    907849.0    wikiart  Northern Renaissance   \n",
       "15902.jpg      2876.0    805305.0    wikiart  Northern Renaissance   \n",
       "16923.jpg      3000.0    566940.0    wikiart  Northern Renaissance   \n",
       "1975.jpg       2859.0   1339510.0    wikiart  Northern Renaissance   \n",
       "101535.jpg     2814.0    688790.0    wikiart  Northern Renaissance   \n",
       "12078.jpg      3000.0    733785.0    wikiart  Northern Renaissance   \n",
       "11430.jpg      3000.0    718261.0    wikiart  Northern Renaissance   \n",
       "19187.jpg      2129.0    658873.0    wikiart  Northern Renaissance   \n",
       "19584.jpg      3000.0    964195.0    wikiart  Northern Renaissance   \n",
       "17732.jpg      1711.0    788684.0    wikiart  Northern Renaissance   \n",
       "12572.jpg      2531.0    649609.0    wikiart  Northern Renaissance   \n",
       "17440.jpg      2016.0    524173.0    wikiart         Impressionism   \n",
       "14400.jpg      1917.0    552104.0    wikiart  Northern Renaissance   \n",
       "18483.jpg      3000.0    420044.0    wikiart  Northern Renaissance   \n",
       "...               ...         ...        ...                   ...   \n",
       "16970.jpg       649.0    107503.0    wikiart  Art Nouveau (Modern)   \n",
       "1655.jpg        600.0    126894.0    wikiart         Impressionism   \n",
       "18186.jpg       645.0    185578.0    wikiart  Art Nouveau (Modern)   \n",
       "101943.jpg      800.0    133296.0    wikiart             Symbolism   \n",
       "12225.jpg       535.0    117109.0    wikiart         Impressionism   \n",
       "16859.jpg       594.0    127884.0    wikiart  Art Nouveau (Modern)   \n",
       "11832.jpg       823.0    227167.0    wikiart             Symbolism   \n",
       "12397.jpg       616.0     78401.0    wikiart  Art Nouveau (Modern)   \n",
       "15739.jpg       610.0     75929.0    wikiart         Impressionism   \n",
       "14384.jpg       486.0    101419.0    wikiart               Realism   \n",
       "19445.jpg       569.0     43139.0    wikiart  Art Nouveau (Modern)   \n",
       "11726.jpg       603.0     60669.0    wikiart             Symbolism   \n",
       "1861.jpg        800.0    129031.0    wikiart             Symbolism   \n",
       "15550.jpg       428.0     95824.0    wikiart               Realism   \n",
       "13388.jpg       597.0    456361.0    wikiart             Symbolism   \n",
       "12220.jpg       780.0     54541.0    wikiart             Symbolism   \n",
       "16000.jpg       767.0     59589.0    wikiart               Realism   \n",
       "16078.jpg       595.0     51275.0    wikiart  Art Nouveau (Modern)   \n",
       "12742.jpg       594.0     77844.0    wikiart         Impressionism   \n",
       "101944.jpg      593.0     97286.0    wikiart             Symbolism   \n",
       "19240.jpg       592.0     88117.0    wikiart  Art Nouveau (Modern)   \n",
       "15131.jpg       592.0    105445.0    wikiart             Symbolism   \n",
       "15610.jpg       800.0    113675.0    wikiart             Symbolism   \n",
       "10642.jpg       462.0     96655.0    wikiart         Impressionism   \n",
       "102366.jpg      750.0    144908.0    wikiart             Symbolism   \n",
       "102556.jpg      723.0     89452.0    wikiart               Realism   \n",
       "14573.jpg       736.0     96997.0    wikiart         Impressionism   \n",
       "151.jpg         512.0     71661.0    wikiart         Impressionism   \n",
       "10370.jpg       710.0    105251.0    wikiart               Realism   \n",
       "15768.jpg       617.0     51691.0    wikiart               Realism   \n",
       "\n",
       "                                                          title  \\\n",
       "new_filename                                                      \n",
       "15075.jpg                             Study of a body of Christ   \n",
       "18039.jpg                               Madonna with the Siskin   \n",
       "1053.jpg                                    Wappen Pirckheimer    \n",
       "1458.jpg                             Draft for a book sign lion   \n",
       "18076.jpg                                        The Red Poppy    \n",
       "13849.jpg                                  Portrait of a Woman    \n",
       "1805.jpg                            Portrait of Conrat Verkell    \n",
       "19349.jpg                                               Silence   \n",
       "10199.jpg                         Christ on the Mount of Olives   \n",
       "12105.jpg                                          St. Fridolin   \n",
       "103162.jpg                              Design to a court dress   \n",
       "1756.jpg                                  The justice of Trajan   \n",
       "18801.jpg                                                Christ   \n",
       "13513.jpg                                            Christ boy   \n",
       "19114.jpg     Studies on a great \"picture of the Virgin\"   M...   \n",
       "1707.jpg                              Portrait of an architect    \n",
       "19728.jpg                         Design for All Saints picture   \n",
       "15902.jpg              Self-Portrait at the Age of Twenty Eight   \n",
       "16923.jpg                        Nuremberg woman in house dress   \n",
       "1975.jpg                               Portrait of Jakob Fugger   \n",
       "101535.jpg                     Portrait of the Artist's Mother    \n",
       "12078.jpg                                              St. Paul   \n",
       "11430.jpg                                          Lamentation    \n",
       "19187.jpg                              Christ among the Doctors   \n",
       "19584.jpg                                      Standing Apostle   \n",
       "17732.jpg                                             A lobster   \n",
       "12572.jpg                                         Lot's escape    \n",
       "17440.jpg           Portrait of Charles and Georges Durand Ruel   \n",
       "14400.jpg                                                 Nymph   \n",
       "18483.jpg                                        The evil thief   \n",
       "...                                                         ...   \n",
       "16970.jpg                                        Prince (Knyaz)   \n",
       "1655.jpg                                              High seas   \n",
       "18186.jpg                     Vignette for book \"N. K. Roerich\"   \n",
       "101943.jpg                                      Saint Sebastian   \n",
       "12225.jpg                    Antwerp, Boats on the River Escaut   \n",
       "16859.jpg                 Study of scene design for \"Peer Gynt\"   \n",
       "11832.jpg     I plunged into solitude. I dwelt in the tree b...   \n",
       "12397.jpg                                     Prologue. Forest.   \n",
       "15739.jpg                                 The Lock at Trouville   \n",
       "14384.jpg                    Young ladys walk among herd of cow   \n",
       "19445.jpg     Beyond the seas there are the great lands  (Da...   \n",
       "11726.jpg                                                 Cloud   \n",
       "1861.jpg                 Death: My irony surpasses all others!    \n",
       "15550.jpg                    The Francois Ier Tower at Le Havre   \n",
       "13388.jpg                                    Varangian warriors   \n",
       "12220.jpg                        A madman in a dismal landscape   \n",
       "16000.jpg                    The Blond (Portrait of Tevashova)    \n",
       "16078.jpg     Procopius the Righteous is praying of unknown ...   \n",
       "12742.jpg                           Leaving Mass at Plougastel    \n",
       "101944.jpg                                           Rond rocks   \n",
       "19240.jpg                                     Terem of Kikimora   \n",
       "15131.jpg                             Sharugon Monastery, Tibet   \n",
       "15610.jpg                                          The Blessing   \n",
       "10642.jpg                                    Beach at Trouville   \n",
       "102366.jpg                                              Pegasus   \n",
       "102556.jpg                             Flowers in a Red Pitcher   \n",
       "14573.jpg                                              The Port   \n",
       "151.jpg                           Antwerp, the head of Flanders   \n",
       "10370.jpg                            Small Bouquet in a Pitcher   \n",
       "15768.jpg                                      Flowers in a Pot   \n",
       "\n",
       "                artist_group  in_train  \n",
       "new_filename                            \n",
       "15075.jpg     train_and_test      True  \n",
       "18039.jpg     train_and_test      True  \n",
       "1053.jpg      train_and_test      True  \n",
       "1458.jpg      train_and_test      True  \n",
       "18076.jpg     train_and_test      True  \n",
       "13849.jpg     train_and_test      True  \n",
       "1805.jpg      train_and_test      True  \n",
       "19349.jpg     train_and_test      True  \n",
       "10199.jpg     train_and_test      True  \n",
       "12105.jpg     train_and_test      True  \n",
       "103162.jpg    train_and_test      True  \n",
       "1756.jpg      train_and_test      True  \n",
       "18801.jpg     train_and_test      True  \n",
       "13513.jpg     train_and_test      True  \n",
       "19114.jpg     train_and_test      True  \n",
       "1707.jpg      train_and_test      True  \n",
       "19728.jpg     train_and_test      True  \n",
       "15902.jpg     train_and_test      True  \n",
       "16923.jpg     train_and_test      True  \n",
       "1975.jpg      train_and_test      True  \n",
       "101535.jpg    train_and_test      True  \n",
       "12078.jpg     train_and_test      True  \n",
       "11430.jpg     train_and_test      True  \n",
       "19187.jpg     train_and_test      True  \n",
       "19584.jpg     train_and_test      True  \n",
       "17732.jpg     train_and_test      True  \n",
       "12572.jpg     train_and_test      True  \n",
       "17440.jpg     train_and_test      True  \n",
       "14400.jpg     train_and_test      True  \n",
       "18483.jpg     train_and_test      True  \n",
       "...                      ...       ...  \n",
       "16970.jpg     train_and_test      True  \n",
       "1655.jpg      train_and_test      True  \n",
       "18186.jpg     train_and_test      True  \n",
       "101943.jpg    train_and_test      True  \n",
       "12225.jpg     train_and_test      True  \n",
       "16859.jpg     train_and_test      True  \n",
       "11832.jpg     train_and_test      True  \n",
       "12397.jpg     train_and_test      True  \n",
       "15739.jpg     train_and_test      True  \n",
       "14384.jpg     train_and_test      True  \n",
       "19445.jpg     train_and_test      True  \n",
       "11726.jpg     train_and_test      True  \n",
       "1861.jpg      train_and_test      True  \n",
       "15550.jpg     train_and_test      True  \n",
       "13388.jpg     train_and_test      True  \n",
       "12220.jpg     train_and_test      True  \n",
       "16000.jpg     train_and_test      True  \n",
       "16078.jpg     train_and_test      True  \n",
       "12742.jpg     train_and_test      True  \n",
       "101944.jpg    train_and_test      True  \n",
       "19240.jpg     train_and_test      True  \n",
       "15131.jpg     train_and_test      True  \n",
       "15610.jpg     train_and_test      True  \n",
       "10642.jpg     train_and_test      True  \n",
       "102366.jpg    train_and_test      True  \n",
       "102556.jpg    train_and_test      True  \n",
       "14573.jpg     train_and_test      True  \n",
       "151.jpg       train_and_test      True  \n",
       "10370.jpg     train_and_test      True  \n",
       "15768.jpg     train_and_test      True  \n",
       "\n",
       "[535 rows x 11 columns]"
      ]
     },
     "execution_count": 7,
     "metadata": {},
     "output_type": "execute_result"
    }
   ],
   "source": [
    "allInfo"
   ]
  },
  {
   "cell_type": "code",
   "execution_count": 8,
   "metadata": {},
   "outputs": [],
   "source": [
    "def normalizeSeries(series, maxNum):\n",
    "    series = series/maxNum\n",
    "    return series"
   ]
  },
  {
   "cell_type": "code",
   "execution_count": 9,
   "metadata": {},
   "outputs": [],
   "source": [
    "def featurizeImage(filename):\n",
    "    # Extract the features from the actual image\n",
    "    jpgfile = Image.open(\"data/train_1/\" + filename)\n",
    "#     print(jpgfile)\n",
    "    \n",
    "    bands = jpgfile.getbands()\n",
    "    if bands[0] == 'L':\n",
    "        # grayscale image\n",
    "        imageDF = pd.DataFrame(list(jpgfile.getdata()),columns=['grayscale'])\n",
    "        imageDF['red'] = 0\n",
    "        imageDF['green'] = 0\n",
    "        imageDF['blue'] = 0\n",
    "        imageDF['alpha'] = 0\n",
    "#         return imageDF\n",
    "#         imageDF['grayscale'] = normalizeSeries(imageDF['grayscale',])\n",
    "    elif len(bands) == 4:\n",
    "        #get red, green and blue chanels \n",
    "        imageDF = pd.DataFrame(list(jpgfile.getdata()),columns=['red','green','blue','alpha'])\n",
    "        imageDF['red'] = normalizeSeries(imageDF['red'],255)\n",
    "        imageDF['green'] = normalizeSeries(imageDF['green'],255)\n",
    "        imageDF['blue'] = normalizeSeries(imageDF['blue'],255)  \n",
    "        imageDF['alpha'] = normalizeSeries(imageDF['alpha'],255) \n",
    "        imageDF['grayscale'] = 0 \n",
    "    elif len(bands) == 3:\n",
    "        #get red, green and blue chanels \n",
    "        imageDF = pd.DataFrame(list(jpgfile.getdata()),columns=['red','green','blue'])\n",
    "        imageDF['red'] = normalizeSeries(imageDF['red'],255)\n",
    "        imageDF['green'] = normalizeSeries(imageDF['green'],255)\n",
    "        imageDF['blue'] = normalizeSeries(imageDF['blue'],255)  \n",
    "        imageDF['alpha'] = 0  \n",
    "        imageDF['grayscale'] = 0 \n",
    "    else:\n",
    "        imageDF = pd.DataFrame(list(jpgfile.getdata()))\n",
    "        print(bands)\n",
    "        return imageDF.mean(), bands\n",
    "    \n",
    "    \n",
    "    \n",
    "    return imageDF.mean()"
   ]
  },
  {
   "cell_type": "code",
   "execution_count": 10,
   "metadata": {},
   "outputs": [],
   "source": [
    "def pickleDF(fileName,dataFrame,numSplits):\n",
    "    print(numSplits)\n",
    "    dfArray = np.array_split(dataFrame, numSplits)\n",
    "    for i, df in enumerate(dfArray):\n",
    "        df.to_pickle(fileName+\"-\"+str(i))"
   ]
  },
  {
   "cell_type": "code",
   "execution_count": 11,
   "metadata": {},
   "outputs": [],
   "source": [
    "def getImgData(dataFrame,baseName):\n",
    "    sys.stdout.flush()\n",
    "#     index = 0\n",
    "#     while os.path.exists(baseName+\"-\"+str(index)):\n",
    "#         index = index + 1\n",
    "    \n",
    "    newFileName = baseName + \".pckl\"\n",
    "    print(newFileName)\n",
    "    sys.stdout.flush()\n",
    "#     featureSeries = []\n",
    "    reds = []\n",
    "    greens = []\n",
    "    blues = []\n",
    "    alphas = []\n",
    "    grayscales = []\n",
    "    for row in tqdm(list(dataFrame.index), leave=False): \n",
    "        imageFeatures = featurizeImage(row)\n",
    "        reds.append(imageFeatures[0])\n",
    "        greens.append(imageFeatures[1])\n",
    "        blues.append(imageFeatures[2])\n",
    "        alphas.append(imageFeatures[3])\n",
    "        grayscales.append(imageFeatures[4])\n",
    "\n",
    "        sys.stdout.flush()\n",
    "    \n",
    "#     print(featureSeries)\n",
    "    dataFrame['red'] = reds\n",
    "    dataFrame['green'] = greens\n",
    "    dataFrame['blue'] = blues\n",
    "    dataFrame['alpha'] = alphas\n",
    "    dataFrame['grayscale'] = grayscales\n",
    "\n",
    "\n",
    "#     print(dataFrame['features'])\n",
    "    dataFrame.to_pickle(newFileName)\n",
    "    return dataFrame"
   ]
  },
  {
   "cell_type": "code",
   "execution_count": 12,
   "metadata": {},
   "outputs": [],
   "source": [
    "def concatFrames(dataFrames):\n",
    "    return pd.concat(dataFrames)"
   ]
  },
  {
   "cell_type": "code",
   "execution_count": 13,
   "metadata": {},
   "outputs": [],
   "source": [
    "def loadImagesFromPickles(fileNames):\n",
    "    \n",
    "    dataFrames = []\n",
    "    for fileName in fileNames:\n",
    "        dataFrames.append(pd.read_pickle(fileName))\n",
    "\n",
    "    return concatFrames(dataFrames)"
   ]
  },
  {
   "cell_type": "code",
   "execution_count": 14,
   "metadata": {},
   "outputs": [],
   "source": [
    "baseFileName = 'trainImgsAllcolorBands-NewFeaturesZeroes'"
   ]
  },
  {
   "cell_type": "code",
   "execution_count": null,
   "metadata": {
    "scrolled": false
   },
   "outputs": [],
   "source": [
    "splitFeaturesData = np.array_split(featuresDF,10)\n",
    "print(len(splitFeaturesData))\n",
    "pool = Pool()\n",
    "inputData = [[splitFeaturesData[i], baseFileName+\"-\"+str(i)] for i in range(len(splitFeaturesData))]\n",
    "pool.starmap(getImgData, inputData)\n",
    "pool.close() \n",
    "results = pool.join()"
   ]
  },
  {
   "cell_type": "code",
   "execution_count": null,
   "metadata": {},
   "outputs": [],
   "source": [
    "print(results)"
   ]
  },
  {
   "cell_type": "markdown",
   "metadata": {},
   "source": [
    "# Models"
   ]
  },
  {
   "cell_type": "code",
   "execution_count": 15,
   "metadata": {},
   "outputs": [],
   "source": [
    "def computeStats(truth,predictions):\n",
    "    \n",
    "    accuracy = (predictions == truth).sum()/len(predictions == truth)\n",
    "    \n",
    "    possibleArtists = truth.unique()\n",
    "    artistTPR = []\n",
    "    for j in possibleArtists:\n",
    "        truePositive = np.sum([predictions[i] == j and truth[i] == j for i in range(len(truth))])\n",
    "        trueNeg = np.sum([predictions[i] != j and truth[i] != j for i in range(len(truth))])\n",
    "        falsePos = np.sum([predictions[i] == j and truth[i] != j for i in range(len(truth))])\n",
    "        falseNeg = np.sum([predictions[i] != j and truth[i] == j for i in range(len(truth))])\n",
    "        \n",
    "        artistTPR.append(truePositive/(truePositive+falseNeg))\n",
    "#         goodPredictions = [predictions] == trues[i] for i in range(len(predictions))]\n",
    "        \n",
    "    return accuracy, artistTPR"
   ]
  },
  {
   "cell_type": "code",
   "execution_count": 16,
   "metadata": {},
   "outputs": [],
   "source": [
    "pickleLoaded = loadImagesFromPickles([baseFileName+\"-\"+str(i)+\".pckl\" for i in range(10)])"
   ]
  },
  {
   "cell_type": "code",
   "execution_count": 17,
   "metadata": {},
   "outputs": [],
   "source": [
    "uniqueLabels = pd.DataFrame(allInfo.loc[pickleLoaded.index]['artist'].unique(),columns=['artist'])\n",
    "uniqueStyles = pd.DataFrame(pickleLoaded['style'].unique(),columns=['style'])\n",
    "uniqueGenre = pd.DataFrame(pickleLoaded['genre'].unique(),columns=['genre'])"
   ]
  },
  {
   "cell_type": "code",
   "execution_count": 18,
   "metadata": {},
   "outputs": [],
   "source": [
    "pickleLoaded['style'] = pickleLoaded['style'].apply(lambda x: uniqueStyles[uniqueStyles['style'] == x].index.values[0])\n",
    "pickleLoaded['genre'] = pickleLoaded['genre'].apply(lambda x: uniqueGenre[uniqueGenre['genre'] == x].index.values[0])"
   ]
  },
  {
   "cell_type": "code",
   "execution_count": 19,
   "metadata": {},
   "outputs": [],
   "source": [
    "allLabels = allInfo.loc[pickleLoaded.index]['artist']"
   ]
  },
  {
   "cell_type": "code",
   "execution_count": 46,
   "metadata": {},
   "outputs": [
    {
     "data": {
      "application/vnd.jupyter.widget-view+json": {
       "model_id": "bd6a760c84f4420285fa026b54870b4d",
       "version_major": 2,
       "version_minor": 0
      },
      "text/plain": [
       "HBox(children=(IntProgress(value=0, max=214), HTML(value='')))"
      ]
     },
     "metadata": {},
     "output_type": "display_data"
    },
    {
     "data": {
      "application/vnd.jupyter.widget-view+json": {
       "model_id": "",
       "version_major": 2,
       "version_minor": 0
      },
      "text/plain": [
       "HBox(children=(IntProgress(value=0, max=9), HTML(value='')))"
      ]
     },
     "metadata": {},
     "output_type": "display_data"
    },
    {
     "data": {
      "application/vnd.jupyter.widget-view+json": {
       "model_id": "",
       "version_major": 2,
       "version_minor": 0
      },
      "text/plain": [
       "HBox(children=(IntProgress(value=0, max=9), HTML(value='')))"
      ]
     },
     "metadata": {},
     "output_type": "display_data"
    },
    {
     "data": {
      "application/vnd.jupyter.widget-view+json": {
       "model_id": "",
       "version_major": 2,
       "version_minor": 0
      },
      "text/plain": [
       "HBox(children=(IntProgress(value=0, max=9), HTML(value='')))"
      ]
     },
     "metadata": {},
     "output_type": "display_data"
    },
    {
     "data": {
      "application/vnd.jupyter.widget-view+json": {
       "model_id": "",
       "version_major": 2,
       "version_minor": 0
      },
      "text/plain": [
       "HBox(children=(IntProgress(value=0, max=9), HTML(value='')))"
      ]
     },
     "metadata": {},
     "output_type": "display_data"
    },
    {
     "data": {
      "application/vnd.jupyter.widget-view+json": {
       "model_id": "",
       "version_major": 2,
       "version_minor": 0
      },
      "text/plain": [
       "HBox(children=(IntProgress(value=0, max=9), HTML(value='')))"
      ]
     },
     "metadata": {},
     "output_type": "display_data"
    },
    {
     "data": {
      "application/vnd.jupyter.widget-view+json": {
       "model_id": "",
       "version_major": 2,
       "version_minor": 0
      },
      "text/plain": [
       "HBox(children=(IntProgress(value=0, max=9), HTML(value='')))"
      ]
     },
     "metadata": {},
     "output_type": "display_data"
    },
    {
     "data": {
      "application/vnd.jupyter.widget-view+json": {
       "model_id": "",
       "version_major": 2,
       "version_minor": 0
      },
      "text/plain": [
       "HBox(children=(IntProgress(value=0, max=9), HTML(value='')))"
      ]
     },
     "metadata": {},
     "output_type": "display_data"
    },
    {
     "data": {
      "application/vnd.jupyter.widget-view+json": {
       "model_id": "",
       "version_major": 2,
       "version_minor": 0
      },
      "text/plain": [
       "HBox(children=(IntProgress(value=0, max=9), HTML(value='')))"
      ]
     },
     "metadata": {},
     "output_type": "display_data"
    },
    {
     "data": {
      "application/vnd.jupyter.widget-view+json": {
       "model_id": "",
       "version_major": 2,
       "version_minor": 0
      },
      "text/plain": [
       "HBox(children=(IntProgress(value=0, max=9), HTML(value='')))"
      ]
     },
     "metadata": {},
     "output_type": "display_data"
    },
    {
     "data": {
      "application/vnd.jupyter.widget-view+json": {
       "model_id": "",
       "version_major": 2,
       "version_minor": 0
      },
      "text/plain": [
       "HBox(children=(IntProgress(value=0, max=9), HTML(value='')))"
      ]
     },
     "metadata": {},
     "output_type": "display_data"
    },
    {
     "data": {
      "application/vnd.jupyter.widget-view+json": {
       "model_id": "",
       "version_major": 2,
       "version_minor": 0
      },
      "text/plain": [
       "HBox(children=(IntProgress(value=0, max=9), HTML(value='')))"
      ]
     },
     "metadata": {},
     "output_type": "display_data"
    },
    {
     "data": {
      "application/vnd.jupyter.widget-view+json": {
       "model_id": "",
       "version_major": 2,
       "version_minor": 0
      },
      "text/plain": [
       "HBox(children=(IntProgress(value=0, max=9), HTML(value='')))"
      ]
     },
     "metadata": {},
     "output_type": "display_data"
    },
    {
     "data": {
      "application/vnd.jupyter.widget-view+json": {
       "model_id": "",
       "version_major": 2,
       "version_minor": 0
      },
      "text/plain": [
       "HBox(children=(IntProgress(value=0, max=9), HTML(value='')))"
      ]
     },
     "metadata": {},
     "output_type": "display_data"
    },
    {
     "data": {
      "application/vnd.jupyter.widget-view+json": {
       "model_id": "",
       "version_major": 2,
       "version_minor": 0
      },
      "text/plain": [
       "HBox(children=(IntProgress(value=0, max=9), HTML(value='')))"
      ]
     },
     "metadata": {},
     "output_type": "display_data"
    },
    {
     "data": {
      "application/vnd.jupyter.widget-view+json": {
       "model_id": "",
       "version_major": 2,
       "version_minor": 0
      },
      "text/plain": [
       "HBox(children=(IntProgress(value=0, max=9), HTML(value='')))"
      ]
     },
     "metadata": {},
     "output_type": "display_data"
    },
    {
     "data": {
      "application/vnd.jupyter.widget-view+json": {
       "model_id": "",
       "version_major": 2,
       "version_minor": 0
      },
      "text/plain": [
       "HBox(children=(IntProgress(value=0, max=9), HTML(value='')))"
      ]
     },
     "metadata": {},
     "output_type": "display_data"
    },
    {
     "data": {
      "application/vnd.jupyter.widget-view+json": {
       "model_id": "",
       "version_major": 2,
       "version_minor": 0
      },
      "text/plain": [
       "HBox(children=(IntProgress(value=0, max=9), HTML(value='')))"
      ]
     },
     "metadata": {},
     "output_type": "display_data"
    },
    {
     "data": {
      "application/vnd.jupyter.widget-view+json": {
       "model_id": "",
       "version_major": 2,
       "version_minor": 0
      },
      "text/plain": [
       "HBox(children=(IntProgress(value=0, max=9), HTML(value='')))"
      ]
     },
     "metadata": {},
     "output_type": "display_data"
    },
    {
     "data": {
      "application/vnd.jupyter.widget-view+json": {
       "model_id": "",
       "version_major": 2,
       "version_minor": 0
      },
      "text/plain": [
       "HBox(children=(IntProgress(value=0, max=9), HTML(value='')))"
      ]
     },
     "metadata": {},
     "output_type": "display_data"
    },
    {
     "data": {
      "application/vnd.jupyter.widget-view+json": {
       "model_id": "",
       "version_major": 2,
       "version_minor": 0
      },
      "text/plain": [
       "HBox(children=(IntProgress(value=0, max=9), HTML(value='')))"
      ]
     },
     "metadata": {},
     "output_type": "display_data"
    },
    {
     "data": {
      "application/vnd.jupyter.widget-view+json": {
       "model_id": "",
       "version_major": 2,
       "version_minor": 0
      },
      "text/plain": [
       "HBox(children=(IntProgress(value=0, max=9), HTML(value='')))"
      ]
     },
     "metadata": {},
     "output_type": "display_data"
    },
    {
     "data": {
      "application/vnd.jupyter.widget-view+json": {
       "model_id": "",
       "version_major": 2,
       "version_minor": 0
      },
      "text/plain": [
       "HBox(children=(IntProgress(value=0, max=9), HTML(value='')))"
      ]
     },
     "metadata": {},
     "output_type": "display_data"
    },
    {
     "data": {
      "application/vnd.jupyter.widget-view+json": {
       "model_id": "",
       "version_major": 2,
       "version_minor": 0
      },
      "text/plain": [
       "HBox(children=(IntProgress(value=0, max=9), HTML(value='')))"
      ]
     },
     "metadata": {},
     "output_type": "display_data"
    },
    {
     "data": {
      "application/vnd.jupyter.widget-view+json": {
       "model_id": "",
       "version_major": 2,
       "version_minor": 0
      },
      "text/plain": [
       "HBox(children=(IntProgress(value=0, max=9), HTML(value='')))"
      ]
     },
     "metadata": {},
     "output_type": "display_data"
    },
    {
     "data": {
      "application/vnd.jupyter.widget-view+json": {
       "model_id": "",
       "version_major": 2,
       "version_minor": 0
      },
      "text/plain": [
       "HBox(children=(IntProgress(value=0, max=9), HTML(value='')))"
      ]
     },
     "metadata": {},
     "output_type": "display_data"
    },
    {
     "data": {
      "application/vnd.jupyter.widget-view+json": {
       "model_id": "",
       "version_major": 2,
       "version_minor": 0
      },
      "text/plain": [
       "HBox(children=(IntProgress(value=0, max=9), HTML(value='')))"
      ]
     },
     "metadata": {},
     "output_type": "display_data"
    },
    {
     "data": {
      "application/vnd.jupyter.widget-view+json": {
       "model_id": "",
       "version_major": 2,
       "version_minor": 0
      },
      "text/plain": [
       "HBox(children=(IntProgress(value=0, max=9), HTML(value='')))"
      ]
     },
     "metadata": {},
     "output_type": "display_data"
    },
    {
     "data": {
      "application/vnd.jupyter.widget-view+json": {
       "model_id": "",
       "version_major": 2,
       "version_minor": 0
      },
      "text/plain": [
       "HBox(children=(IntProgress(value=0, max=9), HTML(value='')))"
      ]
     },
     "metadata": {},
     "output_type": "display_data"
    },
    {
     "data": {
      "application/vnd.jupyter.widget-view+json": {
       "model_id": "",
       "version_major": 2,
       "version_minor": 0
      },
      "text/plain": [
       "HBox(children=(IntProgress(value=0, max=9), HTML(value='')))"
      ]
     },
     "metadata": {},
     "output_type": "display_data"
    },
    {
     "data": {
      "application/vnd.jupyter.widget-view+json": {
       "model_id": "",
       "version_major": 2,
       "version_minor": 0
      },
      "text/plain": [
       "HBox(children=(IntProgress(value=0, max=9), HTML(value='')))"
      ]
     },
     "metadata": {},
     "output_type": "display_data"
    },
    {
     "data": {
      "application/vnd.jupyter.widget-view+json": {
       "model_id": "",
       "version_major": 2,
       "version_minor": 0
      },
      "text/plain": [
       "HBox(children=(IntProgress(value=0, max=9), HTML(value='')))"
      ]
     },
     "metadata": {},
     "output_type": "display_data"
    },
    {
     "data": {
      "application/vnd.jupyter.widget-view+json": {
       "model_id": "",
       "version_major": 2,
       "version_minor": 0
      },
      "text/plain": [
       "HBox(children=(IntProgress(value=0, max=9), HTML(value='')))"
      ]
     },
     "metadata": {},
     "output_type": "display_data"
    },
    {
     "data": {
      "application/vnd.jupyter.widget-view+json": {
       "model_id": "",
       "version_major": 2,
       "version_minor": 0
      },
      "text/plain": [
       "HBox(children=(IntProgress(value=0, max=9), HTML(value='')))"
      ]
     },
     "metadata": {},
     "output_type": "display_data"
    },
    {
     "data": {
      "application/vnd.jupyter.widget-view+json": {
       "model_id": "",
       "version_major": 2,
       "version_minor": 0
      },
      "text/plain": [
       "HBox(children=(IntProgress(value=0, max=9), HTML(value='')))"
      ]
     },
     "metadata": {},
     "output_type": "display_data"
    },
    {
     "data": {
      "application/vnd.jupyter.widget-view+json": {
       "model_id": "",
       "version_major": 2,
       "version_minor": 0
      },
      "text/plain": [
       "HBox(children=(IntProgress(value=0, max=9), HTML(value='')))"
      ]
     },
     "metadata": {},
     "output_type": "display_data"
    },
    {
     "data": {
      "application/vnd.jupyter.widget-view+json": {
       "model_id": "",
       "version_major": 2,
       "version_minor": 0
      },
      "text/plain": [
       "HBox(children=(IntProgress(value=0, max=9), HTML(value='')))"
      ]
     },
     "metadata": {},
     "output_type": "display_data"
    },
    {
     "data": {
      "application/vnd.jupyter.widget-view+json": {
       "model_id": "",
       "version_major": 2,
       "version_minor": 0
      },
      "text/plain": [
       "HBox(children=(IntProgress(value=0, max=9), HTML(value='')))"
      ]
     },
     "metadata": {},
     "output_type": "display_data"
    },
    {
     "data": {
      "application/vnd.jupyter.widget-view+json": {
       "model_id": "",
       "version_major": 2,
       "version_minor": 0
      },
      "text/plain": [
       "HBox(children=(IntProgress(value=0, max=9), HTML(value='')))"
      ]
     },
     "metadata": {},
     "output_type": "display_data"
    },
    {
     "data": {
      "application/vnd.jupyter.widget-view+json": {
       "model_id": "",
       "version_major": 2,
       "version_minor": 0
      },
      "text/plain": [
       "HBox(children=(IntProgress(value=0, max=9), HTML(value='')))"
      ]
     },
     "metadata": {},
     "output_type": "display_data"
    },
    {
     "data": {
      "application/vnd.jupyter.widget-view+json": {
       "model_id": "",
       "version_major": 2,
       "version_minor": 0
      },
      "text/plain": [
       "HBox(children=(IntProgress(value=0, max=9), HTML(value='')))"
      ]
     },
     "metadata": {},
     "output_type": "display_data"
    },
    {
     "data": {
      "application/vnd.jupyter.widget-view+json": {
       "model_id": "",
       "version_major": 2,
       "version_minor": 0
      },
      "text/plain": [
       "HBox(children=(IntProgress(value=0, max=9), HTML(value='')))"
      ]
     },
     "metadata": {},
     "output_type": "display_data"
    },
    {
     "data": {
      "application/vnd.jupyter.widget-view+json": {
       "model_id": "",
       "version_major": 2,
       "version_minor": 0
      },
      "text/plain": [
       "HBox(children=(IntProgress(value=0, max=9), HTML(value='')))"
      ]
     },
     "metadata": {},
     "output_type": "display_data"
    },
    {
     "data": {
      "application/vnd.jupyter.widget-view+json": {
       "model_id": "",
       "version_major": 2,
       "version_minor": 0
      },
      "text/plain": [
       "HBox(children=(IntProgress(value=0, max=9), HTML(value='')))"
      ]
     },
     "metadata": {},
     "output_type": "display_data"
    },
    {
     "data": {
      "application/vnd.jupyter.widget-view+json": {
       "model_id": "",
       "version_major": 2,
       "version_minor": 0
      },
      "text/plain": [
       "HBox(children=(IntProgress(value=0, max=9), HTML(value='')))"
      ]
     },
     "metadata": {},
     "output_type": "display_data"
    },
    {
     "data": {
      "application/vnd.jupyter.widget-view+json": {
       "model_id": "",
       "version_major": 2,
       "version_minor": 0
      },
      "text/plain": [
       "HBox(children=(IntProgress(value=0, max=9), HTML(value='')))"
      ]
     },
     "metadata": {},
     "output_type": "display_data"
    },
    {
     "data": {
      "application/vnd.jupyter.widget-view+json": {
       "model_id": "",
       "version_major": 2,
       "version_minor": 0
      },
      "text/plain": [
       "HBox(children=(IntProgress(value=0, max=9), HTML(value='')))"
      ]
     },
     "metadata": {},
     "output_type": "display_data"
    },
    {
     "data": {
      "application/vnd.jupyter.widget-view+json": {
       "model_id": "",
       "version_major": 2,
       "version_minor": 0
      },
      "text/plain": [
       "HBox(children=(IntProgress(value=0, max=9), HTML(value='')))"
      ]
     },
     "metadata": {},
     "output_type": "display_data"
    },
    {
     "data": {
      "application/vnd.jupyter.widget-view+json": {
       "model_id": "",
       "version_major": 2,
       "version_minor": 0
      },
      "text/plain": [
       "HBox(children=(IntProgress(value=0, max=9), HTML(value='')))"
      ]
     },
     "metadata": {},
     "output_type": "display_data"
    },
    {
     "data": {
      "application/vnd.jupyter.widget-view+json": {
       "model_id": "",
       "version_major": 2,
       "version_minor": 0
      },
      "text/plain": [
       "HBox(children=(IntProgress(value=0, max=9), HTML(value='')))"
      ]
     },
     "metadata": {},
     "output_type": "display_data"
    },
    {
     "data": {
      "application/vnd.jupyter.widget-view+json": {
       "model_id": "",
       "version_major": 2,
       "version_minor": 0
      },
      "text/plain": [
       "HBox(children=(IntProgress(value=0, max=9), HTML(value='')))"
      ]
     },
     "metadata": {},
     "output_type": "display_data"
    },
    {
     "data": {
      "application/vnd.jupyter.widget-view+json": {
       "model_id": "",
       "version_major": 2,
       "version_minor": 0
      },
      "text/plain": [
       "HBox(children=(IntProgress(value=0, max=9), HTML(value='')))"
      ]
     },
     "metadata": {},
     "output_type": "display_data"
    },
    {
     "data": {
      "application/vnd.jupyter.widget-view+json": {
       "model_id": "",
       "version_major": 2,
       "version_minor": 0
      },
      "text/plain": [
       "HBox(children=(IntProgress(value=0, max=9), HTML(value='')))"
      ]
     },
     "metadata": {},
     "output_type": "display_data"
    },
    {
     "data": {
      "application/vnd.jupyter.widget-view+json": {
       "model_id": "",
       "version_major": 2,
       "version_minor": 0
      },
      "text/plain": [
       "HBox(children=(IntProgress(value=0, max=9), HTML(value='')))"
      ]
     },
     "metadata": {},
     "output_type": "display_data"
    },
    {
     "data": {
      "application/vnd.jupyter.widget-view+json": {
       "model_id": "",
       "version_major": 2,
       "version_minor": 0
      },
      "text/plain": [
       "HBox(children=(IntProgress(value=0, max=9), HTML(value='')))"
      ]
     },
     "metadata": {},
     "output_type": "display_data"
    },
    {
     "data": {
      "application/vnd.jupyter.widget-view+json": {
       "model_id": "",
       "version_major": 2,
       "version_minor": 0
      },
      "text/plain": [
       "HBox(children=(IntProgress(value=0, max=9), HTML(value='')))"
      ]
     },
     "metadata": {},
     "output_type": "display_data"
    },
    {
     "data": {
      "application/vnd.jupyter.widget-view+json": {
       "model_id": "",
       "version_major": 2,
       "version_minor": 0
      },
      "text/plain": [
       "HBox(children=(IntProgress(value=0, max=9), HTML(value='')))"
      ]
     },
     "metadata": {},
     "output_type": "display_data"
    },
    {
     "data": {
      "application/vnd.jupyter.widget-view+json": {
       "model_id": "",
       "version_major": 2,
       "version_minor": 0
      },
      "text/plain": [
       "HBox(children=(IntProgress(value=0, max=9), HTML(value='')))"
      ]
     },
     "metadata": {},
     "output_type": "display_data"
    },
    {
     "data": {
      "application/vnd.jupyter.widget-view+json": {
       "model_id": "",
       "version_major": 2,
       "version_minor": 0
      },
      "text/plain": [
       "HBox(children=(IntProgress(value=0, max=9), HTML(value='')))"
      ]
     },
     "metadata": {},
     "output_type": "display_data"
    },
    {
     "data": {
      "application/vnd.jupyter.widget-view+json": {
       "model_id": "",
       "version_major": 2,
       "version_minor": 0
      },
      "text/plain": [
       "HBox(children=(IntProgress(value=0, max=9), HTML(value='')))"
      ]
     },
     "metadata": {},
     "output_type": "display_data"
    },
    {
     "data": {
      "application/vnd.jupyter.widget-view+json": {
       "model_id": "",
       "version_major": 2,
       "version_minor": 0
      },
      "text/plain": [
       "HBox(children=(IntProgress(value=0, max=9), HTML(value='')))"
      ]
     },
     "metadata": {},
     "output_type": "display_data"
    },
    {
     "data": {
      "application/vnd.jupyter.widget-view+json": {
       "model_id": "",
       "version_major": 2,
       "version_minor": 0
      },
      "text/plain": [
       "HBox(children=(IntProgress(value=0, max=9), HTML(value='')))"
      ]
     },
     "metadata": {},
     "output_type": "display_data"
    },
    {
     "data": {
      "application/vnd.jupyter.widget-view+json": {
       "model_id": "",
       "version_major": 2,
       "version_minor": 0
      },
      "text/plain": [
       "HBox(children=(IntProgress(value=0, max=9), HTML(value='')))"
      ]
     },
     "metadata": {},
     "output_type": "display_data"
    },
    {
     "data": {
      "application/vnd.jupyter.widget-view+json": {
       "model_id": "",
       "version_major": 2,
       "version_minor": 0
      },
      "text/plain": [
       "HBox(children=(IntProgress(value=0, max=9), HTML(value='')))"
      ]
     },
     "metadata": {},
     "output_type": "display_data"
    },
    {
     "data": {
      "application/vnd.jupyter.widget-view+json": {
       "model_id": "",
       "version_major": 2,
       "version_minor": 0
      },
      "text/plain": [
       "HBox(children=(IntProgress(value=0, max=9), HTML(value='')))"
      ]
     },
     "metadata": {},
     "output_type": "display_data"
    },
    {
     "data": {
      "application/vnd.jupyter.widget-view+json": {
       "model_id": "",
       "version_major": 2,
       "version_minor": 0
      },
      "text/plain": [
       "HBox(children=(IntProgress(value=0, max=9), HTML(value='')))"
      ]
     },
     "metadata": {},
     "output_type": "display_data"
    },
    {
     "data": {
      "application/vnd.jupyter.widget-view+json": {
       "model_id": "",
       "version_major": 2,
       "version_minor": 0
      },
      "text/plain": [
       "HBox(children=(IntProgress(value=0, max=9), HTML(value='')))"
      ]
     },
     "metadata": {},
     "output_type": "display_data"
    },
    {
     "data": {
      "application/vnd.jupyter.widget-view+json": {
       "model_id": "",
       "version_major": 2,
       "version_minor": 0
      },
      "text/plain": [
       "HBox(children=(IntProgress(value=0, max=9), HTML(value='')))"
      ]
     },
     "metadata": {},
     "output_type": "display_data"
    },
    {
     "data": {
      "application/vnd.jupyter.widget-view+json": {
       "model_id": "",
       "version_major": 2,
       "version_minor": 0
      },
      "text/plain": [
       "HBox(children=(IntProgress(value=0, max=9), HTML(value='')))"
      ]
     },
     "metadata": {},
     "output_type": "display_data"
    },
    {
     "data": {
      "application/vnd.jupyter.widget-view+json": {
       "model_id": "",
       "version_major": 2,
       "version_minor": 0
      },
      "text/plain": [
       "HBox(children=(IntProgress(value=0, max=9), HTML(value='')))"
      ]
     },
     "metadata": {},
     "output_type": "display_data"
    },
    {
     "data": {
      "application/vnd.jupyter.widget-view+json": {
       "model_id": "",
       "version_major": 2,
       "version_minor": 0
      },
      "text/plain": [
       "HBox(children=(IntProgress(value=0, max=9), HTML(value='')))"
      ]
     },
     "metadata": {},
     "output_type": "display_data"
    },
    {
     "data": {
      "application/vnd.jupyter.widget-view+json": {
       "model_id": "",
       "version_major": 2,
       "version_minor": 0
      },
      "text/plain": [
       "HBox(children=(IntProgress(value=0, max=9), HTML(value='')))"
      ]
     },
     "metadata": {},
     "output_type": "display_data"
    },
    {
     "data": {
      "application/vnd.jupyter.widget-view+json": {
       "model_id": "",
       "version_major": 2,
       "version_minor": 0
      },
      "text/plain": [
       "HBox(children=(IntProgress(value=0, max=9), HTML(value='')))"
      ]
     },
     "metadata": {},
     "output_type": "display_data"
    },
    {
     "data": {
      "application/vnd.jupyter.widget-view+json": {
       "model_id": "",
       "version_major": 2,
       "version_minor": 0
      },
      "text/plain": [
       "HBox(children=(IntProgress(value=0, max=9), HTML(value='')))"
      ]
     },
     "metadata": {},
     "output_type": "display_data"
    },
    {
     "data": {
      "application/vnd.jupyter.widget-view+json": {
       "model_id": "",
       "version_major": 2,
       "version_minor": 0
      },
      "text/plain": [
       "HBox(children=(IntProgress(value=0, max=9), HTML(value='')))"
      ]
     },
     "metadata": {},
     "output_type": "display_data"
    },
    {
     "data": {
      "application/vnd.jupyter.widget-view+json": {
       "model_id": "",
       "version_major": 2,
       "version_minor": 0
      },
      "text/plain": [
       "HBox(children=(IntProgress(value=0, max=9), HTML(value='')))"
      ]
     },
     "metadata": {},
     "output_type": "display_data"
    },
    {
     "data": {
      "application/vnd.jupyter.widget-view+json": {
       "model_id": "",
       "version_major": 2,
       "version_minor": 0
      },
      "text/plain": [
       "HBox(children=(IntProgress(value=0, max=9), HTML(value='')))"
      ]
     },
     "metadata": {},
     "output_type": "display_data"
    },
    {
     "data": {
      "application/vnd.jupyter.widget-view+json": {
       "model_id": "",
       "version_major": 2,
       "version_minor": 0
      },
      "text/plain": [
       "HBox(children=(IntProgress(value=0, max=9), HTML(value='')))"
      ]
     },
     "metadata": {},
     "output_type": "display_data"
    },
    {
     "data": {
      "application/vnd.jupyter.widget-view+json": {
       "model_id": "",
       "version_major": 2,
       "version_minor": 0
      },
      "text/plain": [
       "HBox(children=(IntProgress(value=0, max=9), HTML(value='')))"
      ]
     },
     "metadata": {},
     "output_type": "display_data"
    },
    {
     "data": {
      "application/vnd.jupyter.widget-view+json": {
       "model_id": "",
       "version_major": 2,
       "version_minor": 0
      },
      "text/plain": [
       "HBox(children=(IntProgress(value=0, max=9), HTML(value='')))"
      ]
     },
     "metadata": {},
     "output_type": "display_data"
    },
    {
     "data": {
      "application/vnd.jupyter.widget-view+json": {
       "model_id": "",
       "version_major": 2,
       "version_minor": 0
      },
      "text/plain": [
       "HBox(children=(IntProgress(value=0, max=9), HTML(value='')))"
      ]
     },
     "metadata": {},
     "output_type": "display_data"
    },
    {
     "data": {
      "application/vnd.jupyter.widget-view+json": {
       "model_id": "",
       "version_major": 2,
       "version_minor": 0
      },
      "text/plain": [
       "HBox(children=(IntProgress(value=0, max=9), HTML(value='')))"
      ]
     },
     "metadata": {},
     "output_type": "display_data"
    },
    {
     "data": {
      "application/vnd.jupyter.widget-view+json": {
       "model_id": "",
       "version_major": 2,
       "version_minor": 0
      },
      "text/plain": [
       "HBox(children=(IntProgress(value=0, max=9), HTML(value='')))"
      ]
     },
     "metadata": {},
     "output_type": "display_data"
    },
    {
     "data": {
      "application/vnd.jupyter.widget-view+json": {
       "model_id": "",
       "version_major": 2,
       "version_minor": 0
      },
      "text/plain": [
       "HBox(children=(IntProgress(value=0, max=9), HTML(value='')))"
      ]
     },
     "metadata": {},
     "output_type": "display_data"
    },
    {
     "data": {
      "application/vnd.jupyter.widget-view+json": {
       "model_id": "",
       "version_major": 2,
       "version_minor": 0
      },
      "text/plain": [
       "HBox(children=(IntProgress(value=0, max=9), HTML(value='')))"
      ]
     },
     "metadata": {},
     "output_type": "display_data"
    },
    {
     "data": {
      "application/vnd.jupyter.widget-view+json": {
       "model_id": "",
       "version_major": 2,
       "version_minor": 0
      },
      "text/plain": [
       "HBox(children=(IntProgress(value=0, max=9), HTML(value='')))"
      ]
     },
     "metadata": {},
     "output_type": "display_data"
    },
    {
     "data": {
      "application/vnd.jupyter.widget-view+json": {
       "model_id": "",
       "version_major": 2,
       "version_minor": 0
      },
      "text/plain": [
       "HBox(children=(IntProgress(value=0, max=9), HTML(value='')))"
      ]
     },
     "metadata": {},
     "output_type": "display_data"
    },
    {
     "data": {
      "application/vnd.jupyter.widget-view+json": {
       "model_id": "",
       "version_major": 2,
       "version_minor": 0
      },
      "text/plain": [
       "HBox(children=(IntProgress(value=0, max=9), HTML(value='')))"
      ]
     },
     "metadata": {},
     "output_type": "display_data"
    },
    {
     "data": {
      "application/vnd.jupyter.widget-view+json": {
       "model_id": "",
       "version_major": 2,
       "version_minor": 0
      },
      "text/plain": [
       "HBox(children=(IntProgress(value=0, max=9), HTML(value='')))"
      ]
     },
     "metadata": {},
     "output_type": "display_data"
    },
    {
     "data": {
      "application/vnd.jupyter.widget-view+json": {
       "model_id": "",
       "version_major": 2,
       "version_minor": 0
      },
      "text/plain": [
       "HBox(children=(IntProgress(value=0, max=9), HTML(value='')))"
      ]
     },
     "metadata": {},
     "output_type": "display_data"
    },
    {
     "data": {
      "application/vnd.jupyter.widget-view+json": {
       "model_id": "",
       "version_major": 2,
       "version_minor": 0
      },
      "text/plain": [
       "HBox(children=(IntProgress(value=0, max=9), HTML(value='')))"
      ]
     },
     "metadata": {},
     "output_type": "display_data"
    },
    {
     "data": {
      "application/vnd.jupyter.widget-view+json": {
       "model_id": "",
       "version_major": 2,
       "version_minor": 0
      },
      "text/plain": [
       "HBox(children=(IntProgress(value=0, max=9), HTML(value='')))"
      ]
     },
     "metadata": {},
     "output_type": "display_data"
    },
    {
     "data": {
      "application/vnd.jupyter.widget-view+json": {
       "model_id": "",
       "version_major": 2,
       "version_minor": 0
      },
      "text/plain": [
       "HBox(children=(IntProgress(value=0, max=9), HTML(value='')))"
      ]
     },
     "metadata": {},
     "output_type": "display_data"
    },
    {
     "data": {
      "application/vnd.jupyter.widget-view+json": {
       "model_id": "",
       "version_major": 2,
       "version_minor": 0
      },
      "text/plain": [
       "HBox(children=(IntProgress(value=0, max=9), HTML(value='')))"
      ]
     },
     "metadata": {},
     "output_type": "display_data"
    },
    {
     "data": {
      "application/vnd.jupyter.widget-view+json": {
       "model_id": "",
       "version_major": 2,
       "version_minor": 0
      },
      "text/plain": [
       "HBox(children=(IntProgress(value=0, max=9), HTML(value='')))"
      ]
     },
     "metadata": {},
     "output_type": "display_data"
    },
    {
     "data": {
      "application/vnd.jupyter.widget-view+json": {
       "model_id": "",
       "version_major": 2,
       "version_minor": 0
      },
      "text/plain": [
       "HBox(children=(IntProgress(value=0, max=9), HTML(value='')))"
      ]
     },
     "metadata": {},
     "output_type": "display_data"
    },
    {
     "data": {
      "application/vnd.jupyter.widget-view+json": {
       "model_id": "",
       "version_major": 2,
       "version_minor": 0
      },
      "text/plain": [
       "HBox(children=(IntProgress(value=0, max=9), HTML(value='')))"
      ]
     },
     "metadata": {},
     "output_type": "display_data"
    },
    {
     "data": {
      "application/vnd.jupyter.widget-view+json": {
       "model_id": "",
       "version_major": 2,
       "version_minor": 0
      },
      "text/plain": [
       "HBox(children=(IntProgress(value=0, max=9), HTML(value='')))"
      ]
     },
     "metadata": {},
     "output_type": "display_data"
    },
    {
     "data": {
      "application/vnd.jupyter.widget-view+json": {
       "model_id": "",
       "version_major": 2,
       "version_minor": 0
      },
      "text/plain": [
       "HBox(children=(IntProgress(value=0, max=9), HTML(value='')))"
      ]
     },
     "metadata": {},
     "output_type": "display_data"
    },
    {
     "data": {
      "application/vnd.jupyter.widget-view+json": {
       "model_id": "",
       "version_major": 2,
       "version_minor": 0
      },
      "text/plain": [
       "HBox(children=(IntProgress(value=0, max=9), HTML(value='')))"
      ]
     },
     "metadata": {},
     "output_type": "display_data"
    },
    {
     "data": {
      "application/vnd.jupyter.widget-view+json": {
       "model_id": "",
       "version_major": 2,
       "version_minor": 0
      },
      "text/plain": [
       "HBox(children=(IntProgress(value=0, max=9), HTML(value='')))"
      ]
     },
     "metadata": {},
     "output_type": "display_data"
    },
    {
     "data": {
      "application/vnd.jupyter.widget-view+json": {
       "model_id": "",
       "version_major": 2,
       "version_minor": 0
      },
      "text/plain": [
       "HBox(children=(IntProgress(value=0, max=9), HTML(value='')))"
      ]
     },
     "metadata": {},
     "output_type": "display_data"
    },
    {
     "data": {
      "application/vnd.jupyter.widget-view+json": {
       "model_id": "",
       "version_major": 2,
       "version_minor": 0
      },
      "text/plain": [
       "HBox(children=(IntProgress(value=0, max=9), HTML(value='')))"
      ]
     },
     "metadata": {},
     "output_type": "display_data"
    },
    {
     "data": {
      "application/vnd.jupyter.widget-view+json": {
       "model_id": "",
       "version_major": 2,
       "version_minor": 0
      },
      "text/plain": [
       "HBox(children=(IntProgress(value=0, max=9), HTML(value='')))"
      ]
     },
     "metadata": {},
     "output_type": "display_data"
    },
    {
     "data": {
      "application/vnd.jupyter.widget-view+json": {
       "model_id": "",
       "version_major": 2,
       "version_minor": 0
      },
      "text/plain": [
       "HBox(children=(IntProgress(value=0, max=9), HTML(value='')))"
      ]
     },
     "metadata": {},
     "output_type": "display_data"
    },
    {
     "data": {
      "application/vnd.jupyter.widget-view+json": {
       "model_id": "",
       "version_major": 2,
       "version_minor": 0
      },
      "text/plain": [
       "HBox(children=(IntProgress(value=0, max=9), HTML(value='')))"
      ]
     },
     "metadata": {},
     "output_type": "display_data"
    },
    {
     "data": {
      "application/vnd.jupyter.widget-view+json": {
       "model_id": "",
       "version_major": 2,
       "version_minor": 0
      },
      "text/plain": [
       "HBox(children=(IntProgress(value=0, max=9), HTML(value='')))"
      ]
     },
     "metadata": {},
     "output_type": "display_data"
    },
    {
     "data": {
      "application/vnd.jupyter.widget-view+json": {
       "model_id": "",
       "version_major": 2,
       "version_minor": 0
      },
      "text/plain": [
       "HBox(children=(IntProgress(value=0, max=9), HTML(value='')))"
      ]
     },
     "metadata": {},
     "output_type": "display_data"
    },
    {
     "data": {
      "application/vnd.jupyter.widget-view+json": {
       "model_id": "",
       "version_major": 2,
       "version_minor": 0
      },
      "text/plain": [
       "HBox(children=(IntProgress(value=0, max=9), HTML(value='')))"
      ]
     },
     "metadata": {},
     "output_type": "display_data"
    },
    {
     "data": {
      "application/vnd.jupyter.widget-view+json": {
       "model_id": "",
       "version_major": 2,
       "version_minor": 0
      },
      "text/plain": [
       "HBox(children=(IntProgress(value=0, max=9), HTML(value='')))"
      ]
     },
     "metadata": {},
     "output_type": "display_data"
    },
    {
     "data": {
      "application/vnd.jupyter.widget-view+json": {
       "model_id": "",
       "version_major": 2,
       "version_minor": 0
      },
      "text/plain": [
       "HBox(children=(IntProgress(value=0, max=9), HTML(value='')))"
      ]
     },
     "metadata": {},
     "output_type": "display_data"
    },
    {
     "data": {
      "application/vnd.jupyter.widget-view+json": {
       "model_id": "",
       "version_major": 2,
       "version_minor": 0
      },
      "text/plain": [
       "HBox(children=(IntProgress(value=0, max=9), HTML(value='')))"
      ]
     },
     "metadata": {},
     "output_type": "display_data"
    },
    {
     "data": {
      "application/vnd.jupyter.widget-view+json": {
       "model_id": "",
       "version_major": 2,
       "version_minor": 0
      },
      "text/plain": [
       "HBox(children=(IntProgress(value=0, max=9), HTML(value='')))"
      ]
     },
     "metadata": {},
     "output_type": "display_data"
    },
    {
     "data": {
      "application/vnd.jupyter.widget-view+json": {
       "model_id": "",
       "version_major": 2,
       "version_minor": 0
      },
      "text/plain": [
       "HBox(children=(IntProgress(value=0, max=9), HTML(value='')))"
      ]
     },
     "metadata": {},
     "output_type": "display_data"
    },
    {
     "data": {
      "application/vnd.jupyter.widget-view+json": {
       "model_id": "",
       "version_major": 2,
       "version_minor": 0
      },
      "text/plain": [
       "HBox(children=(IntProgress(value=0, max=9), HTML(value='')))"
      ]
     },
     "metadata": {},
     "output_type": "display_data"
    },
    {
     "data": {
      "application/vnd.jupyter.widget-view+json": {
       "model_id": "",
       "version_major": 2,
       "version_minor": 0
      },
      "text/plain": [
       "HBox(children=(IntProgress(value=0, max=9), HTML(value='')))"
      ]
     },
     "metadata": {},
     "output_type": "display_data"
    },
    {
     "data": {
      "application/vnd.jupyter.widget-view+json": {
       "model_id": "",
       "version_major": 2,
       "version_minor": 0
      },
      "text/plain": [
       "HBox(children=(IntProgress(value=0, max=9), HTML(value='')))"
      ]
     },
     "metadata": {},
     "output_type": "display_data"
    },
    {
     "data": {
      "application/vnd.jupyter.widget-view+json": {
       "model_id": "",
       "version_major": 2,
       "version_minor": 0
      },
      "text/plain": [
       "HBox(children=(IntProgress(value=0, max=9), HTML(value='')))"
      ]
     },
     "metadata": {},
     "output_type": "display_data"
    },
    {
     "data": {
      "application/vnd.jupyter.widget-view+json": {
       "model_id": "",
       "version_major": 2,
       "version_minor": 0
      },
      "text/plain": [
       "HBox(children=(IntProgress(value=0, max=9), HTML(value='')))"
      ]
     },
     "metadata": {},
     "output_type": "display_data"
    },
    {
     "data": {
      "application/vnd.jupyter.widget-view+json": {
       "model_id": "",
       "version_major": 2,
       "version_minor": 0
      },
      "text/plain": [
       "HBox(children=(IntProgress(value=0, max=9), HTML(value='')))"
      ]
     },
     "metadata": {},
     "output_type": "display_data"
    },
    {
     "data": {
      "application/vnd.jupyter.widget-view+json": {
       "model_id": "",
       "version_major": 2,
       "version_minor": 0
      },
      "text/plain": [
       "HBox(children=(IntProgress(value=0, max=9), HTML(value='')))"
      ]
     },
     "metadata": {},
     "output_type": "display_data"
    },
    {
     "data": {
      "application/vnd.jupyter.widget-view+json": {
       "model_id": "",
       "version_major": 2,
       "version_minor": 0
      },
      "text/plain": [
       "HBox(children=(IntProgress(value=0, max=9), HTML(value='')))"
      ]
     },
     "metadata": {},
     "output_type": "display_data"
    },
    {
     "data": {
      "application/vnd.jupyter.widget-view+json": {
       "model_id": "",
       "version_major": 2,
       "version_minor": 0
      },
      "text/plain": [
       "HBox(children=(IntProgress(value=0, max=9), HTML(value='')))"
      ]
     },
     "metadata": {},
     "output_type": "display_data"
    },
    {
     "data": {
      "application/vnd.jupyter.widget-view+json": {
       "model_id": "",
       "version_major": 2,
       "version_minor": 0
      },
      "text/plain": [
       "HBox(children=(IntProgress(value=0, max=9), HTML(value='')))"
      ]
     },
     "metadata": {},
     "output_type": "display_data"
    },
    {
     "data": {
      "application/vnd.jupyter.widget-view+json": {
       "model_id": "",
       "version_major": 2,
       "version_minor": 0
      },
      "text/plain": [
       "HBox(children=(IntProgress(value=0, max=9), HTML(value='')))"
      ]
     },
     "metadata": {},
     "output_type": "display_data"
    },
    {
     "data": {
      "application/vnd.jupyter.widget-view+json": {
       "model_id": "",
       "version_major": 2,
       "version_minor": 0
      },
      "text/plain": [
       "HBox(children=(IntProgress(value=0, max=9), HTML(value='')))"
      ]
     },
     "metadata": {},
     "output_type": "display_data"
    },
    {
     "data": {
      "application/vnd.jupyter.widget-view+json": {
       "model_id": "",
       "version_major": 2,
       "version_minor": 0
      },
      "text/plain": [
       "HBox(children=(IntProgress(value=0, max=9), HTML(value='')))"
      ]
     },
     "metadata": {},
     "output_type": "display_data"
    },
    {
     "data": {
      "application/vnd.jupyter.widget-view+json": {
       "model_id": "",
       "version_major": 2,
       "version_minor": 0
      },
      "text/plain": [
       "HBox(children=(IntProgress(value=0, max=9), HTML(value='')))"
      ]
     },
     "metadata": {},
     "output_type": "display_data"
    },
    {
     "data": {
      "application/vnd.jupyter.widget-view+json": {
       "model_id": "",
       "version_major": 2,
       "version_minor": 0
      },
      "text/plain": [
       "HBox(children=(IntProgress(value=0, max=9), HTML(value='')))"
      ]
     },
     "metadata": {},
     "output_type": "display_data"
    },
    {
     "data": {
      "application/vnd.jupyter.widget-view+json": {
       "model_id": "",
       "version_major": 2,
       "version_minor": 0
      },
      "text/plain": [
       "HBox(children=(IntProgress(value=0, max=9), HTML(value='')))"
      ]
     },
     "metadata": {},
     "output_type": "display_data"
    },
    {
     "data": {
      "application/vnd.jupyter.widget-view+json": {
       "model_id": "",
       "version_major": 2,
       "version_minor": 0
      },
      "text/plain": [
       "HBox(children=(IntProgress(value=0, max=9), HTML(value='')))"
      ]
     },
     "metadata": {},
     "output_type": "display_data"
    },
    {
     "data": {
      "application/vnd.jupyter.widget-view+json": {
       "model_id": "",
       "version_major": 2,
       "version_minor": 0
      },
      "text/plain": [
       "HBox(children=(IntProgress(value=0, max=9), HTML(value='')))"
      ]
     },
     "metadata": {},
     "output_type": "display_data"
    },
    {
     "data": {
      "application/vnd.jupyter.widget-view+json": {
       "model_id": "",
       "version_major": 2,
       "version_minor": 0
      },
      "text/plain": [
       "HBox(children=(IntProgress(value=0, max=9), HTML(value='')))"
      ]
     },
     "metadata": {},
     "output_type": "display_data"
    },
    {
     "data": {
      "application/vnd.jupyter.widget-view+json": {
       "model_id": "",
       "version_major": 2,
       "version_minor": 0
      },
      "text/plain": [
       "HBox(children=(IntProgress(value=0, max=9), HTML(value='')))"
      ]
     },
     "metadata": {},
     "output_type": "display_data"
    },
    {
     "data": {
      "application/vnd.jupyter.widget-view+json": {
       "model_id": "",
       "version_major": 2,
       "version_minor": 0
      },
      "text/plain": [
       "HBox(children=(IntProgress(value=0, max=9), HTML(value='')))"
      ]
     },
     "metadata": {},
     "output_type": "display_data"
    },
    {
     "data": {
      "application/vnd.jupyter.widget-view+json": {
       "model_id": "",
       "version_major": 2,
       "version_minor": 0
      },
      "text/plain": [
       "HBox(children=(IntProgress(value=0, max=9), HTML(value='')))"
      ]
     },
     "metadata": {},
     "output_type": "display_data"
    },
    {
     "data": {
      "application/vnd.jupyter.widget-view+json": {
       "model_id": "",
       "version_major": 2,
       "version_minor": 0
      },
      "text/plain": [
       "HBox(children=(IntProgress(value=0, max=9), HTML(value='')))"
      ]
     },
     "metadata": {},
     "output_type": "display_data"
    },
    {
     "data": {
      "application/vnd.jupyter.widget-view+json": {
       "model_id": "",
       "version_major": 2,
       "version_minor": 0
      },
      "text/plain": [
       "HBox(children=(IntProgress(value=0, max=9), HTML(value='')))"
      ]
     },
     "metadata": {},
     "output_type": "display_data"
    },
    {
     "data": {
      "application/vnd.jupyter.widget-view+json": {
       "model_id": "",
       "version_major": 2,
       "version_minor": 0
      },
      "text/plain": [
       "HBox(children=(IntProgress(value=0, max=9), HTML(value='')))"
      ]
     },
     "metadata": {},
     "output_type": "display_data"
    },
    {
     "data": {
      "application/vnd.jupyter.widget-view+json": {
       "model_id": "",
       "version_major": 2,
       "version_minor": 0
      },
      "text/plain": [
       "HBox(children=(IntProgress(value=0, max=9), HTML(value='')))"
      ]
     },
     "metadata": {},
     "output_type": "display_data"
    },
    {
     "data": {
      "application/vnd.jupyter.widget-view+json": {
       "model_id": "",
       "version_major": 2,
       "version_minor": 0
      },
      "text/plain": [
       "HBox(children=(IntProgress(value=0, max=9), HTML(value='')))"
      ]
     },
     "metadata": {},
     "output_type": "display_data"
    },
    {
     "data": {
      "application/vnd.jupyter.widget-view+json": {
       "model_id": "",
       "version_major": 2,
       "version_minor": 0
      },
      "text/plain": [
       "HBox(children=(IntProgress(value=0, max=9), HTML(value='')))"
      ]
     },
     "metadata": {},
     "output_type": "display_data"
    },
    {
     "data": {
      "application/vnd.jupyter.widget-view+json": {
       "model_id": "",
       "version_major": 2,
       "version_minor": 0
      },
      "text/plain": [
       "HBox(children=(IntProgress(value=0, max=9), HTML(value='')))"
      ]
     },
     "metadata": {},
     "output_type": "display_data"
    },
    {
     "data": {
      "application/vnd.jupyter.widget-view+json": {
       "model_id": "",
       "version_major": 2,
       "version_minor": 0
      },
      "text/plain": [
       "HBox(children=(IntProgress(value=0, max=9), HTML(value='')))"
      ]
     },
     "metadata": {},
     "output_type": "display_data"
    },
    {
     "data": {
      "application/vnd.jupyter.widget-view+json": {
       "model_id": "",
       "version_major": 2,
       "version_minor": 0
      },
      "text/plain": [
       "HBox(children=(IntProgress(value=0, max=9), HTML(value='')))"
      ]
     },
     "metadata": {},
     "output_type": "display_data"
    },
    {
     "data": {
      "application/vnd.jupyter.widget-view+json": {
       "model_id": "",
       "version_major": 2,
       "version_minor": 0
      },
      "text/plain": [
       "HBox(children=(IntProgress(value=0, max=9), HTML(value='')))"
      ]
     },
     "metadata": {},
     "output_type": "display_data"
    },
    {
     "data": {
      "application/vnd.jupyter.widget-view+json": {
       "model_id": "",
       "version_major": 2,
       "version_minor": 0
      },
      "text/plain": [
       "HBox(children=(IntProgress(value=0, max=9), HTML(value='')))"
      ]
     },
     "metadata": {},
     "output_type": "display_data"
    },
    {
     "data": {
      "application/vnd.jupyter.widget-view+json": {
       "model_id": "",
       "version_major": 2,
       "version_minor": 0
      },
      "text/plain": [
       "HBox(children=(IntProgress(value=0, max=9), HTML(value='')))"
      ]
     },
     "metadata": {},
     "output_type": "display_data"
    },
    {
     "data": {
      "application/vnd.jupyter.widget-view+json": {
       "model_id": "",
       "version_major": 2,
       "version_minor": 0
      },
      "text/plain": [
       "HBox(children=(IntProgress(value=0, max=9), HTML(value='')))"
      ]
     },
     "metadata": {},
     "output_type": "display_data"
    },
    {
     "data": {
      "application/vnd.jupyter.widget-view+json": {
       "model_id": "",
       "version_major": 2,
       "version_minor": 0
      },
      "text/plain": [
       "HBox(children=(IntProgress(value=0, max=9), HTML(value='')))"
      ]
     },
     "metadata": {},
     "output_type": "display_data"
    },
    {
     "data": {
      "application/vnd.jupyter.widget-view+json": {
       "model_id": "",
       "version_major": 2,
       "version_minor": 0
      },
      "text/plain": [
       "HBox(children=(IntProgress(value=0, max=9), HTML(value='')))"
      ]
     },
     "metadata": {},
     "output_type": "display_data"
    },
    {
     "data": {
      "application/vnd.jupyter.widget-view+json": {
       "model_id": "",
       "version_major": 2,
       "version_minor": 0
      },
      "text/plain": [
       "HBox(children=(IntProgress(value=0, max=9), HTML(value='')))"
      ]
     },
     "metadata": {},
     "output_type": "display_data"
    },
    {
     "data": {
      "application/vnd.jupyter.widget-view+json": {
       "model_id": "",
       "version_major": 2,
       "version_minor": 0
      },
      "text/plain": [
       "HBox(children=(IntProgress(value=0, max=9), HTML(value='')))"
      ]
     },
     "metadata": {},
     "output_type": "display_data"
    },
    {
     "data": {
      "application/vnd.jupyter.widget-view+json": {
       "model_id": "",
       "version_major": 2,
       "version_minor": 0
      },
      "text/plain": [
       "HBox(children=(IntProgress(value=0, max=9), HTML(value='')))"
      ]
     },
     "metadata": {},
     "output_type": "display_data"
    },
    {
     "data": {
      "application/vnd.jupyter.widget-view+json": {
       "model_id": "",
       "version_major": 2,
       "version_minor": 0
      },
      "text/plain": [
       "HBox(children=(IntProgress(value=0, max=9), HTML(value='')))"
      ]
     },
     "metadata": {},
     "output_type": "display_data"
    },
    {
     "data": {
      "application/vnd.jupyter.widget-view+json": {
       "model_id": "",
       "version_major": 2,
       "version_minor": 0
      },
      "text/plain": [
       "HBox(children=(IntProgress(value=0, max=9), HTML(value='')))"
      ]
     },
     "metadata": {},
     "output_type": "display_data"
    },
    {
     "data": {
      "application/vnd.jupyter.widget-view+json": {
       "model_id": "",
       "version_major": 2,
       "version_minor": 0
      },
      "text/plain": [
       "HBox(children=(IntProgress(value=0, max=9), HTML(value='')))"
      ]
     },
     "metadata": {},
     "output_type": "display_data"
    },
    {
     "data": {
      "application/vnd.jupyter.widget-view+json": {
       "model_id": "",
       "version_major": 2,
       "version_minor": 0
      },
      "text/plain": [
       "HBox(children=(IntProgress(value=0, max=9), HTML(value='')))"
      ]
     },
     "metadata": {},
     "output_type": "display_data"
    },
    {
     "data": {
      "application/vnd.jupyter.widget-view+json": {
       "model_id": "",
       "version_major": 2,
       "version_minor": 0
      },
      "text/plain": [
       "HBox(children=(IntProgress(value=0, max=9), HTML(value='')))"
      ]
     },
     "metadata": {},
     "output_type": "display_data"
    },
    {
     "data": {
      "application/vnd.jupyter.widget-view+json": {
       "model_id": "",
       "version_major": 2,
       "version_minor": 0
      },
      "text/plain": [
       "HBox(children=(IntProgress(value=0, max=9), HTML(value='')))"
      ]
     },
     "metadata": {},
     "output_type": "display_data"
    },
    {
     "data": {
      "application/vnd.jupyter.widget-view+json": {
       "model_id": "",
       "version_major": 2,
       "version_minor": 0
      },
      "text/plain": [
       "HBox(children=(IntProgress(value=0, max=9), HTML(value='')))"
      ]
     },
     "metadata": {},
     "output_type": "display_data"
    },
    {
     "data": {
      "application/vnd.jupyter.widget-view+json": {
       "model_id": "",
       "version_major": 2,
       "version_minor": 0
      },
      "text/plain": [
       "HBox(children=(IntProgress(value=0, max=9), HTML(value='')))"
      ]
     },
     "metadata": {},
     "output_type": "display_data"
    },
    {
     "data": {
      "application/vnd.jupyter.widget-view+json": {
       "model_id": "",
       "version_major": 2,
       "version_minor": 0
      },
      "text/plain": [
       "HBox(children=(IntProgress(value=0, max=9), HTML(value='')))"
      ]
     },
     "metadata": {},
     "output_type": "display_data"
    },
    {
     "data": {
      "application/vnd.jupyter.widget-view+json": {
       "model_id": "",
       "version_major": 2,
       "version_minor": 0
      },
      "text/plain": [
       "HBox(children=(IntProgress(value=0, max=9), HTML(value='')))"
      ]
     },
     "metadata": {},
     "output_type": "display_data"
    },
    {
     "data": {
      "application/vnd.jupyter.widget-view+json": {
       "model_id": "",
       "version_major": 2,
       "version_minor": 0
      },
      "text/plain": [
       "HBox(children=(IntProgress(value=0, max=9), HTML(value='')))"
      ]
     },
     "metadata": {},
     "output_type": "display_data"
    },
    {
     "data": {
      "application/vnd.jupyter.widget-view+json": {
       "model_id": "",
       "version_major": 2,
       "version_minor": 0
      },
      "text/plain": [
       "HBox(children=(IntProgress(value=0, max=9), HTML(value='')))"
      ]
     },
     "metadata": {},
     "output_type": "display_data"
    },
    {
     "data": {
      "application/vnd.jupyter.widget-view+json": {
       "model_id": "",
       "version_major": 2,
       "version_minor": 0
      },
      "text/plain": [
       "HBox(children=(IntProgress(value=0, max=9), HTML(value='')))"
      ]
     },
     "metadata": {},
     "output_type": "display_data"
    },
    {
     "data": {
      "application/vnd.jupyter.widget-view+json": {
       "model_id": "",
       "version_major": 2,
       "version_minor": 0
      },
      "text/plain": [
       "HBox(children=(IntProgress(value=0, max=9), HTML(value='')))"
      ]
     },
     "metadata": {},
     "output_type": "display_data"
    },
    {
     "data": {
      "application/vnd.jupyter.widget-view+json": {
       "model_id": "",
       "version_major": 2,
       "version_minor": 0
      },
      "text/plain": [
       "HBox(children=(IntProgress(value=0, max=9), HTML(value='')))"
      ]
     },
     "metadata": {},
     "output_type": "display_data"
    },
    {
     "data": {
      "application/vnd.jupyter.widget-view+json": {
       "model_id": "",
       "version_major": 2,
       "version_minor": 0
      },
      "text/plain": [
       "HBox(children=(IntProgress(value=0, max=9), HTML(value='')))"
      ]
     },
     "metadata": {},
     "output_type": "display_data"
    },
    {
     "data": {
      "application/vnd.jupyter.widget-view+json": {
       "model_id": "",
       "version_major": 2,
       "version_minor": 0
      },
      "text/plain": [
       "HBox(children=(IntProgress(value=0, max=9), HTML(value='')))"
      ]
     },
     "metadata": {},
     "output_type": "display_data"
    },
    {
     "data": {
      "application/vnd.jupyter.widget-view+json": {
       "model_id": "",
       "version_major": 2,
       "version_minor": 0
      },
      "text/plain": [
       "HBox(children=(IntProgress(value=0, max=9), HTML(value='')))"
      ]
     },
     "metadata": {},
     "output_type": "display_data"
    },
    {
     "data": {
      "application/vnd.jupyter.widget-view+json": {
       "model_id": "",
       "version_major": 2,
       "version_minor": 0
      },
      "text/plain": [
       "HBox(children=(IntProgress(value=0, max=9), HTML(value='')))"
      ]
     },
     "metadata": {},
     "output_type": "display_data"
    },
    {
     "data": {
      "application/vnd.jupyter.widget-view+json": {
       "model_id": "",
       "version_major": 2,
       "version_minor": 0
      },
      "text/plain": [
       "HBox(children=(IntProgress(value=0, max=9), HTML(value='')))"
      ]
     },
     "metadata": {},
     "output_type": "display_data"
    },
    {
     "data": {
      "application/vnd.jupyter.widget-view+json": {
       "model_id": "",
       "version_major": 2,
       "version_minor": 0
      },
      "text/plain": [
       "HBox(children=(IntProgress(value=0, max=9), HTML(value='')))"
      ]
     },
     "metadata": {},
     "output_type": "display_data"
    },
    {
     "data": {
      "application/vnd.jupyter.widget-view+json": {
       "model_id": "",
       "version_major": 2,
       "version_minor": 0
      },
      "text/plain": [
       "HBox(children=(IntProgress(value=0, max=9), HTML(value='')))"
      ]
     },
     "metadata": {},
     "output_type": "display_data"
    },
    {
     "data": {
      "application/vnd.jupyter.widget-view+json": {
       "model_id": "",
       "version_major": 2,
       "version_minor": 0
      },
      "text/plain": [
       "HBox(children=(IntProgress(value=0, max=9), HTML(value='')))"
      ]
     },
     "metadata": {},
     "output_type": "display_data"
    },
    {
     "data": {
      "application/vnd.jupyter.widget-view+json": {
       "model_id": "",
       "version_major": 2,
       "version_minor": 0
      },
      "text/plain": [
       "HBox(children=(IntProgress(value=0, max=9), HTML(value='')))"
      ]
     },
     "metadata": {},
     "output_type": "display_data"
    },
    {
     "data": {
      "application/vnd.jupyter.widget-view+json": {
       "model_id": "",
       "version_major": 2,
       "version_minor": 0
      },
      "text/plain": [
       "HBox(children=(IntProgress(value=0, max=9), HTML(value='')))"
      ]
     },
     "metadata": {},
     "output_type": "display_data"
    },
    {
     "data": {
      "application/vnd.jupyter.widget-view+json": {
       "model_id": "",
       "version_major": 2,
       "version_minor": 0
      },
      "text/plain": [
       "HBox(children=(IntProgress(value=0, max=9), HTML(value='')))"
      ]
     },
     "metadata": {},
     "output_type": "display_data"
    },
    {
     "data": {
      "application/vnd.jupyter.widget-view+json": {
       "model_id": "",
       "version_major": 2,
       "version_minor": 0
      },
      "text/plain": [
       "HBox(children=(IntProgress(value=0, max=9), HTML(value='')))"
      ]
     },
     "metadata": {},
     "output_type": "display_data"
    },
    {
     "data": {
      "application/vnd.jupyter.widget-view+json": {
       "model_id": "",
       "version_major": 2,
       "version_minor": 0
      },
      "text/plain": [
       "HBox(children=(IntProgress(value=0, max=9), HTML(value='')))"
      ]
     },
     "metadata": {},
     "output_type": "display_data"
    },
    {
     "data": {
      "application/vnd.jupyter.widget-view+json": {
       "model_id": "",
       "version_major": 2,
       "version_minor": 0
      },
      "text/plain": [
       "HBox(children=(IntProgress(value=0, max=9), HTML(value='')))"
      ]
     },
     "metadata": {},
     "output_type": "display_data"
    },
    {
     "data": {
      "application/vnd.jupyter.widget-view+json": {
       "model_id": "",
       "version_major": 2,
       "version_minor": 0
      },
      "text/plain": [
       "HBox(children=(IntProgress(value=0, max=9), HTML(value='')))"
      ]
     },
     "metadata": {},
     "output_type": "display_data"
    },
    {
     "data": {
      "application/vnd.jupyter.widget-view+json": {
       "model_id": "",
       "version_major": 2,
       "version_minor": 0
      },
      "text/plain": [
       "HBox(children=(IntProgress(value=0, max=9), HTML(value='')))"
      ]
     },
     "metadata": {},
     "output_type": "display_data"
    },
    {
     "data": {
      "application/vnd.jupyter.widget-view+json": {
       "model_id": "",
       "version_major": 2,
       "version_minor": 0
      },
      "text/plain": [
       "HBox(children=(IntProgress(value=0, max=9), HTML(value='')))"
      ]
     },
     "metadata": {},
     "output_type": "display_data"
    },
    {
     "data": {
      "application/vnd.jupyter.widget-view+json": {
       "model_id": "",
       "version_major": 2,
       "version_minor": 0
      },
      "text/plain": [
       "HBox(children=(IntProgress(value=0, max=9), HTML(value='')))"
      ]
     },
     "metadata": {},
     "output_type": "display_data"
    },
    {
     "data": {
      "application/vnd.jupyter.widget-view+json": {
       "model_id": "",
       "version_major": 2,
       "version_minor": 0
      },
      "text/plain": [
       "HBox(children=(IntProgress(value=0, max=9), HTML(value='')))"
      ]
     },
     "metadata": {},
     "output_type": "display_data"
    },
    {
     "data": {
      "application/vnd.jupyter.widget-view+json": {
       "model_id": "",
       "version_major": 2,
       "version_minor": 0
      },
      "text/plain": [
       "HBox(children=(IntProgress(value=0, max=9), HTML(value='')))"
      ]
     },
     "metadata": {},
     "output_type": "display_data"
    },
    {
     "data": {
      "application/vnd.jupyter.widget-view+json": {
       "model_id": "",
       "version_major": 2,
       "version_minor": 0
      },
      "text/plain": [
       "HBox(children=(IntProgress(value=0, max=9), HTML(value='')))"
      ]
     },
     "metadata": {},
     "output_type": "display_data"
    },
    {
     "data": {
      "application/vnd.jupyter.widget-view+json": {
       "model_id": "",
       "version_major": 2,
       "version_minor": 0
      },
      "text/plain": [
       "HBox(children=(IntProgress(value=0, max=9), HTML(value='')))"
      ]
     },
     "metadata": {},
     "output_type": "display_data"
    },
    {
     "data": {
      "application/vnd.jupyter.widget-view+json": {
       "model_id": "",
       "version_major": 2,
       "version_minor": 0
      },
      "text/plain": [
       "HBox(children=(IntProgress(value=0, max=9), HTML(value='')))"
      ]
     },
     "metadata": {},
     "output_type": "display_data"
    },
    {
     "data": {
      "application/vnd.jupyter.widget-view+json": {
       "model_id": "",
       "version_major": 2,
       "version_minor": 0
      },
      "text/plain": [
       "HBox(children=(IntProgress(value=0, max=9), HTML(value='')))"
      ]
     },
     "metadata": {},
     "output_type": "display_data"
    },
    {
     "data": {
      "application/vnd.jupyter.widget-view+json": {
       "model_id": "",
       "version_major": 2,
       "version_minor": 0
      },
      "text/plain": [
       "HBox(children=(IntProgress(value=0, max=9), HTML(value='')))"
      ]
     },
     "metadata": {},
     "output_type": "display_data"
    },
    {
     "data": {
      "application/vnd.jupyter.widget-view+json": {
       "model_id": "",
       "version_major": 2,
       "version_minor": 0
      },
      "text/plain": [
       "HBox(children=(IntProgress(value=0, max=9), HTML(value='')))"
      ]
     },
     "metadata": {},
     "output_type": "display_data"
    },
    {
     "data": {
      "application/vnd.jupyter.widget-view+json": {
       "model_id": "",
       "version_major": 2,
       "version_minor": 0
      },
      "text/plain": [
       "HBox(children=(IntProgress(value=0, max=9), HTML(value='')))"
      ]
     },
     "metadata": {},
     "output_type": "display_data"
    },
    {
     "data": {
      "application/vnd.jupyter.widget-view+json": {
       "model_id": "",
       "version_major": 2,
       "version_minor": 0
      },
      "text/plain": [
       "HBox(children=(IntProgress(value=0, max=9), HTML(value='')))"
      ]
     },
     "metadata": {},
     "output_type": "display_data"
    },
    {
     "data": {
      "application/vnd.jupyter.widget-view+json": {
       "model_id": "",
       "version_major": 2,
       "version_minor": 0
      },
      "text/plain": [
       "HBox(children=(IntProgress(value=0, max=9), HTML(value='')))"
      ]
     },
     "metadata": {},
     "output_type": "display_data"
    },
    {
     "data": {
      "application/vnd.jupyter.widget-view+json": {
       "model_id": "",
       "version_major": 2,
       "version_minor": 0
      },
      "text/plain": [
       "HBox(children=(IntProgress(value=0, max=9), HTML(value='')))"
      ]
     },
     "metadata": {},
     "output_type": "display_data"
    },
    {
     "data": {
      "application/vnd.jupyter.widget-view+json": {
       "model_id": "",
       "version_major": 2,
       "version_minor": 0
      },
      "text/plain": [
       "HBox(children=(IntProgress(value=0, max=9), HTML(value='')))"
      ]
     },
     "metadata": {},
     "output_type": "display_data"
    },
    {
     "data": {
      "application/vnd.jupyter.widget-view+json": {
       "model_id": "",
       "version_major": 2,
       "version_minor": 0
      },
      "text/plain": [
       "HBox(children=(IntProgress(value=0, max=9), HTML(value='')))"
      ]
     },
     "metadata": {},
     "output_type": "display_data"
    },
    {
     "data": {
      "application/vnd.jupyter.widget-view+json": {
       "model_id": "",
       "version_major": 2,
       "version_minor": 0
      },
      "text/plain": [
       "HBox(children=(IntProgress(value=0, max=9), HTML(value='')))"
      ]
     },
     "metadata": {},
     "output_type": "display_data"
    },
    {
     "data": {
      "application/vnd.jupyter.widget-view+json": {
       "model_id": "",
       "version_major": 2,
       "version_minor": 0
      },
      "text/plain": [
       "HBox(children=(IntProgress(value=0, max=9), HTML(value='')))"
      ]
     },
     "metadata": {},
     "output_type": "display_data"
    },
    {
     "data": {
      "application/vnd.jupyter.widget-view+json": {
       "model_id": "",
       "version_major": 2,
       "version_minor": 0
      },
      "text/plain": [
       "HBox(children=(IntProgress(value=0, max=9), HTML(value='')))"
      ]
     },
     "metadata": {},
     "output_type": "display_data"
    },
    {
     "data": {
      "application/vnd.jupyter.widget-view+json": {
       "model_id": "",
       "version_major": 2,
       "version_minor": 0
      },
      "text/plain": [
       "HBox(children=(IntProgress(value=0, max=9), HTML(value='')))"
      ]
     },
     "metadata": {},
     "output_type": "display_data"
    },
    {
     "data": {
      "application/vnd.jupyter.widget-view+json": {
       "model_id": "",
       "version_major": 2,
       "version_minor": 0
      },
      "text/plain": [
       "HBox(children=(IntProgress(value=0, max=9), HTML(value='')))"
      ]
     },
     "metadata": {},
     "output_type": "display_data"
    },
    {
     "data": {
      "application/vnd.jupyter.widget-view+json": {
       "model_id": "",
       "version_major": 2,
       "version_minor": 0
      },
      "text/plain": [
       "HBox(children=(IntProgress(value=0, max=9), HTML(value='')))"
      ]
     },
     "metadata": {},
     "output_type": "display_data"
    },
    {
     "data": {
      "application/vnd.jupyter.widget-view+json": {
       "model_id": "",
       "version_major": 2,
       "version_minor": 0
      },
      "text/plain": [
       "HBox(children=(IntProgress(value=0, max=9), HTML(value='')))"
      ]
     },
     "metadata": {},
     "output_type": "display_data"
    },
    {
     "data": {
      "application/vnd.jupyter.widget-view+json": {
       "model_id": "",
       "version_major": 2,
       "version_minor": 0
      },
      "text/plain": [
       "HBox(children=(IntProgress(value=0, max=9), HTML(value='')))"
      ]
     },
     "metadata": {},
     "output_type": "display_data"
    },
    {
     "data": {
      "application/vnd.jupyter.widget-view+json": {
       "model_id": "",
       "version_major": 2,
       "version_minor": 0
      },
      "text/plain": [
       "HBox(children=(IntProgress(value=0, max=9), HTML(value='')))"
      ]
     },
     "metadata": {},
     "output_type": "display_data"
    },
    {
     "data": {
      "application/vnd.jupyter.widget-view+json": {
       "model_id": "",
       "version_major": 2,
       "version_minor": 0
      },
      "text/plain": [
       "HBox(children=(IntProgress(value=0, max=9), HTML(value='')))"
      ]
     },
     "metadata": {},
     "output_type": "display_data"
    },
    {
     "data": {
      "application/vnd.jupyter.widget-view+json": {
       "model_id": "",
       "version_major": 2,
       "version_minor": 0
      },
      "text/plain": [
       "HBox(children=(IntProgress(value=0, max=9), HTML(value='')))"
      ]
     },
     "metadata": {},
     "output_type": "display_data"
    },
    {
     "data": {
      "application/vnd.jupyter.widget-view+json": {
       "model_id": "",
       "version_major": 2,
       "version_minor": 0
      },
      "text/plain": [
       "HBox(children=(IntProgress(value=0, max=9), HTML(value='')))"
      ]
     },
     "metadata": {},
     "output_type": "display_data"
    },
    {
     "data": {
      "application/vnd.jupyter.widget-view+json": {
       "model_id": "",
       "version_major": 2,
       "version_minor": 0
      },
      "text/plain": [
       "HBox(children=(IntProgress(value=0, max=9), HTML(value='')))"
      ]
     },
     "metadata": {},
     "output_type": "display_data"
    },
    {
     "data": {
      "application/vnd.jupyter.widget-view+json": {
       "model_id": "",
       "version_major": 2,
       "version_minor": 0
      },
      "text/plain": [
       "HBox(children=(IntProgress(value=0, max=9), HTML(value='')))"
      ]
     },
     "metadata": {},
     "output_type": "display_data"
    }
   ],
   "source": [
    "# BASE MODEL\n",
    "nTrainFraction = 0.6\n",
    "featuresTrain = pickleLoaded.sample(frac=nTrainFraction)\n",
    "featuresDev = pickleLoaded.drop(featuresTrain.index)\n",
    "\n",
    "labelsTrain = allLabels.loc[featuresTrain.index]\n",
    "labelsTrainValue = labelsTrain.apply(lambda x: uniqueLabels[uniqueLabels['artist'] == x].index.values[0])\n",
    "\n",
    "labelsDev = allLabels.loc[featuresDev.index]\n",
    "labelsDevValue = labelsDev.apply(lambda x: uniqueLabels[uniqueLabels['artist'] == x].index.values[0])\n",
    "\n",
    "accuracies = []\n",
    "\n",
    "artistStats = pd.DataFrame(uniqueLabels.loc[labelsDevValue.unique()])\n",
    "artistStats['number'] = labelsDevValue.value_counts()\n",
    "\n",
    "probs = artistStats['number'] / artistStats['number'].sum()\n",
    "predictions = np.zeros(len(labelsDevValue.values))\n",
    "for i in tnrange(len(labelsDevValue.values)):\n",
    "    number = np.random.uniform()\n",
    "    curComparison = 0\n",
    "    assigned = False\n",
    "    for artistProb in tqdm(probs.index,leave = False):\n",
    "        curComparison += probs[artistProb]\n",
    "        if (curComparison > number and assigned == False):\n",
    "            predictions[i] = artistProb\n",
    "            assigned = True\n",
    "            \n",
    "                \n",
    "accuracy, artistTPR = computeStats(labelsDevValue,predictions)\n",
    "artistStats['tpr-base'] = pd.Series(artistTPR)"
   ]
  },
  {
   "cell_type": "code",
   "execution_count": 49,
   "metadata": {},
   "outputs": [
    {
     "data": {
      "text/plain": [
       "0    0.093458\n",
       "2    0.112150\n",
       "3    0.121495\n",
       "1    0.116822\n",
       "6    0.112150\n",
       "7    0.102804\n",
       "5    0.102804\n",
       "8    0.130841\n",
       "4    0.107477\n",
       "Name: number, dtype: float64"
      ]
     },
     "execution_count": 49,
     "metadata": {},
     "output_type": "execute_result"
    }
   ],
   "source": [
    "probs"
   ]
  },
  {
   "cell_type": "code",
   "execution_count": 48,
   "metadata": {},
   "outputs": [
    {
     "name": "stdout",
     "output_type": "stream",
     "text": [
      "0.10747663551401869\n"
     ]
    },
    {
     "data": {
      "text/html": [
       "<div>\n",
       "<style scoped>\n",
       "    .dataframe tbody tr th:only-of-type {\n",
       "        vertical-align: middle;\n",
       "    }\n",
       "\n",
       "    .dataframe tbody tr th {\n",
       "        vertical-align: top;\n",
       "    }\n",
       "\n",
       "    .dataframe thead th {\n",
       "        text-align: right;\n",
       "    }\n",
       "</style>\n",
       "<table border=\"1\" class=\"dataframe\">\n",
       "  <thead>\n",
       "    <tr style=\"text-align: right;\">\n",
       "      <th></th>\n",
       "      <th>artist</th>\n",
       "      <th>number</th>\n",
       "      <th>tpr-base</th>\n",
       "    </tr>\n",
       "  </thead>\n",
       "  <tbody>\n",
       "    <tr>\n",
       "      <th>0</th>\n",
       "      <td>Albrecht Durer</td>\n",
       "      <td>20</td>\n",
       "      <td>0.050000</td>\n",
       "    </tr>\n",
       "    <tr>\n",
       "      <th>2</th>\n",
       "      <td>Pierre-Auguste Renoir</td>\n",
       "      <td>24</td>\n",
       "      <td>0.038462</td>\n",
       "    </tr>\n",
       "    <tr>\n",
       "      <th>3</th>\n",
       "      <td>Eugene Boudin</td>\n",
       "      <td>26</td>\n",
       "      <td>0.120000</td>\n",
       "    </tr>\n",
       "    <tr>\n",
       "      <th>1</th>\n",
       "      <td>Odilon Redon</td>\n",
       "      <td>25</td>\n",
       "      <td>0.041667</td>\n",
       "    </tr>\n",
       "    <tr>\n",
       "      <th>6</th>\n",
       "      <td>Ivan Aivazovsky</td>\n",
       "      <td>24</td>\n",
       "      <td>0.136364</td>\n",
       "    </tr>\n",
       "    <tr>\n",
       "      <th>7</th>\n",
       "      <td>Nicholas Roerich</td>\n",
       "      <td>22</td>\n",
       "      <td>0.214286</td>\n",
       "    </tr>\n",
       "    <tr>\n",
       "      <th>5</th>\n",
       "      <td>Ivan Shishkin</td>\n",
       "      <td>22</td>\n",
       "      <td>0.136364</td>\n",
       "    </tr>\n",
       "    <tr>\n",
       "      <th>8</th>\n",
       "      <td>Boris Kustodiev</td>\n",
       "      <td>28</td>\n",
       "      <td>0.086957</td>\n",
       "    </tr>\n",
       "    <tr>\n",
       "      <th>4</th>\n",
       "      <td>Ilya Repin</td>\n",
       "      <td>23</td>\n",
       "      <td>0.125000</td>\n",
       "    </tr>\n",
       "  </tbody>\n",
       "</table>\n",
       "</div>"
      ],
      "text/plain": [
       "                  artist  number  tpr-base\n",
       "0         Albrecht Durer      20  0.050000\n",
       "2  Pierre-Auguste Renoir      24  0.038462\n",
       "3          Eugene Boudin      26  0.120000\n",
       "1           Odilon Redon      25  0.041667\n",
       "6        Ivan Aivazovsky      24  0.136364\n",
       "7       Nicholas Roerich      22  0.214286\n",
       "5          Ivan Shishkin      22  0.136364\n",
       "8        Boris Kustodiev      28  0.086957\n",
       "4             Ilya Repin      23  0.125000"
      ]
     },
     "execution_count": 48,
     "metadata": {},
     "output_type": "execute_result"
    }
   ],
   "source": [
    "print(accuracy)\n",
    "artistStats"
   ]
  },
  {
   "cell_type": "code",
   "execution_count": 52,
   "metadata": {},
   "outputs": [
    {
     "name": "stderr",
     "output_type": "stream",
     "text": [
      "100%|██████████| 99/99 [00:14<00:00,  6.76it/s]\n"
     ]
    }
   ],
   "source": [
    "nTrainFraction = 0.6\n",
    "featuresTrain = pickleLoaded.sample(frac=nTrainFraction)\n",
    "featuresDev = pickleLoaded.drop(featuresTrain.index)\n",
    "\n",
    "labelsTrain = allLabels.loc[featuresTrain.index]\n",
    "labelsTrainValue = labelsTrain.apply(lambda x: uniqueLabels[uniqueLabels['artist'] == x].index.values[0])\n",
    "\n",
    "labelsDev = allLabels.loc[featuresDev.index]\n",
    "labelsDevValue = labelsDev.apply(lambda x: uniqueLabels[uniqueLabels['artist'] == x].index.values[0])\n",
    "\n",
    "accuracies = []\n",
    "\n",
    "artistStats = pd.DataFrame(uniqueLabels.loc[labelsDevValue.unique()])\n",
    "artistStats['number'] = labelsDevValue.value_counts()\n",
    "\n",
    "for numEstimator in trange(1,100):\n",
    "    classifier = RandomForestClassifier(n_estimators=numEstimator)\n",
    "    classifier.fit(featuresTrain,labelsTrainValue)\n",
    "    predictions = classifier.predict(featuresDev)\n",
    "\n",
    "    accuracy, artistTPR = computeStats(labelsDevValue,predictions)\n",
    "\n",
    "    accuracies.append(accuracy)\n",
    "\n",
    "    artistStats['tpr-'+str(numEstimator)] = pd.Series(artistTPR)\n",
    "    \n",
    "#     print(artistResults)"
   ]
  },
  {
   "cell_type": "code",
   "execution_count": 53,
   "metadata": {
    "scrolled": true
   },
   "outputs": [
    {
     "data": {
      "text/plain": [
       "<matplotlib.axes._subplots.AxesSubplot at 0x120bee080>"
      ]
     },
     "execution_count": 53,
     "metadata": {},
     "output_type": "execute_result"
    },
    {
     "data": {
      "image/png": "[encoded data removed]",
      "text/plain": [
       "<Figure size 432x288 with 1 Axes>"
      ]
     },
     "metadata": {},
     "output_type": "display_data"
    }
   ],
   "source": [
    "pd.Series(accuracies).plot()"
   ]
  },
  {
   "cell_type": "code",
   "execution_count": 72,
   "metadata": {},
   "outputs": [
    {
     "data": {
      "application/vnd.jupyter.widget-view+json": {
       "model_id": "60d815b5abc94129a3593a4ffb80f5b3",
       "version_major": 2,
       "version_minor": 0
      },
      "text/plain": [
       "HBox(children=(IntProgress(value=1, bar_style='info', max=1), HTML(value='')))"
      ]
     },
     "metadata": {},
     "output_type": "display_data"
    },
    {
     "data": {
      "application/vnd.jupyter.widget-view+json": {
       "model_id": "8c610270a4824158b4fab4cfc246eeed",
       "version_major": 2,
       "version_minor": 0
      },
      "text/plain": [
       "HBox(children=(IntProgress(value=0, max=45796), HTML(value='')))"
      ]
     },
     "metadata": {},
     "output_type": "display_data"
    },
    {
     "name": "stdout",
     "output_type": "stream",
     "text": [
      "[0 0]\n",
      "[0 0]\n",
      "[0 0]\n",
      "[0 0]\n",
      "[0 0]\n",
      "[0 0]\n",
      "[0 0]\n",
      "[0 0]\n",
      "[0 0]\n",
      "[0 0]\n",
      "[0 0]\n",
      "[0 0]\n",
      "[0 0]\n",
      "[0 0]\n",
      "[0 2]\n",
      "[0 0]\n",
      "[0 1]\n",
      "[0 0]\n",
      "[0 1]\n",
      "[0 1]\n",
      "[0 7]\n",
      "[0 7]\n",
      "[0 7]\n",
      "[0 7]\n",
      "[0 7]\n",
      "[0 7]\n",
      "[0 7]\n",
      "[0 7]\n",
      "[0 2]\n",
      "[0 7]\n",
      "[0 7]\n",
      "[0 8]\n",
      "[0 0]\n",
      "[0 2]\n",
      "[0 8]\n",
      "[0 0]\n",
      "[0 6]\n",
      "[0 2]\n",
      "[0 1]\n",
      "[0 2]\n",
      "[0 3]\n",
      "[0 2]\n",
      "[0 1]\n",
      "[0 2]\n",
      "[0 2]\n",
      "[0 1]\n",
      "[0 2]\n",
      "[0 1]\n",
      "[0 2]\n",
      "[0 1]\n",
      "[0 1]\n",
      "[0 2]\n",
      "[0 1]\n",
      "[0 3]\n",
      "[0 2]\n",
      "[0 2]\n",
      "[0 2]\n",
      "[0 2]\n",
      "[0 2]\n",
      "[0 8]\n",
      "[0 2]\n",
      "[0 2]\n",
      "[0 2]\n",
      "[0 2]\n",
      "[0 1]\n",
      "[0 1]\n",
      "[0 3]\n",
      "[0 8]\n",
      "[0 3]\n",
      "[0 2]\n",
      "[0 2]\n",
      "[0 8]\n",
      "[0 8]\n",
      "[0 6]\n",
      "[0 3]\n",
      "[0 8]\n",
      "[0 1]\n",
      "[0 2]\n",
      "[0 5]\n",
      "[0 6]\n",
      "[0 0]\n",
      "[0 8]\n",
      "[0 8]\n",
      "[0 8]\n",
      "[0 1]\n",
      "[0 1]\n",
      "[0 4]\n",
      "[0 1]\n",
      "[0 7]\n",
      "[0 7]\n",
      "[0 0]\n",
      "[0 0]\n",
      "[0 4]\n",
      "[0 8]\n",
      "[0 3]\n",
      "[0 8]\n",
      "[0 6]\n",
      "[0 7]\n",
      "[0 8]\n",
      "[0 4]\n",
      "[0 8]\n",
      "[0 8]\n",
      "[0 8]\n",
      "[0 4]\n",
      "[0 1]\n",
      "[0 8]\n",
      "[0 5]\n",
      "[0 4]\n",
      "[0 6]\n",
      "[0 6]\n",
      "[0 4]\n",
      "[0 6]\n",
      "[0 8]\n",
      "[0 4]\n",
      "[0 8]\n",
      "[0 5]\n",
      "[0 4]\n",
      "[0 5]\n",
      "[0 4]\n",
      "[0 8]\n",
      "[0 4]\n",
      "[0 4]\n",
      "[0 6]\n",
      "[0 6]\n",
      "[0 3]\n",
      "[0 4]\n",
      "[0 2]\n",
      "[0 5]\n",
      "[0 4]\n",
      "[0 8]\n",
      "[0 4]\n",
      "[0 8]\n",
      "[0 4]\n",
      "[0 8]\n",
      "[0 5]\n",
      "[0 6]\n",
      "[0 6]\n",
      "[0 8]\n",
      "[0 6]\n",
      "[0 3]\n",
      "[0 5]\n",
      "[0 8]\n",
      "[0 8]\n",
      "[0 4]\n",
      "[0 5]\n",
      "[0 4]\n",
      "[0 3]\n",
      "[0 6]\n",
      "[0 6]\n",
      "[0 6]\n",
      "[0 6]\n",
      "[0 6]\n",
      "[0 5]\n",
      "[0 3]\n",
      "[0 4]\n",
      "[0 8]\n",
      "[0 8]\n",
      "[0 8]\n",
      "[0 5]\n",
      "[0 5]\n",
      "[0 5]\n",
      "[0 4]\n",
      "[0 3]\n",
      "[0 4]\n",
      "[0 8]\n",
      "[0 6]\n",
      "[0 5]\n",
      "[0 5]\n",
      "[0 2]\n",
      "[0 5]\n",
      "[0 4]\n",
      "[0 6]\n",
      "[0 5]\n",
      "[0 7]\n",
      "[0 6]\n",
      "[0 6]\n",
      "[0 5]\n",
      "[0 1]\n",
      "[0 7]\n",
      "[0 5]\n",
      "[0 6]\n",
      "[0 5]\n",
      "[0 6]\n",
      "[0 8]\n",
      "[0 5]\n",
      "[0 3]\n",
      "[0 4]\n",
      "[0 7]\n",
      "[0 4]\n",
      "[0 5]\n",
      "[0 5]\n",
      "[0 7]\n",
      "[0 7]\n",
      "[0 5]\n",
      "[0 5]\n",
      "[0 3]\n",
      "[0 3]\n",
      "[0 7]\n",
      "[0 3]\n",
      "[0 4]\n",
      "[0 3]\n",
      "[0 7]\n",
      "[0 1]\n",
      "[0 7]\n",
      "[0 3]\n",
      "[0 4]\n",
      "[0 5]\n",
      "[0 7]\n",
      "[0 7]\n",
      "[0 7]\n",
      "[0 1]\n",
      "[0 3]\n",
      "[0 1]\n",
      "[0 1]\n",
      "[0 0]\n",
      "[0 0]\n",
      "[0 0]\n",
      "[0 0]\n",
      "[0 0]\n",
      "[0 0]\n",
      "[0 0]\n",
      "[0 0]\n",
      "[0 0]\n",
      "[0 0]\n",
      "[0 0]\n",
      "[0 0]\n",
      "[0 0]\n",
      "[0 0]\n",
      "[0 2]\n",
      "[0 0]\n",
      "[0 1]\n",
      "[0 0]\n",
      "[0 1]\n",
      "[0 1]\n",
      "[0 7]\n",
      "[0 7]\n",
      "[0 7]\n",
      "[0 7]\n",
      "[0 7]\n",
      "[0 7]\n",
      "[0 7]\n",
      "[0 7]\n",
      "[0 2]\n",
      "[0 7]\n",
      "[0 7]\n",
      "[0 8]\n",
      "[0 0]\n",
      "[0 2]\n",
      "[0 8]\n",
      "[0 0]\n",
      "[0 6]\n",
      "[0 2]\n",
      "[0 1]\n",
      "[0 2]\n",
      "[0 3]\n",
      "[0 2]\n",
      "[0 1]\n",
      "[0 2]\n",
      "[0 2]\n",
      "[0 1]\n",
      "[0 2]\n",
      "[0 1]\n",
      "[0 2]\n",
      "[0 1]\n",
      "[0 1]\n",
      "[0 2]\n",
      "[0 1]\n",
      "[0 3]\n",
      "[0 2]\n",
      "[0 2]\n",
      "[0 2]\n",
      "[0 2]\n",
      "[0 2]\n",
      "[0 8]\n",
      "[0 2]\n",
      "[0 2]\n",
      "[0 2]\n",
      "[0 2]\n",
      "[0 1]\n",
      "[0 1]\n",
      "[0 3]\n",
      "[0 8]\n",
      "[0 3]\n",
      "[0 2]\n",
      "[0 2]\n",
      "[0 8]\n",
      "[0 8]\n",
      "[0 6]\n",
      "[0 3]\n",
      "[0 8]\n",
      "[0 1]\n",
      "[0 2]\n",
      "[0 5]\n",
      "[0 6]\n",
      "[0 0]\n",
      "[0 8]\n",
      "[0 8]\n",
      "[0 8]\n",
      "[0 1]\n",
      "[0 1]\n",
      "[0 4]\n",
      "[0 1]\n",
      "[0 7]\n",
      "[0 7]\n",
      "[0 0]\n",
      "[0 0]\n",
      "[0 4]\n",
      "[0 8]\n",
      "[0 3]\n",
      "[0 8]\n",
      "[0 6]\n",
      "[0 7]\n",
      "[0 8]\n",
      "[0 4]\n",
      "[0 8]\n",
      "[0 8]\n",
      "[0 8]\n",
      "[0 4]\n",
      "[0 1]\n",
      "[0 8]\n",
      "[0 5]\n",
      "[0 4]\n",
      "[0 6]\n",
      "[0 6]\n",
      "[0 4]\n",
      "[0 6]\n",
      "[0 8]\n",
      "[0 4]\n",
      "[0 8]\n",
      "[0 5]\n",
      "[0 4]\n",
      "[0 5]\n",
      "[0 4]\n",
      "[0 8]\n",
      "[0 4]\n",
      "[0 4]\n",
      "[0 6]\n",
      "[0 6]\n",
      "[0 3]\n",
      "[0 4]\n",
      "[0 2]\n",
      "[0 5]\n",
      "[0 4]\n",
      "[0 8]\n",
      "[0 4]\n",
      "[0 8]\n",
      "[0 4]\n",
      "[0 8]\n",
      "[0 5]\n",
      "[0 6]\n",
      "[0 6]\n",
      "[0 8]\n",
      "[0 6]\n",
      "[0 3]\n",
      "[0 5]\n",
      "[0 8]\n",
      "[0 8]\n",
      "[0 4]\n",
      "[0 5]\n",
      "[0 4]\n",
      "[0 3]\n",
      "[0 6]\n",
      "[0 6]\n",
      "[0 6]\n",
      "[0 6]\n",
      "[0 6]\n",
      "[0 5]\n",
      "[0 3]\n",
      "[0 4]\n",
      "[0 8]\n",
      "[0 8]\n",
      "[0 8]\n",
      "[0 5]\n",
      "[0 5]\n",
      "[0 5]\n",
      "[0 4]\n",
      "[0 3]\n",
      "[0 4]\n",
      "[0 8]\n",
      "[0 6]\n",
      "[0 5]\n",
      "[0 5]\n",
      "[0 2]\n",
      "[0 5]\n",
      "[0 4]\n",
      "[0 6]\n",
      "[0 5]\n",
      "[0 7]\n",
      "[0 6]\n",
      "[0 6]\n",
      "[0 5]\n",
      "[0 1]\n",
      "[0 7]\n",
      "[0 5]\n",
      "[0 6]\n",
      "[0 5]\n",
      "[0 6]\n",
      "[0 8]\n",
      "[0 5]\n",
      "[0 3]\n",
      "[0 4]\n",
      "[0 7]\n",
      "[0 4]\n",
      "[0 5]\n",
      "[0 5]\n",
      "[0 7]\n",
      "[0 7]\n",
      "[0 5]\n",
      "[0 5]\n",
      "[0 3]\n",
      "[0 3]\n",
      "[0 7]\n",
      "[0 3]\n",
      "[0 4]\n",
      "[0 3]\n",
      "[0 7]\n",
      "[0 1]\n",
      "[0 7]\n",
      "[0 3]\n",
      "[0 4]\n",
      "[0 5]\n",
      "[0 7]\n",
      "[0 7]\n",
      "[0 7]\n",
      "[0 1]\n",
      "[0 3]\n",
      "[0 1]\n",
      "[0 1]\n",
      "[0 0]\n",
      "[0 0]\n",
      "[0 0]\n",
      "[0 0]\n",
      "[0 0]\n",
      "[0 0]\n",
      "[0 0]\n",
      "[0 0]\n",
      "[0 0]\n",
      "[0 0]\n",
      "[0 0]\n",
      "[0 0]\n",
      "[0 0]\n",
      "[0 0]\n",
      "[0 2]\n",
      "[0 0]\n",
      "[0 1]\n",
      "[0 0]\n",
      "[0 1]\n",
      "[0 1]\n",
      "[0 7]\n",
      "[0 7]\n",
      "[0 7]\n",
      "[0 7]\n",
      "[0 7]\n",
      "[0 7]\n",
      "[0 7]\n",
      "[0 7]\n",
      "[0 2]\n",
      "[0 7]\n",
      "[0 7]\n",
      "[0 8]\n",
      "[0 0]\n",
      "[0 2]\n",
      "[0 8]\n",
      "[0 0]\n",
      "[0 6]\n",
      "[0 2]\n",
      "[0 1]\n",
      "[0 2]\n",
      "[0 3]\n",
      "[0 2]\n",
      "[0 1]\n",
      "[0 2]\n",
      "[0 2]\n",
      "[0 1]\n",
      "[0 2]\n",
      "[0 1]\n",
      "[0 2]\n",
      "[0 1]\n",
      "[0 1]\n",
      "[0 2]\n",
      "[0 1]\n",
      "[0 3]\n",
      "[0 2]\n",
      "[0 2]\n",
      "[0 2]\n",
      "[0 2]\n"
     ]
    },
    {
     "ename": "KeyboardInterrupt",
     "evalue": "",
     "output_type": "error",
     "traceback": [
      "\u001b[0;31m---------------------------------------------------------------------------\u001b[0m",
      "\u001b[0;31mKeyboardInterrupt\u001b[0m                         Traceback (most recent call last)",
      "\u001b[0;32m<ipython-input-72-691e59ba162e>\u001b[0m in \u001b[0;36m<module>\u001b[0;34m()\u001b[0m\n\u001b[1;32m     10\u001b[0m \u001b[0;31m# print(featuresDev.index)\u001b[0m\u001b[0;34m\u001b[0m\u001b[0;34m\u001b[0m\u001b[0m\n\u001b[1;32m     11\u001b[0m \u001b[0;32mfor\u001b[0m \u001b[0mi\u001b[0m\u001b[0;34m,\u001b[0m \u001b[0mv\u001b[0m \u001b[0;32min\u001b[0m \u001b[0mtqdm\u001b[0m\u001b[0;34m(\u001b[0m\u001b[0menumerate\u001b[0m\u001b[0;34m(\u001b[0m\u001b[0mitertools\u001b[0m\u001b[0;34m.\u001b[0m\u001b[0mproduct\u001b[0m\u001b[0;34m(\u001b[0m\u001b[0mfeaturesDev\u001b[0m\u001b[0;34m.\u001b[0m\u001b[0mvalues\u001b[0m\u001b[0;34m,\u001b[0m\u001b[0mfeaturesDev\u001b[0m\u001b[0;34m.\u001b[0m\u001b[0mvalues\u001b[0m\u001b[0;34m)\u001b[0m\u001b[0;34m)\u001b[0m\u001b[0;34m,\u001b[0m\u001b[0mtotal\u001b[0m\u001b[0;34m=\u001b[0m \u001b[0mlen\u001b[0m\u001b[0;34m(\u001b[0m\u001b[0msameAuthor\u001b[0m\u001b[0;34m)\u001b[0m\u001b[0;34m)\u001b[0m\u001b[0;34m:\u001b[0m\u001b[0;34m\u001b[0m\u001b[0m\n\u001b[0;32m---> 12\u001b[0;31m     \u001b[0mpredictions\u001b[0m \u001b[0;34m=\u001b[0m \u001b[0mclassifier\u001b[0m\u001b[0;34m.\u001b[0m\u001b[0mpredict\u001b[0m\u001b[0;34m(\u001b[0m\u001b[0mv\u001b[0m\u001b[0;34m)\u001b[0m\u001b[0;34m\u001b[0m\u001b[0m\n\u001b[0m\u001b[1;32m     13\u001b[0m     \u001b[0mprint\u001b[0m\u001b[0;34m(\u001b[0m\u001b[0mpredictions\u001b[0m\u001b[0;34m)\u001b[0m\u001b[0;34m\u001b[0m\u001b[0m\n\u001b[1;32m     14\u001b[0m \u001b[0;34m\u001b[0m\u001b[0m\n",
      "\u001b[0;32m~/anaconda3/lib/python3.6/site-packages/sklearn/ensemble/forest.py\u001b[0m in \u001b[0;36mpredict\u001b[0;34m(self, X)\u001b[0m\n\u001b[1;32m    536\u001b[0m             \u001b[0mThe\u001b[0m \u001b[0mpredicted\u001b[0m \u001b[0mclasses\u001b[0m\u001b[0;34m.\u001b[0m\u001b[0;34m\u001b[0m\u001b[0m\n\u001b[1;32m    537\u001b[0m         \"\"\"\n\u001b[0;32m--> 538\u001b[0;31m         \u001b[0mproba\u001b[0m \u001b[0;34m=\u001b[0m \u001b[0mself\u001b[0m\u001b[0;34m.\u001b[0m\u001b[0mpredict_proba\u001b[0m\u001b[0;34m(\u001b[0m\u001b[0mX\u001b[0m\u001b[0;34m)\u001b[0m\u001b[0;34m\u001b[0m\u001b[0m\n\u001b[0m\u001b[1;32m    539\u001b[0m \u001b[0;34m\u001b[0m\u001b[0m\n\u001b[1;32m    540\u001b[0m         \u001b[0;32mif\u001b[0m \u001b[0mself\u001b[0m\u001b[0;34m.\u001b[0m\u001b[0mn_outputs_\u001b[0m \u001b[0;34m==\u001b[0m \u001b[0;36m1\u001b[0m\u001b[0;34m:\u001b[0m\u001b[0;34m\u001b[0m\u001b[0m\n",
      "\u001b[0;32m~/anaconda3/lib/python3.6/site-packages/sklearn/ensemble/forest.py\u001b[0m in \u001b[0;36mpredict_proba\u001b[0;34m(self, X)\u001b[0m\n\u001b[1;32m    587\u001b[0m         Parallel(n_jobs=n_jobs, verbose=self.verbose, backend=\"threading\")(\n\u001b[1;32m    588\u001b[0m             \u001b[0mdelayed\u001b[0m\u001b[0;34m(\u001b[0m\u001b[0maccumulate_prediction\u001b[0m\u001b[0;34m)\u001b[0m\u001b[0;34m(\u001b[0m\u001b[0me\u001b[0m\u001b[0;34m.\u001b[0m\u001b[0mpredict_proba\u001b[0m\u001b[0;34m,\u001b[0m \u001b[0mX\u001b[0m\u001b[0;34m,\u001b[0m \u001b[0mall_proba\u001b[0m\u001b[0;34m,\u001b[0m \u001b[0mlock\u001b[0m\u001b[0;34m)\u001b[0m\u001b[0;34m\u001b[0m\u001b[0m\n\u001b[0;32m--> 589\u001b[0;31m             for e in self.estimators_)\n\u001b[0m\u001b[1;32m    590\u001b[0m \u001b[0;34m\u001b[0m\u001b[0m\n\u001b[1;32m    591\u001b[0m         \u001b[0;32mfor\u001b[0m \u001b[0mproba\u001b[0m \u001b[0;32min\u001b[0m \u001b[0mall_proba\u001b[0m\u001b[0;34m:\u001b[0m\u001b[0;34m\u001b[0m\u001b[0m\n",
      "\u001b[0;32m~/anaconda3/lib/python3.6/site-packages/sklearn/externals/joblib/parallel.py\u001b[0m in \u001b[0;36m__call__\u001b[0;34m(self, iterable)\u001b[0m\n\u001b[1;32m    777\u001b[0m             \u001b[0;31m# was dispatched. In particular this covers the edge\u001b[0m\u001b[0;34m\u001b[0m\u001b[0;34m\u001b[0m\u001b[0m\n\u001b[1;32m    778\u001b[0m             \u001b[0;31m# case of Parallel used with an exhausted iterator.\u001b[0m\u001b[0;34m\u001b[0m\u001b[0;34m\u001b[0m\u001b[0m\n\u001b[0;32m--> 779\u001b[0;31m             \u001b[0;32mwhile\u001b[0m \u001b[0mself\u001b[0m\u001b[0;34m.\u001b[0m\u001b[0mdispatch_one_batch\u001b[0m\u001b[0;34m(\u001b[0m\u001b[0miterator\u001b[0m\u001b[0;34m)\u001b[0m\u001b[0;34m:\u001b[0m\u001b[0;34m\u001b[0m\u001b[0m\n\u001b[0m\u001b[1;32m    780\u001b[0m                 \u001b[0mself\u001b[0m\u001b[0;34m.\u001b[0m\u001b[0m_iterating\u001b[0m \u001b[0;34m=\u001b[0m \u001b[0;32mTrue\u001b[0m\u001b[0;34m\u001b[0m\u001b[0m\n\u001b[1;32m    781\u001b[0m             \u001b[0;32melse\u001b[0m\u001b[0;34m:\u001b[0m\u001b[0;34m\u001b[0m\u001b[0m\n",
      "\u001b[0;32m~/anaconda3/lib/python3.6/site-packages/sklearn/externals/joblib/parallel.py\u001b[0m in \u001b[0;36mdispatch_one_batch\u001b[0;34m(self, iterator)\u001b[0m\n\u001b[1;32m    623\u001b[0m                 \u001b[0;32mreturn\u001b[0m \u001b[0;32mFalse\u001b[0m\u001b[0;34m\u001b[0m\u001b[0m\n\u001b[1;32m    624\u001b[0m             \u001b[0;32melse\u001b[0m\u001b[0;34m:\u001b[0m\u001b[0;34m\u001b[0m\u001b[0m\n\u001b[0;32m--> 625\u001b[0;31m                 \u001b[0mself\u001b[0m\u001b[0;34m.\u001b[0m\u001b[0m_dispatch\u001b[0m\u001b[0;34m(\u001b[0m\u001b[0mtasks\u001b[0m\u001b[0;34m)\u001b[0m\u001b[0;34m\u001b[0m\u001b[0m\n\u001b[0m\u001b[1;32m    626\u001b[0m                 \u001b[0;32mreturn\u001b[0m \u001b[0;32mTrue\u001b[0m\u001b[0;34m\u001b[0m\u001b[0m\n\u001b[1;32m    627\u001b[0m \u001b[0;34m\u001b[0m\u001b[0m\n",
      "\u001b[0;32m~/anaconda3/lib/python3.6/site-packages/sklearn/externals/joblib/parallel.py\u001b[0m in \u001b[0;36m_dispatch\u001b[0;34m(self, batch)\u001b[0m\n\u001b[1;32m    586\u001b[0m         \u001b[0mdispatch_timestamp\u001b[0m \u001b[0;34m=\u001b[0m \u001b[0mtime\u001b[0m\u001b[0;34m.\u001b[0m\u001b[0mtime\u001b[0m\u001b[0;34m(\u001b[0m\u001b[0;34m)\u001b[0m\u001b[0;34m\u001b[0m\u001b[0m\n\u001b[1;32m    587\u001b[0m         \u001b[0mcb\u001b[0m \u001b[0;34m=\u001b[0m \u001b[0mBatchCompletionCallBack\u001b[0m\u001b[0;34m(\u001b[0m\u001b[0mdispatch_timestamp\u001b[0m\u001b[0;34m,\u001b[0m \u001b[0mlen\u001b[0m\u001b[0;34m(\u001b[0m\u001b[0mbatch\u001b[0m\u001b[0;34m)\u001b[0m\u001b[0;34m,\u001b[0m \u001b[0mself\u001b[0m\u001b[0;34m)\u001b[0m\u001b[0;34m\u001b[0m\u001b[0m\n\u001b[0;32m--> 588\u001b[0;31m         \u001b[0mjob\u001b[0m \u001b[0;34m=\u001b[0m \u001b[0mself\u001b[0m\u001b[0;34m.\u001b[0m\u001b[0m_backend\u001b[0m\u001b[0;34m.\u001b[0m\u001b[0mapply_async\u001b[0m\u001b[0;34m(\u001b[0m\u001b[0mbatch\u001b[0m\u001b[0;34m,\u001b[0m \u001b[0mcallback\u001b[0m\u001b[0;34m=\u001b[0m\u001b[0mcb\u001b[0m\u001b[0;34m)\u001b[0m\u001b[0;34m\u001b[0m\u001b[0m\n\u001b[0m\u001b[1;32m    589\u001b[0m         \u001b[0mself\u001b[0m\u001b[0;34m.\u001b[0m\u001b[0m_jobs\u001b[0m\u001b[0;34m.\u001b[0m\u001b[0mappend\u001b[0m\u001b[0;34m(\u001b[0m\u001b[0mjob\u001b[0m\u001b[0;34m)\u001b[0m\u001b[0;34m\u001b[0m\u001b[0m\n\u001b[1;32m    590\u001b[0m \u001b[0;34m\u001b[0m\u001b[0m\n",
      "\u001b[0;32m~/anaconda3/lib/python3.6/site-packages/sklearn/externals/joblib/_parallel_backends.py\u001b[0m in \u001b[0;36mapply_async\u001b[0;34m(self, func, callback)\u001b[0m\n\u001b[1;32m    109\u001b[0m     \u001b[0;32mdef\u001b[0m \u001b[0mapply_async\u001b[0m\u001b[0;34m(\u001b[0m\u001b[0mself\u001b[0m\u001b[0;34m,\u001b[0m \u001b[0mfunc\u001b[0m\u001b[0;34m,\u001b[0m \u001b[0mcallback\u001b[0m\u001b[0;34m=\u001b[0m\u001b[0;32mNone\u001b[0m\u001b[0;34m)\u001b[0m\u001b[0;34m:\u001b[0m\u001b[0;34m\u001b[0m\u001b[0m\n\u001b[1;32m    110\u001b[0m         \u001b[0;34m\"\"\"Schedule a func to be run\"\"\"\u001b[0m\u001b[0;34m\u001b[0m\u001b[0m\n\u001b[0;32m--> 111\u001b[0;31m         \u001b[0mresult\u001b[0m \u001b[0;34m=\u001b[0m \u001b[0mImmediateResult\u001b[0m\u001b[0;34m(\u001b[0m\u001b[0mfunc\u001b[0m\u001b[0;34m)\u001b[0m\u001b[0;34m\u001b[0m\u001b[0m\n\u001b[0m\u001b[1;32m    112\u001b[0m         \u001b[0;32mif\u001b[0m \u001b[0mcallback\u001b[0m\u001b[0;34m:\u001b[0m\u001b[0;34m\u001b[0m\u001b[0m\n\u001b[1;32m    113\u001b[0m             \u001b[0mcallback\u001b[0m\u001b[0;34m(\u001b[0m\u001b[0mresult\u001b[0m\u001b[0;34m)\u001b[0m\u001b[0;34m\u001b[0m\u001b[0m\n",
      "\u001b[0;32m~/anaconda3/lib/python3.6/site-packages/sklearn/externals/joblib/_parallel_backends.py\u001b[0m in \u001b[0;36m__init__\u001b[0;34m(self, batch)\u001b[0m\n\u001b[1;32m    330\u001b[0m         \u001b[0;31m# Don't delay the application, to avoid keeping the input\u001b[0m\u001b[0;34m\u001b[0m\u001b[0;34m\u001b[0m\u001b[0m\n\u001b[1;32m    331\u001b[0m         \u001b[0;31m# arguments in memory\u001b[0m\u001b[0;34m\u001b[0m\u001b[0;34m\u001b[0m\u001b[0m\n\u001b[0;32m--> 332\u001b[0;31m         \u001b[0mself\u001b[0m\u001b[0;34m.\u001b[0m\u001b[0mresults\u001b[0m \u001b[0;34m=\u001b[0m \u001b[0mbatch\u001b[0m\u001b[0;34m(\u001b[0m\u001b[0;34m)\u001b[0m\u001b[0;34m\u001b[0m\u001b[0m\n\u001b[0m\u001b[1;32m    333\u001b[0m \u001b[0;34m\u001b[0m\u001b[0m\n\u001b[1;32m    334\u001b[0m     \u001b[0;32mdef\u001b[0m \u001b[0mget\u001b[0m\u001b[0;34m(\u001b[0m\u001b[0mself\u001b[0m\u001b[0;34m)\u001b[0m\u001b[0;34m:\u001b[0m\u001b[0;34m\u001b[0m\u001b[0m\n",
      "\u001b[0;32m~/anaconda3/lib/python3.6/site-packages/sklearn/externals/joblib/parallel.py\u001b[0m in \u001b[0;36m__call__\u001b[0;34m(self)\u001b[0m\n\u001b[1;32m    129\u001b[0m \u001b[0;34m\u001b[0m\u001b[0m\n\u001b[1;32m    130\u001b[0m     \u001b[0;32mdef\u001b[0m \u001b[0m__call__\u001b[0m\u001b[0;34m(\u001b[0m\u001b[0mself\u001b[0m\u001b[0;34m)\u001b[0m\u001b[0;34m:\u001b[0m\u001b[0;34m\u001b[0m\u001b[0m\n\u001b[0;32m--> 131\u001b[0;31m         \u001b[0;32mreturn\u001b[0m \u001b[0;34m[\u001b[0m\u001b[0mfunc\u001b[0m\u001b[0;34m(\u001b[0m\u001b[0;34m*\u001b[0m\u001b[0margs\u001b[0m\u001b[0;34m,\u001b[0m \u001b[0;34m**\u001b[0m\u001b[0mkwargs\u001b[0m\u001b[0;34m)\u001b[0m \u001b[0;32mfor\u001b[0m \u001b[0mfunc\u001b[0m\u001b[0;34m,\u001b[0m \u001b[0margs\u001b[0m\u001b[0;34m,\u001b[0m \u001b[0mkwargs\u001b[0m \u001b[0;32min\u001b[0m \u001b[0mself\u001b[0m\u001b[0;34m.\u001b[0m\u001b[0mitems\u001b[0m\u001b[0;34m]\u001b[0m\u001b[0;34m\u001b[0m\u001b[0m\n\u001b[0m\u001b[1;32m    132\u001b[0m \u001b[0;34m\u001b[0m\u001b[0m\n\u001b[1;32m    133\u001b[0m     \u001b[0;32mdef\u001b[0m \u001b[0m__len__\u001b[0m\u001b[0;34m(\u001b[0m\u001b[0mself\u001b[0m\u001b[0;34m)\u001b[0m\u001b[0;34m:\u001b[0m\u001b[0;34m\u001b[0m\u001b[0m\n",
      "\u001b[0;32m~/anaconda3/lib/python3.6/site-packages/sklearn/externals/joblib/parallel.py\u001b[0m in \u001b[0;36m<listcomp>\u001b[0;34m(.0)\u001b[0m\n\u001b[1;32m    129\u001b[0m \u001b[0;34m\u001b[0m\u001b[0m\n\u001b[1;32m    130\u001b[0m     \u001b[0;32mdef\u001b[0m \u001b[0m__call__\u001b[0m\u001b[0;34m(\u001b[0m\u001b[0mself\u001b[0m\u001b[0;34m)\u001b[0m\u001b[0;34m:\u001b[0m\u001b[0;34m\u001b[0m\u001b[0m\n\u001b[0;32m--> 131\u001b[0;31m         \u001b[0;32mreturn\u001b[0m \u001b[0;34m[\u001b[0m\u001b[0mfunc\u001b[0m\u001b[0;34m(\u001b[0m\u001b[0;34m*\u001b[0m\u001b[0margs\u001b[0m\u001b[0;34m,\u001b[0m \u001b[0;34m**\u001b[0m\u001b[0mkwargs\u001b[0m\u001b[0;34m)\u001b[0m \u001b[0;32mfor\u001b[0m \u001b[0mfunc\u001b[0m\u001b[0;34m,\u001b[0m \u001b[0margs\u001b[0m\u001b[0;34m,\u001b[0m \u001b[0mkwargs\u001b[0m \u001b[0;32min\u001b[0m \u001b[0mself\u001b[0m\u001b[0;34m.\u001b[0m\u001b[0mitems\u001b[0m\u001b[0;34m]\u001b[0m\u001b[0;34m\u001b[0m\u001b[0m\n\u001b[0m\u001b[1;32m    132\u001b[0m \u001b[0;34m\u001b[0m\u001b[0m\n\u001b[1;32m    133\u001b[0m     \u001b[0;32mdef\u001b[0m \u001b[0m__len__\u001b[0m\u001b[0;34m(\u001b[0m\u001b[0mself\u001b[0m\u001b[0;34m)\u001b[0m\u001b[0;34m:\u001b[0m\u001b[0;34m\u001b[0m\u001b[0m\n",
      "\u001b[0;32m~/anaconda3/lib/python3.6/site-packages/sklearn/ensemble/forest.py\u001b[0m in \u001b[0;36maccumulate_prediction\u001b[0;34m(predict, X, out, lock)\u001b[0m\n\u001b[1;32m    381\u001b[0m \u001b[0;34m\u001b[0m\u001b[0m\n\u001b[1;32m    382\u001b[0m \u001b[0;32mdef\u001b[0m \u001b[0maccumulate_prediction\u001b[0m\u001b[0;34m(\u001b[0m\u001b[0mpredict\u001b[0m\u001b[0;34m,\u001b[0m \u001b[0mX\u001b[0m\u001b[0;34m,\u001b[0m \u001b[0mout\u001b[0m\u001b[0;34m,\u001b[0m \u001b[0mlock\u001b[0m\u001b[0;34m)\u001b[0m\u001b[0;34m:\u001b[0m\u001b[0;34m\u001b[0m\u001b[0m\n\u001b[0;32m--> 383\u001b[0;31m     \u001b[0mprediction\u001b[0m \u001b[0;34m=\u001b[0m \u001b[0mpredict\u001b[0m\u001b[0;34m(\u001b[0m\u001b[0mX\u001b[0m\u001b[0;34m,\u001b[0m \u001b[0mcheck_input\u001b[0m\u001b[0;34m=\u001b[0m\u001b[0;32mFalse\u001b[0m\u001b[0;34m)\u001b[0m\u001b[0;34m\u001b[0m\u001b[0m\n\u001b[0m\u001b[1;32m    384\u001b[0m     \u001b[0;32mwith\u001b[0m \u001b[0mlock\u001b[0m\u001b[0;34m:\u001b[0m\u001b[0;34m\u001b[0m\u001b[0m\n\u001b[1;32m    385\u001b[0m         \u001b[0;32mif\u001b[0m \u001b[0mlen\u001b[0m\u001b[0;34m(\u001b[0m\u001b[0mout\u001b[0m\u001b[0;34m)\u001b[0m \u001b[0;34m==\u001b[0m \u001b[0;36m1\u001b[0m\u001b[0;34m:\u001b[0m\u001b[0;34m\u001b[0m\u001b[0m\n",
      "\u001b[0;32m~/anaconda3/lib/python3.6/site-packages/sklearn/tree/tree.py\u001b[0m in \u001b[0;36mpredict_proba\u001b[0;34m(self, X, check_input)\u001b[0m\n\u001b[1;32m    820\u001b[0m         \u001b[0mcheck_is_fitted\u001b[0m\u001b[0;34m(\u001b[0m\u001b[0mself\u001b[0m\u001b[0;34m,\u001b[0m \u001b[0;34m'tree_'\u001b[0m\u001b[0;34m)\u001b[0m\u001b[0;34m\u001b[0m\u001b[0m\n\u001b[1;32m    821\u001b[0m         \u001b[0mX\u001b[0m \u001b[0;34m=\u001b[0m \u001b[0mself\u001b[0m\u001b[0;34m.\u001b[0m\u001b[0m_validate_X_predict\u001b[0m\u001b[0;34m(\u001b[0m\u001b[0mX\u001b[0m\u001b[0;34m,\u001b[0m \u001b[0mcheck_input\u001b[0m\u001b[0;34m)\u001b[0m\u001b[0;34m\u001b[0m\u001b[0m\n\u001b[0;32m--> 822\u001b[0;31m         \u001b[0mproba\u001b[0m \u001b[0;34m=\u001b[0m \u001b[0mself\u001b[0m\u001b[0;34m.\u001b[0m\u001b[0mtree_\u001b[0m\u001b[0;34m.\u001b[0m\u001b[0mpredict\u001b[0m\u001b[0;34m(\u001b[0m\u001b[0mX\u001b[0m\u001b[0;34m)\u001b[0m\u001b[0;34m\u001b[0m\u001b[0m\n\u001b[0m\u001b[1;32m    823\u001b[0m \u001b[0;34m\u001b[0m\u001b[0m\n\u001b[1;32m    824\u001b[0m         \u001b[0;32mif\u001b[0m \u001b[0mself\u001b[0m\u001b[0;34m.\u001b[0m\u001b[0mn_outputs_\u001b[0m \u001b[0;34m==\u001b[0m \u001b[0;36m1\u001b[0m\u001b[0;34m:\u001b[0m\u001b[0;34m\u001b[0m\u001b[0m\n",
      "\u001b[0;31mKeyboardInterrupt\u001b[0m: "
     ]
    }
   ],
   "source": [
    "sameAuthor = [False for v in itertools.product(featuresDev.index,featuresDev.index)]\n",
    "truthValue = []\n",
    "\n",
    "for v in tqdm(itertools.product(labelsDevValue,labelsDevValue)):\n",
    "    if v[0] == v[1]:\n",
    "        truthValue.append(True)\n",
    "    else:\n",
    "        truthValue.append(False)\n",
    "        \n",
    "# print(featuresDev.index)\n",
    "for i, v in tqdm(enumerate(itertools.product(featuresDev.values,featuresDev.values)),total= len(sameAuthor)):\n",
    "    predictions = classifier.predict(v)\n",
    "    \n",
    "    if predictions[0] == predictions[1]:\n",
    "        sameAuthor[i] = True\n",
    "    else:\n",
    "        sameAuthor[i] = False"
   ]
  },
  {
   "cell_type": "code",
   "execution_count": 68,
   "metadata": {},
   "outputs": [],
   "source": [
    "numTrue = (pd.DataFrame(data=[truthValue, sameAuthor]).sum() == 2).sum()\n",
    "numTrue\n",
    "totalCount = (pd.DataFrame(data=[truthValue, sameAuthor]).sum() == 2).count()"
   ]
  },
  {
   "cell_type": "code",
   "execution_count": 71,
   "metadata": {},
   "outputs": [
    {
     "name": "stdout",
     "output_type": "stream",
     "text": [
      "0.0755524499956328\n"
     ]
    }
   ],
   "source": [
    "print(numTrue/totalCount)"
   ]
  },
  {
   "cell_type": "code",
   "execution_count": 75,
   "metadata": {},
   "outputs": [
    {
     "data": {
      "text/plain": [
       "5368"
      ]
     },
     "execution_count": 75,
     "metadata": {},
     "output_type": "execute_result"
    }
   ],
   "source": [
    "pd.Series(sameAuthor).sum()"
   ]
  },
  {
   "cell_type": "code",
   "execution_count": null,
   "metadata": {},
   "outputs": [],
   "source": []
  }
 ],
 "metadata": {
  "kernelspec": {
   "display_name": "Python 3",
   "language": "python",
   "name": "python3"
  },
  "language_info": {
   "codemirror_mode": {
    "name": "ipython",
    "version": 3
   },
   "file_extension": ".py",
   "mimetype": "text/x-python",
   "name": "python",
   "nbconvert_exporter": "python",
   "pygments_lexer": "ipython3",
   "version": "3.6.5"
  }
 },
 "nbformat": 4,
 "nbformat_minor": 2
}
