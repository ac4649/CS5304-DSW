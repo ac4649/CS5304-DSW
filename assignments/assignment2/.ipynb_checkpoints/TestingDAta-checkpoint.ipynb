{
 "cells": [
  {
   "cell_type": "code",
   "execution_count": 231,
   "metadata": {},
   "outputs": [],
   "source": [
    "import pandas as pd\n",
    "import random\n",
    "import re\n",
    "from IPython.display import clear_output\n",
    "from itertools import islice"
   ]
  },
  {
   "cell_type": "code",
   "execution_count": 232,
   "metadata": {},
   "outputs": [],
   "source": [
    "# allIndeces = random.sample(range(0, 47999999), 2000000)\n",
    "allIndeces = random.sample(range(0, 20), 10)"
   ]
  },
  {
   "cell_type": "code",
   "execution_count": 233,
   "metadata": {},
   "outputs": [
    {
     "name": "stdout",
     "output_type": "stream",
     "text": [
      "10\n"
     ]
    }
   ],
   "source": [
    "print(len(allIndeces))"
   ]
  },
  {
   "cell_type": "code",
   "execution_count": 234,
   "metadata": {},
   "outputs": [],
   "source": [
    "allIndeces = pd.Series(data = allIndeces)"
   ]
  },
  {
   "cell_type": "code",
   "execution_count": 235,
   "metadata": {},
   "outputs": [],
   "source": [
    "# print(allIndeces.values)"
   ]
  },
  {
   "cell_type": "code",
   "execution_count": 236,
   "metadata": {},
   "outputs": [],
   "source": [
    "allIndeces = allIndeces.sort_values()"
   ]
  },
  {
   "cell_type": "code",
   "execution_count": 237,
   "metadata": {},
   "outputs": [],
   "source": [
    "allData = pd.DataFrame(index=allIndeces, columns=['raw_data']);"
   ]
  },
  {
   "cell_type": "code",
   "execution_count": null,
   "metadata": {},
   "outputs": [],
   "source": []
  },
  {
   "cell_type": "code",
   "execution_count": 238,
   "metadata": {},
   "outputs": [],
   "source": [
    "newFileName = 'selectedLines';\n",
    "outputFile = open(newFileName,'w');"
   ]
  },
  {
   "cell_type": "code",
   "execution_count": 239,
   "metadata": {},
   "outputs": [
    {
     "name": "stdout",
     "output_type": "stream",
     "text": [
      "3:30.0 : (10, 1)\n",
      "6:60.0 : (10, 1)\n",
      "7:70.0 : (10, 1)\n",
      "9:90.0 : (10, 1)\n",
      "10:100.0 : (10, 1)\n",
      "11:110.00000000000001 : (10, 1)\n",
      "13:130.0 : (10, 1)\n",
      "15:150.0 : (10, 1)\n",
      "16:160.0 : (10, 1)\n",
      "19:190.0 : (10, 1)\n"
     ]
    }
   ],
   "source": [
    "file = open('dac/train.txt');\n",
    "k = 0\n",
    "indexK = 0\n",
    "totalNumLines = len(allIndeces)\n",
    "for line in file:\n",
    "    if k in allIndeces.values:\n",
    "#         print(line)\n",
    "        outputFile.write(line)\n",
    "        allData['raw_data'][k] = pd.Series(data=line)\n",
    "        percentage = indexK / len(allIndeces) * 100\n",
    "        \n",
    "        print(str(k) + \":\" + str(percentage) + \" : \" + str(allData.shape))\n",
    "        indexK = indexK + 1\n",
    "    k = k + 1\n",
    "    \n",
    "\n",
    "\n",
    "    if k > max(allIndeces.values):\n",
    "        break\n",
    "    \n",
    "    \n",
    "outputFile.close()\n"
   ]
  },
  {
   "cell_type": "code",
   "execution_count": 229,
   "metadata": {},
   "outputs": [
    {
     "data": {
      "text/plain": [
       "(10, 1)"
      ]
     },
     "execution_count": 229,
     "metadata": {},
     "output_type": "execute_result"
    }
   ],
   "source": [
    "allData.shape"
   ]
  },
  {
   "cell_type": "code",
   "execution_count": 230,
   "metadata": {},
   "outputs": [
    {
     "data": {
      "text/html": [
       "<div>\n",
       "<style scoped>\n",
       "    .dataframe tbody tr th:only-of-type {\n",
       "        vertical-align: middle;\n",
       "    }\n",
       "\n",
       "    .dataframe tbody tr th {\n",
       "        vertical-align: top;\n",
       "    }\n",
       "\n",
       "    .dataframe thead th {\n",
       "        text-align: right;\n",
       "    }\n",
       "</style>\n",
       "<table border=\"1\" class=\"dataframe\">\n",
       "  <thead>\n",
       "    <tr style=\"text-align: right;\">\n",
       "      <th></th>\n",
       "      <th>raw_data</th>\n",
       "    </tr>\n",
       "  </thead>\n",
       "  <tbody>\n",
       "    <tr>\n",
       "      <th>1</th>\n",
       "      <td>0    0\\t2\\t0\\t44\\t1\\t102\\t8\\t2\\t2\\t4\\t1\\t1\\t\\t...</td>\n",
       "    </tr>\n",
       "    <tr>\n",
       "      <th>3</th>\n",
       "      <td>0    0\\t\\t893\\t\\t\\t4392\\t\\t0\\t0\\t0\\t\\t0\\t\\t\\t6...</td>\n",
       "    </tr>\n",
       "    <tr>\n",
       "      <th>4</th>\n",
       "      <td>0    0\\t3\\t-1\\t\\t0\\t2\\t0\\t3\\t0\\t0\\t1\\t1\\t\\t0\\t...</td>\n",
       "    </tr>\n",
       "    <tr>\n",
       "      <th>5</th>\n",
       "      <td>0    0\\t\\t-1\\t\\t\\t12824\\t\\t0\\t0\\t6\\t\\t0\\t\\t\\t0...</td>\n",
       "    </tr>\n",
       "    <tr>\n",
       "      <th>6</th>\n",
       "      <td>0    0\\t\\t1\\t2\\t\\t3168\\t\\t0\\t1\\t2\\t\\t0\\t\\t\\t43...</td>\n",
       "    </tr>\n",
       "    <tr>\n",
       "      <th>9</th>\n",
       "      <td>0    0\\t\\t35\\t\\t1\\t33737\\t21\\t1\\t2\\t3\\t\\t1\\t\\t...</td>\n",
       "    </tr>\n",
       "    <tr>\n",
       "      <th>12</th>\n",
       "      <td>0    1\\t0\\t-1\\t\\t\\t1465\\t0\\t17\\t0\\t4\\t0\\t4\\t\\t...</td>\n",
       "    </tr>\n",
       "    <tr>\n",
       "      <th>13</th>\n",
       "      <td>0    1\\t\\t2\\t11\\t5\\t10262\\t34\\t2\\t4\\t5\\t\\t1\\t\\...</td>\n",
       "    </tr>\n",
       "    <tr>\n",
       "      <th>15</th>\n",
       "      <td>0    0\\t\\t2\\t1\\t18\\t20255\\t\\t0\\t1\\t1306\\t\\t0\\t...</td>\n",
       "    </tr>\n",
       "    <tr>\n",
       "      <th>19</th>\n",
       "      <td>0    0\\t7\\t102\\t\\t3\\t780\\t15\\t7\\t15\\t15\\t1\\t1\\...</td>\n",
       "    </tr>\n",
       "  </tbody>\n",
       "</table>\n",
       "</div>"
      ],
      "text/plain": [
       "                                             raw_data\n",
       "1   0    0\\t2\\t0\\t44\\t1\\t102\\t8\\t2\\t2\\t4\\t1\\t1\\t\\t...\n",
       "3   0    0\\t\\t893\\t\\t\\t4392\\t\\t0\\t0\\t0\\t\\t0\\t\\t\\t6...\n",
       "4   0    0\\t3\\t-1\\t\\t0\\t2\\t0\\t3\\t0\\t0\\t1\\t1\\t\\t0\\t...\n",
       "5   0    0\\t\\t-1\\t\\t\\t12824\\t\\t0\\t0\\t6\\t\\t0\\t\\t\\t0...\n",
       "6   0    0\\t\\t1\\t2\\t\\t3168\\t\\t0\\t1\\t2\\t\\t0\\t\\t\\t43...\n",
       "9   0    0\\t\\t35\\t\\t1\\t33737\\t21\\t1\\t2\\t3\\t\\t1\\t\\t...\n",
       "12  0    1\\t0\\t-1\\t\\t\\t1465\\t0\\t17\\t0\\t4\\t0\\t4\\t\\t...\n",
       "13  0    1\\t\\t2\\t11\\t5\\t10262\\t34\\t2\\t4\\t5\\t\\t1\\t\\...\n",
       "15  0    0\\t\\t2\\t1\\t18\\t20255\\t\\t0\\t1\\t1306\\t\\t0\\t...\n",
       "19  0    0\\t7\\t102\\t\\t3\\t780\\t15\\t7\\t15\\t15\\t1\\t1\\..."
      ]
     },
     "execution_count": 230,
     "metadata": {},
     "output_type": "execute_result"
    }
   ],
   "source": [
    "allData.head(10)"
   ]
  },
  {
   "cell_type": "code",
   "execution_count": null,
   "metadata": {},
   "outputs": [],
   "source": [
    "allData.reindex(index = allIndeces)"
   ]
  },
  {
   "cell_type": "code",
   "execution_count": null,
   "metadata": {},
   "outputs": [],
   "source": [
    "allData.to_csv('2millionData.csv', encoding='utf-8', index=True)"
   ]
  },
  {
   "cell_type": "code",
   "execution_count": null,
   "metadata": {},
   "outputs": [],
   "source": [
    "allIndeces.to_csv('indexvalues.csv', encoding='utf-8',index=True)"
   ]
  },
  {
   "cell_type": "code",
   "execution_count": null,
   "metadata": {},
   "outputs": [],
   "source": []
  }
 ],
 "metadata": {
  "kernelspec": {
   "display_name": "Python 3",
   "language": "python",
   "name": "python3"
  }
 },
 "nbformat": 4,
 "nbformat_minor": 2
}
