{
 "cells": [
  {
   "cell_type": "code",
   "execution_count": 12,
   "metadata": {
    "collapsed": true
   },
   "outputs": [],
   "source": [
    "import pandas as pd\n",
    "import random\n",
    "import re\n",
    "from IPython.display import clear_output\n",
    "import itertools"
   ]
  },
  {
   "cell_type": "code",
   "execution_count": 13,
   "metadata": {
    "collapsed": true
   },
   "outputs": [],
   "source": [
    "#create an index file for the huge data file\n",
    "def createIndex(filePath):\n",
    "    file = open(filePath,'r');\n",
    "    indexFilePath = filePath+\"_index.csv\"\n",
    "    indexFile = open(indexFilePath,'w');\n",
    "    indexFile.close()\n",
    "    \n",
    "    offset = 0\n",
    "    lineNumber = 0\n",
    "    for line in file:\n",
    "        clear_output(wait=True)\n",
    "        print(lineNumber)\n",
    "        indexFile = open(indexFilePath,'a');\n",
    "        indexFile.write(str(lineNumber) + \",\" + str(offset) + \"\\n\")\n",
    "        indexFile.close()\n",
    "        lineNumber = lineNumber + 1\n",
    "        offset += len(line)\n",
    "    file.close()\n",
    "    return indexFilePath"
   ]
  },
  {
   "cell_type": "code",
   "execution_count": 14,
   "metadata": {},
   "outputs": [],
   "source": [
    "def generateNIndecesFrom(n, rangeOfIndeces):\n",
    "    print(\"Generating \" + str(n) + \" indeces from range\")\n",
    "    allIndeces = random.sample(rangeOfIndeces, n)\n",
    "    allIndeces = pd.Series(data = allIndeces)\n",
    "    allIndeces = allIndeces.sort_values().reset_index().drop(['index'],axis=1)\n",
    "    allIndeces.columns = ['Index'];\n",
    "    return allIndeces"
   ]
  },
  {
   "cell_type": "code",
   "execution_count": null,
   "metadata": {},
   "outputs": [
    {
     "name": "stdout",
     "output_type": "stream",
     "text": [
      "Loaded the 2000000 data points\n"
     ]
    }
   ],
   "source": [
    "#Load or Generate the 2M indeces to use\n",
    "twoMIndeces = pd.read_csv('2MIndeces.csv')\n",
    "if (twoMIndeces.shape[0] != 2000000):\n",
    "    print(\"There were not 2000000 data points\")\n",
    "    twoMIndeces = generateNIndecesFrom(2000000,range(0,47999999))\n",
    "    twoMIndeces.to_csv('2MIndeces.csv')\n",
    "else:\n",
    "    print(\"Loaded the 2000000 data points\")"
   ]
  },
  {
   "cell_type": "code",
   "execution_count": null,
   "metadata": {},
   "outputs": [
    {
     "name": "stdout",
     "output_type": "stream",
     "text": [
      "55848"
     ]
    }
   ],
   "source": [
    "try:\n",
    "    trainIndex = pd.read_csv('train.txt_index.csv')\n",
    "except:\n",
    "    print(\"No Training Index, creating one\")\n",
    "    trainIndexFilePath = createIndex('dac/train.txt')\n",
    "    trainIndex = pd.read_csv('train.txt_index.csv')\n",
    "trainIndex.head()"
   ]
  },
  {
   "cell_type": "code",
   "execution_count": null,
   "metadata": {
    "collapsed": true
   },
   "outputs": [],
   "source": [
    "# To use index, load it into an array (or df whatever)\n",
    "# open the file related to the index (should probs be mentioned but whatevs its in the same location)\n",
    "# with the file open do file.seek(arg) where arg is the location found in the index for the line number\n",
    "# then read in the line by doing file.readline() and saving that to file."
   ]
  },
  {
   "cell_type": "code",
   "execution_count": null,
   "metadata": {
    "collapsed": true
   },
   "outputs": [],
   "source": []
  }
 ],
 "metadata": {
  "kernelspec": {
   "display_name": "Python 3",
   "language": "python",
   "name": "python3"
  },
  "language_info": {
   "codemirror_mode": {
    "name": "ipython",
    "version": 3
   },
   "file_extension": ".py",
   "mimetype": "text/x-python",
   "name": "python",
   "nbconvert_exporter": "python",
   "pygments_lexer": "ipython3",
   "version": "3.6.1"
  }
 },
 "nbformat": 4,
 "nbformat_minor": 2
}
