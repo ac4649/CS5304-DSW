{
 "cells": [
  {
   "cell_type": "code",
   "execution_count": 60,
   "metadata": {},
   "outputs": [],
   "source": [
    "%matplotlib inline\n",
    "from PIL import Image\n",
    "import pandas as pd\n",
    "import seaborn as sns\n",
    "from sklearn.linear_model import LogisticRegression\n",
    "import os\n",
    "import itertools\n",
    "from tqdm import *\n",
    "from tqdm import tqdm_notebook as tqdm\n",
    "import random\n",
    "import numpy as np\n",
    "import math\n",
    "import matplotlib.pyplot as plt\n",
    "\n",
    "from IPython.display import clear_output\n",
    "\n",
    "from io import StringIO\n",
    "import re\n",
    "\n",
    "import pickle\n",
    "import os\n",
    "\n",
    "from multiprocessing import Pool \n",
    "from itertools import product\n",
    "import sys"
   ]
  },
  {
   "cell_type": "markdown",
   "metadata": {},
   "source": [
    "# Step 1: Load Data Set"
   ]
  },
  {
   "cell_type": "code",
   "execution_count": 2,
   "metadata": {},
   "outputs": [],
   "source": [
    "fileNames = []\n",
    "for file in os.listdir(\"data/train_1\"):\n",
    "    if file.endswith(\".jpg\"):\n",
    "        fileNames.append(file)\n",
    "# fileNamesDF = pd.DataFrame(fileNames)"
   ]
  },
  {
   "cell_type": "code",
   "execution_count": 3,
   "metadata": {},
   "outputs": [
    {
     "data": {
      "application/vnd.jupyter.widget-view+json": {
       "model_id": "e87ac9e4a29f4c9f8bce1b75c94f6531",
       "version_major": 2,
       "version_minor": 0
      },
      "text/plain": [
       "HBox(children=(IntProgress(value=0, max=23), HTML(value='')))"
      ]
     },
     "metadata": {},
     "output_type": "display_data"
    },
    {
     "name": "stdout",
     "output_type": "stream",
     "text": [
      "\n"
     ]
    }
   ],
   "source": [
    "#only take certain artist so that the probabilities aren't basically all false when doing the tupples\n",
    "minNumPaintingsPerArtist = 50\n",
    "\n",
    "# #for each artist, only take n of their paintings\n",
    "numPaintingsPerAuthor = 100\n",
    "\n",
    "\n",
    "trainInfo = pd.read_csv('data/train_info.csv')\n",
    "trainInfo = trainInfo[trainInfo['filename'].isin(fileNames)]\n",
    "\n",
    "mostPopularArtists = trainInfo['artist'].value_counts()[trainInfo['artist'].value_counts() > minNumPaintingsPerArtist]\n",
    "# print(mostPopularArtists.head())\n",
    "# fileNamesDFAll = trainInfo[trainInfo['artist'].isin(mostPopularArtists.index)]\n",
    "# print(fileNamesDFAll.head())\n",
    "\n",
    "\n",
    "\n",
    "fileNamesDF = pd.DataFrame()\n",
    "for artist in tqdm(mostPopularArtists.index):\n",
    "    fileNamesDF = fileNamesDF.append(trainInfo[trainInfo['artist'] == artist][:numPaintingsPerAuthor])"
   ]
  },
  {
   "cell_type": "code",
   "execution_count": 16,
   "metadata": {},
   "outputs": [],
   "source": [
    "# Load the all_data_info for the dataset we are using\n",
    "allInfo = pd.read_csv('data/all_data_info.csv')\n",
    "allInfo = allInfo[allInfo['new_filename'].isin(fileNamesDF['filename'])]\n",
    "\n",
    "featuresDF = pd.DataFrame(allInfo['new_filename'])\n",
    "featuresDF['pixelsx'] = allInfo['pixelsx']\n",
    "featuresDF['pixelsy'] = allInfo['pixelsy']\n",
    "featuresDF['features'] = pd.Series()"
   ]
  },
  {
   "cell_type": "code",
   "execution_count": 17,
   "metadata": {},
   "outputs": [],
   "source": [
    "def normalizeSeries(series, maxNum):\n",
    "    series = series/maxNum\n",
    "    return series"
   ]
  },
  {
   "cell_type": "code",
   "execution_count": 18,
   "metadata": {},
   "outputs": [],
   "source": [
    "def featurizeImage(filename):\n",
    "    # Extract the features from the actual image\n",
    "    jpgfile = Image.open(\"data/train_1/\" + filename)\n",
    "#     print(jpgfile)\n",
    "    \n",
    "    bands = jpgfile.getbands()\n",
    "    if bands[0] == 'L':\n",
    "        # grayscale image\n",
    "        imageDF = pd.DataFrame(list(jpgfile.getdata()),columns=['grayscale'])\n",
    "#         imageDF['grayscale'] = normalizeSeries(imageDF['grayscale',])\n",
    "    elif len(bands) == 4:\n",
    "        #get red, green and blue chanels \n",
    "        imageDF = pd.DataFrame(list(jpgfile.getdata()),columns=['red','green','blue','alpha'])\n",
    "        imageDF['red'] = normalizeSeries(imageDF['red'],255)\n",
    "        imageDF['green'] = normalizeSeries(imageDF['green'],255)\n",
    "        imageDF['blue'] = normalizeSeries(imageDF['blue'],255)  \n",
    "        imageDF['alpha'] = normalizeSeries(imageDF['alpha'],255)  \n",
    "    elif len(bands) == 3:\n",
    "        #get red, green and blue chanels \n",
    "        imageDF = pd.DataFrame(list(jpgfile.getdata()),columns=['red','green','blue'])\n",
    "        imageDF['red'] = normalizeSeries(imageDF['red'],255)\n",
    "        imageDF['green'] = normalizeSeries(imageDF['green'],255)\n",
    "        imageDF['blue'] = normalizeSeries(imageDF['blue'],255)  \n",
    "    else:\n",
    "        imageDF = pd.DataFrame(list(jpgfile.getdata()))\n",
    "        print(bands)\n",
    "        return imageDF, bands\n",
    "\n",
    "    return imageDF"
   ]
  },
  {
   "cell_type": "code",
   "execution_count": 19,
   "metadata": {},
   "outputs": [],
   "source": [
    "def pickleDF(fileName,dataFrame,numSplits):\n",
    "    print(numSplits)\n",
    "    dfArray = np.array_split(dataFrame, numSplits)\n",
    "    for i, df in enumerate(dfArray):\n",
    "        df.to_pickle(fileName+\"-\"+str(i))"
   ]
  },
  {
   "cell_type": "code",
   "execution_count": 61,
   "metadata": {},
   "outputs": [],
   "source": [
    "def getImgData(dataFrame,baseName):\n",
    "    index = 0\n",
    "    while os.path.exists(baseName+\"-\"+str(index)):\n",
    "        index = index + 1\n",
    "    \n",
    "    newFileName = baseName + \"-\" + str(index) + \".pckl\"\n",
    "    print(newFileName)\n",
    "    sys.stdout.flush()\n",
    "    for row in tqdm(list(dataFrame.index)):\n",
    "        featureSeries = pd.Series()\n",
    "        if (type(dataFrame.loc[row]['features']) != str and type(dataFrame.loc[row]['features']) != pd.core.frame.DataFrame):\n",
    "            imageFeatures = featurizeImage(dataFrame.loc[row]['new_filename'])\n",
    "            featureSeries.append(imageFeatures)\n",
    "        sys.stdout.flush()\n",
    "        \n",
    "    dataFrame['features'] = featureSeries\n",
    "    dataFrame.to_pickle(newfileName)\n",
    "    return dataFrame"
   ]
  },
  {
   "cell_type": "code",
   "execution_count": 62,
   "metadata": {
    "scrolled": true
   },
   "outputs": [
    {
     "name": "stdout",
     "output_type": "stream",
     "text": [
      "trainImgsAllcolorBands.pckl-1\n"
     ]
    },
    {
     "data": {
      "application/vnd.jupyter.widget-view+json": {
       "model_id": "c010c3c4b7294849aa62cfe650223cb5",
       "version_major": 2,
       "version_minor": 0
      },
      "text/plain": [
       "HBox(children=(IntProgress(value=0, max=26), HTML(value='')))"
      ]
     },
     "metadata": {},
     "output_type": "display_data"
    },
    {
     "ename": "KeyboardInterrupt",
     "evalue": "",
     "output_type": "error",
     "traceback": [
      "\u001b[0;31m---------------------------------------------------------------------------\u001b[0m",
      "\u001b[0;31mKeyboardInterrupt\u001b[0m                         Traceback (most recent call last)",
      "\u001b[0;32m<ipython-input-62-cc803c3599dd>\u001b[0m in \u001b[0;36m<module>\u001b[0;34m()\u001b[0m\n\u001b[1;32m      4\u001b[0m \u001b[0mi\u001b[0m \u001b[0;34m=\u001b[0m \u001b[0;36m0\u001b[0m\u001b[0;34m\u001b[0m\u001b[0m\n\u001b[1;32m      5\u001b[0m \u001b[0;32mfor\u001b[0m \u001b[0msplitFrame\u001b[0m \u001b[0;32min\u001b[0m \u001b[0msplitFeaturesData\u001b[0m\u001b[0;34m:\u001b[0m\u001b[0;34m\u001b[0m\u001b[0m\n\u001b[0;32m----> 6\u001b[0;31m     \u001b[0mtransformedFrame\u001b[0m \u001b[0;34m=\u001b[0m \u001b[0mgetImgData\u001b[0m\u001b[0;34m(\u001b[0m\u001b[0msplitFrame\u001b[0m\u001b[0;34m,\u001b[0m\u001b[0mbaseFileName\u001b[0m\u001b[0;34m)\u001b[0m\u001b[0;34m\u001b[0m\u001b[0m\n\u001b[0m\u001b[1;32m      7\u001b[0m     \u001b[0mprint\u001b[0m\u001b[0;34m(\u001b[0m\u001b[0mtransformedFrame\u001b[0m\u001b[0;34m.\u001b[0m\u001b[0mhead\u001b[0m\u001b[0;34m(\u001b[0m\u001b[0;34m)\u001b[0m\u001b[0;34m)\u001b[0m\u001b[0;34m\u001b[0m\u001b[0m\n\u001b[1;32m      8\u001b[0m     \u001b[0mi\u001b[0m \u001b[0;34m=\u001b[0m \u001b[0mi\u001b[0m\u001b[0;34m+\u001b[0m\u001b[0;36m1\u001b[0m\u001b[0;34m\u001b[0m\u001b[0m\n",
      "\u001b[0;32m<ipython-input-61-33a4c33cd348>\u001b[0m in \u001b[0;36mgetImgData\u001b[0;34m(dataFrame, baseName)\u001b[0m\n\u001b[1;32m     10\u001b[0m         \u001b[0mfeatureSeries\u001b[0m \u001b[0;34m=\u001b[0m \u001b[0mpd\u001b[0m\u001b[0;34m.\u001b[0m\u001b[0mSeries\u001b[0m\u001b[0;34m(\u001b[0m\u001b[0;34m)\u001b[0m\u001b[0;34m\u001b[0m\u001b[0m\n\u001b[1;32m     11\u001b[0m         \u001b[0;32mif\u001b[0m \u001b[0;34m(\u001b[0m\u001b[0mtype\u001b[0m\u001b[0;34m(\u001b[0m\u001b[0mdataFrame\u001b[0m\u001b[0;34m.\u001b[0m\u001b[0mloc\u001b[0m\u001b[0;34m[\u001b[0m\u001b[0mrow\u001b[0m\u001b[0;34m]\u001b[0m\u001b[0;34m[\u001b[0m\u001b[0;34m'features'\u001b[0m\u001b[0;34m]\u001b[0m\u001b[0;34m)\u001b[0m \u001b[0;34m!=\u001b[0m \u001b[0mstr\u001b[0m \u001b[0;32mand\u001b[0m \u001b[0mtype\u001b[0m\u001b[0;34m(\u001b[0m\u001b[0mdataFrame\u001b[0m\u001b[0;34m.\u001b[0m\u001b[0mloc\u001b[0m\u001b[0;34m[\u001b[0m\u001b[0mrow\u001b[0m\u001b[0;34m]\u001b[0m\u001b[0;34m[\u001b[0m\u001b[0;34m'features'\u001b[0m\u001b[0;34m]\u001b[0m\u001b[0;34m)\u001b[0m \u001b[0;34m!=\u001b[0m \u001b[0mpd\u001b[0m\u001b[0;34m.\u001b[0m\u001b[0mcore\u001b[0m\u001b[0;34m.\u001b[0m\u001b[0mframe\u001b[0m\u001b[0;34m.\u001b[0m\u001b[0mDataFrame\u001b[0m\u001b[0;34m)\u001b[0m\u001b[0;34m:\u001b[0m\u001b[0;34m\u001b[0m\u001b[0m\n\u001b[0;32m---> 12\u001b[0;31m             \u001b[0mimageFeatures\u001b[0m \u001b[0;34m=\u001b[0m \u001b[0mfeaturizeImage\u001b[0m\u001b[0;34m(\u001b[0m\u001b[0mdataFrame\u001b[0m\u001b[0;34m.\u001b[0m\u001b[0mloc\u001b[0m\u001b[0;34m[\u001b[0m\u001b[0mrow\u001b[0m\u001b[0;34m]\u001b[0m\u001b[0;34m[\u001b[0m\u001b[0;34m'new_filename'\u001b[0m\u001b[0;34m]\u001b[0m\u001b[0;34m)\u001b[0m\u001b[0;34m\u001b[0m\u001b[0m\n\u001b[0m\u001b[1;32m     13\u001b[0m             \u001b[0mfeatureSeries\u001b[0m\u001b[0;34m.\u001b[0m\u001b[0mappend\u001b[0m\u001b[0;34m(\u001b[0m\u001b[0mimageFeatures\u001b[0m\u001b[0;34m)\u001b[0m\u001b[0;34m\u001b[0m\u001b[0m\n\u001b[1;32m     14\u001b[0m     \u001b[0mdataFrame\u001b[0m\u001b[0;34m[\u001b[0m\u001b[0;34m'features'\u001b[0m\u001b[0;34m]\u001b[0m \u001b[0;34m=\u001b[0m \u001b[0mfeatureSeries\u001b[0m\u001b[0;34m\u001b[0m\u001b[0m\n",
      "\u001b[0;32m<ipython-input-18-f83fb3d3240f>\u001b[0m in \u001b[0;36mfeaturizeImage\u001b[0;34m(filename)\u001b[0m\n\u001b[1;32m     18\u001b[0m     \u001b[0;32melif\u001b[0m \u001b[0mlen\u001b[0m\u001b[0;34m(\u001b[0m\u001b[0mbands\u001b[0m\u001b[0;34m)\u001b[0m \u001b[0;34m==\u001b[0m \u001b[0;36m3\u001b[0m\u001b[0;34m:\u001b[0m\u001b[0;34m\u001b[0m\u001b[0m\n\u001b[1;32m     19\u001b[0m         \u001b[0;31m#get red, green and blue chanels\u001b[0m\u001b[0;34m\u001b[0m\u001b[0;34m\u001b[0m\u001b[0m\n\u001b[0;32m---> 20\u001b[0;31m         \u001b[0mimageDF\u001b[0m \u001b[0;34m=\u001b[0m \u001b[0mpd\u001b[0m\u001b[0;34m.\u001b[0m\u001b[0mDataFrame\u001b[0m\u001b[0;34m(\u001b[0m\u001b[0mlist\u001b[0m\u001b[0;34m(\u001b[0m\u001b[0mjpgfile\u001b[0m\u001b[0;34m.\u001b[0m\u001b[0mgetdata\u001b[0m\u001b[0;34m(\u001b[0m\u001b[0;34m)\u001b[0m\u001b[0;34m)\u001b[0m\u001b[0;34m,\u001b[0m\u001b[0mcolumns\u001b[0m\u001b[0;34m=\u001b[0m\u001b[0;34m[\u001b[0m\u001b[0;34m'red'\u001b[0m\u001b[0;34m,\u001b[0m\u001b[0;34m'green'\u001b[0m\u001b[0;34m,\u001b[0m\u001b[0;34m'blue'\u001b[0m\u001b[0;34m]\u001b[0m\u001b[0;34m)\u001b[0m\u001b[0;34m\u001b[0m\u001b[0m\n\u001b[0m\u001b[1;32m     21\u001b[0m         \u001b[0mimageDF\u001b[0m\u001b[0;34m[\u001b[0m\u001b[0;34m'red'\u001b[0m\u001b[0;34m]\u001b[0m \u001b[0;34m=\u001b[0m \u001b[0mnormalizeSeries\u001b[0m\u001b[0;34m(\u001b[0m\u001b[0mimageDF\u001b[0m\u001b[0;34m[\u001b[0m\u001b[0;34m'red'\u001b[0m\u001b[0;34m]\u001b[0m\u001b[0;34m,\u001b[0m\u001b[0;36m255\u001b[0m\u001b[0;34m)\u001b[0m\u001b[0;34m\u001b[0m\u001b[0m\n\u001b[1;32m     22\u001b[0m         \u001b[0mimageDF\u001b[0m\u001b[0;34m[\u001b[0m\u001b[0;34m'green'\u001b[0m\u001b[0;34m]\u001b[0m \u001b[0;34m=\u001b[0m \u001b[0mnormalizeSeries\u001b[0m\u001b[0;34m(\u001b[0m\u001b[0mimageDF\u001b[0m\u001b[0;34m[\u001b[0m\u001b[0;34m'green'\u001b[0m\u001b[0;34m]\u001b[0m\u001b[0;34m,\u001b[0m\u001b[0;36m255\u001b[0m\u001b[0;34m)\u001b[0m\u001b[0;34m\u001b[0m\u001b[0m\n",
      "\u001b[0;32m~/anaconda3/lib/python3.6/site-packages/PIL/Image.py\u001b[0m in \u001b[0;36mgetdata\u001b[0;34m(self, band)\u001b[0m\n\u001b[1;32m   1218\u001b[0m         \"\"\"\n\u001b[1;32m   1219\u001b[0m \u001b[0;34m\u001b[0m\u001b[0m\n\u001b[0;32m-> 1220\u001b[0;31m         \u001b[0mself\u001b[0m\u001b[0;34m.\u001b[0m\u001b[0mload\u001b[0m\u001b[0;34m(\u001b[0m\u001b[0;34m)\u001b[0m\u001b[0;34m\u001b[0m\u001b[0m\n\u001b[0m\u001b[1;32m   1221\u001b[0m         \u001b[0;32mif\u001b[0m \u001b[0mband\u001b[0m \u001b[0;32mis\u001b[0m \u001b[0;32mnot\u001b[0m \u001b[0;32mNone\u001b[0m\u001b[0;34m:\u001b[0m\u001b[0;34m\u001b[0m\u001b[0m\n\u001b[1;32m   1222\u001b[0m             \u001b[0;32mreturn\u001b[0m \u001b[0mself\u001b[0m\u001b[0;34m.\u001b[0m\u001b[0mim\u001b[0m\u001b[0;34m.\u001b[0m\u001b[0mgetband\u001b[0m\u001b[0;34m(\u001b[0m\u001b[0mband\u001b[0m\u001b[0;34m)\u001b[0m\u001b[0;34m\u001b[0m\u001b[0m\n",
      "\u001b[0;32m~/anaconda3/lib/python3.6/site-packages/PIL/ImageFile.py\u001b[0m in \u001b[0;36mload\u001b[0;34m(self)\u001b[0m\n\u001b[1;32m    229\u001b[0m \u001b[0;34m\u001b[0m\u001b[0m\n\u001b[1;32m    230\u001b[0m                             \u001b[0mb\u001b[0m \u001b[0;34m=\u001b[0m \u001b[0mb\u001b[0m \u001b[0;34m+\u001b[0m \u001b[0ms\u001b[0m\u001b[0;34m\u001b[0m\u001b[0m\n\u001b[0;32m--> 231\u001b[0;31m                             \u001b[0mn\u001b[0m\u001b[0;34m,\u001b[0m \u001b[0merr_code\u001b[0m \u001b[0;34m=\u001b[0m \u001b[0mdecoder\u001b[0m\u001b[0;34m.\u001b[0m\u001b[0mdecode\u001b[0m\u001b[0;34m(\u001b[0m\u001b[0mb\u001b[0m\u001b[0;34m)\u001b[0m\u001b[0;34m\u001b[0m\u001b[0m\n\u001b[0m\u001b[1;32m    232\u001b[0m                             \u001b[0;32mif\u001b[0m \u001b[0mn\u001b[0m \u001b[0;34m<\u001b[0m \u001b[0;36m0\u001b[0m\u001b[0;34m:\u001b[0m\u001b[0;34m\u001b[0m\u001b[0m\n\u001b[1;32m    233\u001b[0m                                 \u001b[0;32mbreak\u001b[0m\u001b[0;34m\u001b[0m\u001b[0m\n",
      "\u001b[0;31mKeyboardInterrupt\u001b[0m: "
     ]
    }
   ],
   "source": [
    "baseFileName = 'trainImgsAllcolorBands.pckl'\n",
    "\n",
    "splitFeaturesData = np.array_split(featuresDF,50)\n",
    "i = 0\n",
    "for splitFrame in splitFeaturesData:\n",
    "    transformedFrame = getImgData(splitFrame,baseFileName)\n",
    "    print(transformedFrame.head())\n",
    "    i = i+1\n",
    "\n",
    "# loadFile = False\n",
    "# loadMore = True\n",
    "\n",
    "# if os.path.exists(fileName) and loadFile:\n",
    "#     imageFeaturesDF = pd.read_pickle(fileName)\n",
    "# else:\n",
    "#     imageFeaturesDF = pd.DataFrame(index=featuresDF.index,columns=['features']) \n",
    "\n",
    "\n",
    "# if loadMore:\n",
    "#     i = 0\n",
    "#     for row in tqdm(list(featuresDF.index)):\n",
    "#         i = i + 1\n",
    "#         if (type(imageFeaturesDF.loc[row]['features']) != str and type(imageFeaturesDF.loc[row]['features']) != pd.core.frame.DataFrame):\n",
    "#             imageFeatures = featurizeImage(featuresDF.loc[row]['new_filename'])\n",
    "#             imageFeaturesDF.loc[row]['features'] = imageFeatures\n",
    "#             if i % 1 == 0:\n",
    "#                 print(row)\n",
    "#                 pickleDF(fileName,imageFeaturesDF,i%50)\n",
    "#                 break\n",
    "#     imageFeaturesDF.to_pickle(fileName)\n"
   ]
  },
  {
   "cell_type": "code",
   "execution_count": null,
   "metadata": {},
   "outputs": [
    {
     "name": "stdout",
     "output_type": "stream",
     "text": [
      "n-0\n",
      "s-0\n",
      "c-0\n",
      "t-0\n"
     ]
    },
    {
     "data": {
      "application/vnd.jupyter.widget-view+json": {
       "model_id": "9c6020ccc3e94165a68c0eab8e54f441",
       "version_major": 2,
       "version_minor": 0
      },
      "text/plain": [
       "HBox(children=(IntProgress(value=0, max=26), HTML(value='')))"
      ]
     },
     "metadata": {},
     "output_type": "display_data"
    },
    {
     "data": {
      "application/vnd.jupyter.widget-view+json": {
       "model_id": "f7753cb297b046e39441d330549b4374",
       "version_major": 2,
       "version_minor": 0
      },
      "text/plain": [
       "HBox(children=(IntProgress(value=0, max=26), HTML(value='')))"
      ]
     },
     "metadata": {},
     "output_type": "display_data"
    },
    {
     "data": {
      "application/vnd.jupyter.widget-view+json": {
       "model_id": "abebf4760d104d00aa45dda83948363d",
       "version_major": 2,
       "version_minor": 0
      },
      "text/plain": [
       "HBox(children=(IntProgress(value=0, max=26), HTML(value='')))"
      ]
     },
     "metadata": {},
     "output_type": "display_data"
    },
    {
     "data": {
      "application/vnd.jupyter.widget-view+json": {
       "model_id": "8a81a645c7794f52a22deb9de4bcbb1d",
       "version_major": 2,
       "version_minor": 0
      },
      "text/plain": [
       "HBox(children=(IntProgress(value=0, max=26), HTML(value='')))"
      ]
     },
     "metadata": {},
     "output_type": "display_data"
    },
    {
     "name": "stderr",
     "output_type": "stream",
     "text": [
      "/Users/adriencogny/anaconda3/lib/python3.6/site-packages/pandas/core/indexes/api.py:87: RuntimeWarning: '<' not supported between instances of 'int' and 'str', sort order is undefined for incomparable objects\n",
      "  result = result.union(other)\n",
      "/Users/adriencogny/anaconda3/lib/python3.6/site-packages/pandas/core/indexes/api.py:87: RuntimeWarning: '<' not supported between instances of 'int' and 'str', sort order is undefined for incomparable objects\n",
      "  result = result.union(other)\n",
      "/Users/adriencogny/anaconda3/lib/python3.6/site-packages/pandas/core/indexes/api.py:87: RuntimeWarning: '<' not supported between instances of 'int' and 'str', sort order is undefined for incomparable objects\n",
      "  result = result.union(other)\n",
      "/Users/adriencogny/anaconda3/lib/python3.6/site-packages/pandas/core/indexes/api.py:87: RuntimeWarning: '<' not supported between instances of 'int' and 'str', sort order is undefined for incomparable objects\n",
      "  result = result.union(other)\n"
     ]
    }
   ],
   "source": [
    "baseFileName = 'trainImgsAllcolorBands.pckl'\n",
    "pool = Pool()\n",
    "pool.starmap(getImgData, product(splitFeaturesData, baseFileName))\n",
    "pool.close() \n",
    "pool.join()"
   ]
  },
  {
   "cell_type": "code",
   "execution_count": null,
   "metadata": {},
   "outputs": [],
   "source": []
  }
 ],
 "metadata": {
  "kernelspec": {
   "display_name": "Python 3",
   "language": "python",
   "name": "python3"
  },
  "language_info": {
   "codemirror_mode": {
    "name": "ipython",
    "version": 3
   },
   "file_extension": ".py",
   "mimetype": "text/x-python",
   "name": "python",
   "nbconvert_exporter": "python",
   "pygments_lexer": "ipython3",
   "version": "3.6.5"
  }
 },
 "nbformat": 4,
 "nbformat_minor": 2
}
