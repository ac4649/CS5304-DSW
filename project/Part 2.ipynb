{
 "cells": [
  {
   "cell_type": "code",
   "execution_count": 1,
   "metadata": {},
   "outputs": [],
   "source": [
    "%matplotlib inline\n",
    "from PIL import Image\n",
    "import pandas as pd\n",
    "import seaborn as sns\n",
    "from sklearn.linear_model import LogisticRegression\n",
    "import os\n",
    "import itertools\n",
    "from tqdm import *\n",
    "from tqdm import tqdm_notebook as tqdm\n",
    "import random\n",
    "import numpy as np\n",
    "import math\n",
    "import matplotlib.pyplot as plt\n",
    "\n",
    "from IPython.display import clear_output\n",
    "\n",
    "from io import StringIO\n",
    "import re\n",
    "\n",
    "import pickle\n",
    "import os\n",
    "\n",
    "from multiprocessing import Pool \n",
    "from itertools import product\n",
    "import sys\n",
    "from functools import partial"
   ]
  },
  {
   "cell_type": "markdown",
   "metadata": {},
   "source": [
    "# Step 1: Load Data Set"
   ]
  },
  {
   "cell_type": "code",
   "execution_count": 2,
   "metadata": {},
   "outputs": [],
   "source": [
    "fileNames = []\n",
    "for file in os.listdir(\"data/train_1\"):\n",
    "    if file.endswith(\".jpg\"):\n",
    "        fileNames.append(file)\n",
    "# fileNamesDF = pd.DataFrame(fileNames)"
   ]
  },
  {
   "cell_type": "code",
   "execution_count": 3,
   "metadata": {},
   "outputs": [
    {
     "data": {
      "application/vnd.jupyter.widget-view+json": {
       "model_id": "7293b9bf01834989bea13735725b50a6",
       "version_major": 2,
       "version_minor": 0
      },
      "text/plain": [
       "HBox(children=(IntProgress(value=0, max=23), HTML(value='')))"
      ]
     },
     "metadata": {},
     "output_type": "display_data"
    },
    {
     "name": "stdout",
     "output_type": "stream",
     "text": [
      "\n"
     ]
    }
   ],
   "source": [
    "#only take certain artist so that the probabilities aren't basically all false when doing the tupples\n",
    "minNumPaintingsPerArtist = 50\n",
    "\n",
    "# #for each artist, only take n of their paintings\n",
    "numPaintingsPerAuthor = 100\n",
    "\n",
    "\n",
    "trainInfo = pd.read_csv('data/train_info.csv')\n",
    "trainInfo = trainInfo[trainInfo['filename'].isin(fileNames)]\n",
    "\n",
    "mostPopularArtists = trainInfo['artist'].value_counts()[trainInfo['artist'].value_counts() > minNumPaintingsPerArtist]\n",
    "# print(mostPopularArtists.head())\n",
    "# fileNamesDFAll = trainInfo[trainInfo['artist'].isin(mostPopularArtists.index)]\n",
    "# print(fileNamesDFAll.head())\n",
    "\n",
    "\n",
    "\n",
    "fileNamesDF = pd.DataFrame()\n",
    "for artist in tqdm(mostPopularArtists.index):\n",
    "    fileNamesDF = fileNamesDF.append(trainInfo[trainInfo['artist'] == artist][:numPaintingsPerAuthor])"
   ]
  },
  {
   "cell_type": "code",
   "execution_count": 4,
   "metadata": {},
   "outputs": [],
   "source": [
    "# Load the all_data_info for the dataset we are using\n",
    "allInfo = pd.read_csv('data/all_data_info.csv')\n",
    "allInfo = allInfo[allInfo['new_filename'].isin(fileNamesDF['filename'])]\n",
    "\n",
    "featuresDF = pd.DataFrame(allInfo['new_filename'])\n",
    "featuresDF['pixelsx'] = allInfo['pixelsx']\n",
    "featuresDF['pixelsy'] = allInfo['pixelsy']\n",
    "featuresDF['features'] = pd.Series()"
   ]
  },
  {
   "cell_type": "code",
   "execution_count": 5,
   "metadata": {},
   "outputs": [],
   "source": [
    "def normalizeSeries(series, maxNum):\n",
    "    series = series/maxNum\n",
    "    return series"
   ]
  },
  {
   "cell_type": "code",
   "execution_count": 6,
   "metadata": {},
   "outputs": [],
   "source": [
    "def featurizeImage(filename):\n",
    "    # Extract the features from the actual image\n",
    "    jpgfile = Image.open(\"data/train_1/\" + filename)\n",
    "#     print(jpgfile)\n",
    "    \n",
    "    bands = jpgfile.getbands()\n",
    "    if bands[0] == 'L':\n",
    "        # grayscale image\n",
    "        imageDF = pd.DataFrame(list(jpgfile.getdata()),columns=['grayscale'])\n",
    "#         imageDF['grayscale'] = normalizeSeries(imageDF['grayscale',])\n",
    "    elif len(bands) == 4:\n",
    "        #get red, green and blue chanels \n",
    "        imageDF = pd.DataFrame(list(jpgfile.getdata()),columns=['red','green','blue','alpha'])\n",
    "        imageDF['red'] = normalizeSeries(imageDF['red'],255)\n",
    "        imageDF['green'] = normalizeSeries(imageDF['green'],255)\n",
    "        imageDF['blue'] = normalizeSeries(imageDF['blue'],255)  \n",
    "        imageDF['alpha'] = normalizeSeries(imageDF['alpha'],255)  \n",
    "    elif len(bands) == 3:\n",
    "        #get red, green and blue chanels \n",
    "        imageDF = pd.DataFrame(list(jpgfile.getdata()),columns=['red','green','blue'])\n",
    "        imageDF['red'] = normalizeSeries(imageDF['red'],255)\n",
    "        imageDF['green'] = normalizeSeries(imageDF['green'],255)\n",
    "        imageDF['blue'] = normalizeSeries(imageDF['blue'],255)  \n",
    "    else:\n",
    "        imageDF = pd.DataFrame(list(jpgfile.getdata()))\n",
    "        print(bands)\n",
    "        return imageDF, bands\n",
    "\n",
    "    return imageDF"
   ]
  },
  {
   "cell_type": "code",
   "execution_count": 7,
   "metadata": {},
   "outputs": [],
   "source": [
    "def pickleDF(fileName,dataFrame,numSplits):\n",
    "    print(numSplits)\n",
    "    dfArray = np.array_split(dataFrame, numSplits)\n",
    "    for i, df in enumerate(dfArray):\n",
    "        df.to_pickle(fileName+\"-\"+str(i))"
   ]
  },
  {
   "cell_type": "code",
   "execution_count": 18,
   "metadata": {},
   "outputs": [],
   "source": [
    "def getImgData(dataFrame,baseName):\n",
    "    sys.stdout.flush()\n",
    "#     index = 0\n",
    "#     while os.path.exists(baseName+\"-\"+str(index)):\n",
    "#         index = index + 1\n",
    "    \n",
    "    newFileName = baseName + \".pckl\"\n",
    "    print(newFileName)\n",
    "    sys.stdout.flush()\n",
    "    for row in tqdm(list(dataFrame.index), leave=False):\n",
    "        featureSeries = pd.Series()\n",
    "        if (type(dataFrame.loc[row]['features']) != str and type(dataFrame.loc[row]['features']) != pd.core.frame.DataFrame):\n",
    "            imageFeatures = featurizeImage(dataFrame.loc[row]['new_filename'])\n",
    "            featureSeries.append(imageFeatures)\n",
    "        sys.stdout.flush()\n",
    "        \n",
    "    dataFrame['features'] = featureSeries\n",
    "    dataFrame.to_pickle(newFileName)\n",
    "    return dataFrame"
   ]
  },
  {
   "cell_type": "code",
   "execution_count": null,
   "metadata": {
    "scrolled": true
   },
   "outputs": [],
   "source": [
    "baseFileName = 'trainImgsAllcolorBands.pckl'\n",
    "\n",
    "splitFeaturesData = np.array_split(featuresDF[:10],5)\n",
    "i = 0\n",
    "for splitFrame in splitFeaturesData:\n",
    "    transformedFrame = getImgData(splitFrame,baseFileName)\n",
    "    print(transformedFrame.head())\n",
    "    i = i+1\n",
    "\n",
    "# loadFile = False\n",
    "# loadMore = True\n",
    "\n",
    "# if os.path.exists(fileName) and loadFile:\n",
    "#     imageFeaturesDF = pd.read_pickle(fileName)\n",
    "# else:\n",
    "#     imageFeaturesDF = pd.DataFrame(index=featuresDF.index,columns=['features']) \n",
    "\n",
    "\n",
    "# if loadMore:\n",
    "#     i = 0\n",
    "#     for row in tqdm(list(featuresDF.index)):\n",
    "#         i = i + 1\n",
    "#         if (type(imageFeaturesDF.loc[row]['features']) != str and type(imageFeaturesDF.loc[row]['features']) != pd.core.frame.DataFrame):\n",
    "#             imageFeatures = featurizeImage(featuresDF.loc[row]['new_filename'])\n",
    "#             imageFeaturesDF.loc[row]['features'] = imageFeatures\n",
    "#             if i % 1 == 0:\n",
    "#                 print(row)\n",
    "#                 pickleDF(fileName,imageFeaturesDF,i%50)\n",
    "#                 break\n",
    "#     imageFeaturesDF.to_pickle(fileName)\n"
   ]
  },
  {
   "cell_type": "code",
   "execution_count": null,
   "metadata": {},
   "outputs": [
    {
     "name": "stdout",
     "output_type": "stream",
     "text": [
      "trainImgsAllcolorBands.pckl-2.pckl\n",
      "trainImgsAllcolorBands.pckl-0.pckl\n",
      "trainImgsAllcolorBands.pckl-4.pckl\n",
      "trainImgsAllcolorBands.pckl-1.pckl\n"
     ]
    },
    {
     "data": {
      "application/vnd.jupyter.widget-view+json": {
       "model_id": "e7713b985c9941199b70f6612376c2aa",
       "version_major": 2,
       "version_minor": 0
      },
      "text/plain": [
       "HBox(children=(IntProgress(value=0, max=2), HTML(value='')))"
      ]
     },
     "metadata": {},
     "output_type": "display_data"
    },
    {
     "data": {
      "application/vnd.jupyter.widget-view+json": {
       "model_id": "1ff34564a7a240269d4ac38f0703b8bf",
       "version_major": 2,
       "version_minor": 0
      },
      "text/plain": [
       "HBox(children=(IntProgress(value=0, max=2), HTML(value='')))"
      ]
     },
     "metadata": {},
     "output_type": "display_data"
    },
    {
     "data": {
      "application/vnd.jupyter.widget-view+json": {
       "model_id": "a957d691b3a64729b52f6af8b0bc8fca",
       "version_major": 2,
       "version_minor": 0
      },
      "text/plain": [
       "HBox(children=(IntProgress(value=0, max=2), HTML(value='')))"
      ]
     },
     "metadata": {},
     "output_type": "display_data"
    },
    {
     "data": {
      "application/vnd.jupyter.widget-view+json": {
       "model_id": "c9005b3b5b1648e9accc4e30ea717568",
       "version_major": 2,
       "version_minor": 0
      },
      "text/plain": [
       "HBox(children=(IntProgress(value=0, max=2), HTML(value='')))"
      ]
     },
     "metadata": {},
     "output_type": "display_data"
    }
   ],
   "source": [
    "baseFileName = 'trainImgsAllcolorBands.pckl'\n",
    "splitFeaturesData = np.array_split(featuresDF[:10],5)\n",
    "pool = Pool()\n",
    "pool.starmap(getImgData, product(splitFeaturesData, [baseFileName+\"-\"+str(i) for i in range(len(splitFeaturesData))]))\n",
    "pool.close() \n",
    "pool.join()"
   ]
  },
  {
   "cell_type": "code",
   "execution_count": 10,
   "metadata": {},
   "outputs": [
    {
     "name": "stdout",
     "output_type": "stream",
     "text": [
      "None\n"
     ]
    }
   ],
   "source": [
    "print(pool.join())"
   ]
  },
  {
   "cell_type": "code",
   "execution_count": null,
   "metadata": {},
   "outputs": [],
   "source": []
  }
 ],
 "metadata": {
  "kernelspec": {
   "display_name": "Python 3",
   "language": "python",
   "name": "python3"
  },
  "language_info": {
   "codemirror_mode": {
    "name": "ipython",
    "version": 3
   },
   "file_extension": ".py",
   "mimetype": "text/x-python",
   "name": "python",
   "nbconvert_exporter": "python",
   "pygments_lexer": "ipython3",
   "version": "3.6.5"
  }
 },
 "nbformat": 4,
 "nbformat_minor": 2
}
