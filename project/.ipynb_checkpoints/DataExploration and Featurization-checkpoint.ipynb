{
 "cells": [
  {
   "cell_type": "code",
   "execution_count": 1,
   "metadata": {},
   "outputs": [],
   "source": [
    "%matplotlib inline\n",
    "from PIL import Image\n",
    "import pandas as pd\n",
    "import seaborn as sns\n",
    "from sklearn.linear_model import LogisticRegression\n",
    "import os\n",
    "import itertools\n",
    "from tqdm import *\n",
    "from tqdm import tqdm_notebook as tqdm\n",
    "import random\n",
    "import numpy as np\n",
    "import math\n",
    "\n",
    "from IPython.display import clear_output"
   ]
  },
  {
   "cell_type": "markdown",
   "metadata": {},
   "source": [
    "## Create pairs of filenames and truth values from training data"
   ]
  },
  {
   "cell_type": "code",
   "execution_count": 2,
   "metadata": {},
   "outputs": [],
   "source": [
    "fileNames = []\n",
    "for file in os.listdir(\"data/train_1\"):\n",
    "    if file.endswith(\".jpg\"):\n",
    "        fileNames.append(file)\n",
    "# fileNamesDF = pd.DataFrame(fileNames)"
   ]
  },
  {
   "cell_type": "code",
   "execution_count": 3,
   "metadata": {},
   "outputs": [],
   "source": [
    "def isPaintingFromPopularArtist(paintingRow,popularArtists):\n",
    "    print(paintingRow)\n",
    "    print(paintingRow[artist])\n",
    "    return 0"
   ]
  },
  {
   "cell_type": "code",
   "execution_count": 4,
   "metadata": {},
   "outputs": [],
   "source": [
    "#only take certain artist so that the probabilities aren't basically all false when doing the tupples\n",
    "minNumPaintingsPerArtist = 400\n",
    "trainInfo = pd.read_csv('data/train_info.csv')\n",
    "mostPopularArtists = trainInfo['artist'].value_counts()[trainInfo['artist'].value_counts() > minNumPaintingsPerArtist]\n",
    "fileNamesDF = trainInfo[trainInfo['artist'].isin(mostPopularArtists.index)]['filename']\n",
    "# print(trainInfo[trainInfo['filename'].isin(fileNames)].shape)"
   ]
  },
  {
   "cell_type": "code",
   "execution_count": 5,
   "metadata": {},
   "outputs": [
    {
     "data": {
      "text/plain": [
       "(1216,)"
      ]
     },
     "execution_count": 5,
     "metadata": {},
     "output_type": "execute_result"
    }
   ],
   "source": [
    "fileNamesDF.shape"
   ]
  },
  {
   "cell_type": "code",
   "execution_count": 6,
   "metadata": {},
   "outputs": [],
   "source": [
    "fractionOfData = 0.03\n",
    "trainFiles = fileNamesDF.sample(frac=fractionOfData)\n",
    "trainFileNames = trainFiles.values.flatten()"
   ]
  },
  {
   "cell_type": "code",
   "execution_count": 7,
   "metadata": {},
   "outputs": [],
   "source": [
    "## from itertools documentation to create tupples\n",
    "def product(*args, repeat=1):\n",
    "    # product('ABCD', 'xy') --> Ax Ay Bx By Cx Cy Dx Dy\n",
    "    # product(range(2), repeat=3) --> 000 001 010 011 100 101 110 111\n",
    "    pools = [tuple(pool) for pool in args] * repeat\n",
    "    result = [[]]\n",
    "    for pool in pools:\n",
    "        result = [x+[y] for x in result for y in pool]\n",
    "    for prod in result:\n",
    "        yield tuple(prod)\n",
    "def permutations(iterable, r=None):\n",
    "    pool = tuple(iterable)\n",
    "    n = len(pool)\n",
    "    r = n if r is None else r\n",
    "    for indices in product(range(n), repeat=r):\n",
    "        if len(set(indices)) == r:\n",
    "            yield tuple(pool[i] for i in indices)\n",
    "def combinations(iterable, r):\n",
    "    pool = tuple(iterable)\n",
    "    n = len(pool)\n",
    "    for indices in permutations(range(n), r):\n",
    "        if sorted(indices) == list(indices):\n",
    "            yield tuple(pool[i] for i in indices)\n",
    "\n",
    "def isSameArtist(image1,image2,trainInfo):\n",
    "    artist1 = trainInfo[trainInfo['filename'] == image1]['artist']\n",
    "    artist2 = trainInfo[trainInfo['filename'] == image2]['artist']\n",
    "    return artist1.iloc[0] == artist2.iloc[0]"
   ]
  },
  {
   "cell_type": "code",
   "execution_count": 8,
   "metadata": {},
   "outputs": [],
   "source": [
    "def generateTrainingSet(trainFileNames,fractionOfData,minNumPaintingsPerArtist,keepTQDM = True):\n",
    "#     print(\"Generating Training Set for \" + str(len(trainFileNames)) + \" files.\")\n",
    "    trainInputs = pd.DataFrame(list(combinations(trainFileNames,2)),columns=['image1','image2'])\n",
    "#     trainInputs.to_csv('trainingTupplesNoTruth'+ str(fractionOfData) + '-' + str(minNumPaintingsPerArtist) +'.csv')\n",
    "    trainInfo = pd.read_csv('data/train_info.csv')\n",
    "    trainInputs['sameArtist'] = pd.Series([isSameArtist(x[0],x[1],trainInfo) for x in tqdm(trainInputs.values,leave=keepTQDM,desc='Gen Train Set')])\n",
    "#     trainInputs.to_csv('trainingTupples' + str(fractionOfData) + '-' + str(minNumPaintingsPerArtist) + '.csv')\n",
    "    return trainInputs"
   ]
  },
  {
   "cell_type": "code",
   "execution_count": 9,
   "metadata": {},
   "outputs": [
    {
     "data": {
      "application/vnd.jupyter.widget-view+json": {
       "model_id": "4a77ef12ae174c5eb475de46516d525c",
       "version_major": 2,
       "version_minor": 0
      },
      "text/plain": [
       "HBox(children=(IntProgress(value=0, description='Gen Train Set', max=630), HTML(value='')))"
      ]
     },
     "metadata": {},
     "output_type": "display_data"
    },
    {
     "name": "stdout",
     "output_type": "stream",
     "text": [
      "\n"
     ]
    }
   ],
   "source": [
    "trainingInputs = generateTrainingSet(trainFileNames,fractionOfData,minNumPaintingsPerArtist)"
   ]
  },
  {
   "cell_type": "code",
   "execution_count": 10,
   "metadata": {},
   "outputs": [],
   "source": [
    "PercentageTrue = trainingInputs[trainingInputs['sameArtist'] == True].shape[0] / trainingInputs.shape[0]\n",
    "PercentageFalse = 1 - PercentageTrue"
   ]
  },
  {
   "cell_type": "code",
   "execution_count": 11,
   "metadata": {},
   "outputs": [
    {
     "name": "stdout",
     "output_type": "stream",
     "text": [
      "0.32857142857142857\n",
      "0.6714285714285715\n"
     ]
    }
   ],
   "source": [
    "print(PercentageTrue)\n",
    "print(PercentageFalse)"
   ]
  },
  {
   "cell_type": "markdown",
   "metadata": {},
   "source": [
    "## Probabilistic Model"
   ]
  },
  {
   "cell_type": "code",
   "execution_count": 12,
   "metadata": {},
   "outputs": [],
   "source": [
    "def score(testingInputs):\n",
    "    equality = testingInputs['sameArtist'] == testingInputs['predictions']\n",
    "    numEqual = equality[equality == True].shape[0]\n",
    "    numTotal = equality.shape[0]\n",
    "    return numEqual / numTotal"
   ]
  },
  {
   "cell_type": "code",
   "execution_count": 13,
   "metadata": {},
   "outputs": [],
   "source": [
    "def runProbModel(tuppleFrame,probTrue, keepTQDM=True):\n",
    "    returnedValues = []\n",
    "    returnedPredictions = []\n",
    "    for i in tqdm(range(tuppleFrame.shape[0]),desc='Probability: ',leave=keepTQDM):\n",
    "        value = random.random()\n",
    "        returnedValues.append(value)\n",
    "        returnedPredictions.append(value < probTrue)\n",
    "#     tuppleFrame['value'] = returnedValues\n",
    "#     tuppleFrame['predicted'] = returnedPredictions\n",
    "    return returnedPredictions "
   ]
  },
  {
   "cell_type": "code",
   "execution_count": 14,
   "metadata": {},
   "outputs": [],
   "source": [
    "def computeTruth(testingInputs,keepTQDM = True):\n",
    "    #compute truths for dev set\n",
    "    trainInfo = pd.read_csv('data/train_info.csv')\n",
    "    testingInputs['sameArtist'] = pd.Series([isSameArtist(x[0],x[1],trainInfo) for x in tqdm(testingInputs.values,leave=keepTQDM,desc='Gen Tru Dev')])\n",
    "#     testingInputs.to_csv('testingResults' + str(fractionOfData) + '.csv')"
   ]
  },
  {
   "cell_type": "code",
   "execution_count": 15,
   "metadata": {},
   "outputs": [],
   "source": [
    "def getResultsForTestSet(testSet,testFileNames,PercentageTrue,keepTQDM):\n",
    "    testSet.head()\n",
    "    testingInputs = pd.DataFrame(list(combinations(testFileNames,2)),columns=['image1','image2'])\n",
    "#     testingInputs.to_csv('testingSet.csv')\n",
    "\n",
    "    modelPredictions = runProbModel(testingInputs,PercentageTrue,keepTQDM)\n",
    "    testingInputs['predictions'] = modelPredictions\n",
    "    computeTruth(testingInputs,keepTQDM)\n",
    "    \n",
    "    return score(testingInputs)"
   ]
  },
  {
   "cell_type": "code",
   "execution_count": 16,
   "metadata": {
    "scrolled": true
   },
   "outputs": [],
   "source": [
    "def getAvgScoreForNSplits(n,fraction,fileNamesDF,trainFiles,keepTQDM = True):\n",
    "    # Look at the non-selected files and do score over random samples\n",
    "    scores = []\n",
    "    for i in tqdm(range(n),leave=keepTQDM,desc='Compute Sco: '):\n",
    "        testingSet=fileNamesDF.drop(trainFiles.index).sample(frac=fraction)\n",
    "        testFileNames = testingSet.values.flatten()\n",
    "        scores.append(getResultsForTestSet(testingSet,testFileNames,PercentageTrue,keepTQDM))\n",
    "#     print(scores)\n",
    "#     print(\"Average Score: \" + str(np.mean(scores)))\n",
    "    return scores, np.mean(scores)"
   ]
  },
  {
   "cell_type": "code",
   "execution_count": 17,
   "metadata": {},
   "outputs": [
    {
     "data": {
      "application/vnd.jupyter.widget-view+json": {
       "model_id": "",
       "version_major": 2,
       "version_minor": 0
      },
      "text/plain": [
       "HBox(children=(IntProgress(value=0, description='Compute Sco: ', max=10), HTML(value='')))"
      ]
     },
     "metadata": {},
     "output_type": "display_data"
    },
    {
     "data": {
      "application/vnd.jupyter.widget-view+json": {
       "model_id": "",
       "version_major": 2,
       "version_minor": 0
      },
      "text/plain": [
       "HBox(children=(IntProgress(value=0, description='Probability: ', max=66), HTML(value='')))"
      ]
     },
     "metadata": {},
     "output_type": "display_data"
    },
    {
     "data": {
      "application/vnd.jupyter.widget-view+json": {
       "model_id": "",
       "version_major": 2,
       "version_minor": 0
      },
      "text/plain": [
       "HBox(children=(IntProgress(value=0, description='Gen Tru Dev', max=66), HTML(value='')))"
      ]
     },
     "metadata": {},
     "output_type": "display_data"
    },
    {
     "data": {
      "application/vnd.jupyter.widget-view+json": {
       "model_id": "",
       "version_major": 2,
       "version_minor": 0
      },
      "text/plain": [
       "HBox(children=(IntProgress(value=0, description='Probability: ', max=66), HTML(value='')))"
      ]
     },
     "metadata": {},
     "output_type": "display_data"
    },
    {
     "data": {
      "application/vnd.jupyter.widget-view+json": {
       "model_id": "",
       "version_major": 2,
       "version_minor": 0
      },
      "text/plain": [
       "HBox(children=(IntProgress(value=0, description='Gen Tru Dev', max=66), HTML(value='')))"
      ]
     },
     "metadata": {},
     "output_type": "display_data"
    },
    {
     "data": {
      "application/vnd.jupyter.widget-view+json": {
       "model_id": "",
       "version_major": 2,
       "version_minor": 0
      },
      "text/plain": [
       "HBox(children=(IntProgress(value=0, description='Probability: ', max=66), HTML(value='')))"
      ]
     },
     "metadata": {},
     "output_type": "display_data"
    },
    {
     "data": {
      "application/vnd.jupyter.widget-view+json": {
       "model_id": "",
       "version_major": 2,
       "version_minor": 0
      },
      "text/plain": [
       "HBox(children=(IntProgress(value=0, description='Gen Tru Dev', max=66), HTML(value='')))"
      ]
     },
     "metadata": {},
     "output_type": "display_data"
    },
    {
     "data": {
      "application/vnd.jupyter.widget-view+json": {
       "model_id": "",
       "version_major": 2,
       "version_minor": 0
      },
      "text/plain": [
       "HBox(children=(IntProgress(value=0, description='Probability: ', max=66), HTML(value='')))"
      ]
     },
     "metadata": {},
     "output_type": "display_data"
    },
    {
     "data": {
      "application/vnd.jupyter.widget-view+json": {
       "model_id": "",
       "version_major": 2,
       "version_minor": 0
      },
      "text/plain": [
       "HBox(children=(IntProgress(value=0, description='Gen Tru Dev', max=66), HTML(value='')))"
      ]
     },
     "metadata": {},
     "output_type": "display_data"
    },
    {
     "data": {
      "application/vnd.jupyter.widget-view+json": {
       "model_id": "",
       "version_major": 2,
       "version_minor": 0
      },
      "text/plain": [
       "HBox(children=(IntProgress(value=0, description='Probability: ', max=66), HTML(value='')))"
      ]
     },
     "metadata": {},
     "output_type": "display_data"
    },
    {
     "data": {
      "application/vnd.jupyter.widget-view+json": {
       "model_id": "",
       "version_major": 2,
       "version_minor": 0
      },
      "text/plain": [
       "HBox(children=(IntProgress(value=0, description='Gen Tru Dev', max=66), HTML(value='')))"
      ]
     },
     "metadata": {},
     "output_type": "display_data"
    },
    {
     "data": {
      "application/vnd.jupyter.widget-view+json": {
       "model_id": "",
       "version_major": 2,
       "version_minor": 0
      },
      "text/plain": [
       "HBox(children=(IntProgress(value=0, description='Probability: ', max=66), HTML(value='')))"
      ]
     },
     "metadata": {},
     "output_type": "display_data"
    },
    {
     "data": {
      "application/vnd.jupyter.widget-view+json": {
       "model_id": "",
       "version_major": 2,
       "version_minor": 0
      },
      "text/plain": [
       "HBox(children=(IntProgress(value=0, description='Gen Tru Dev', max=66), HTML(value='')))"
      ]
     },
     "metadata": {},
     "output_type": "display_data"
    },
    {
     "data": {
      "application/vnd.jupyter.widget-view+json": {
       "model_id": "",
       "version_major": 2,
       "version_minor": 0
      },
      "text/plain": [
       "HBox(children=(IntProgress(value=0, description='Probability: ', max=66), HTML(value='')))"
      ]
     },
     "metadata": {},
     "output_type": "display_data"
    },
    {
     "data": {
      "application/vnd.jupyter.widget-view+json": {
       "model_id": "",
       "version_major": 2,
       "version_minor": 0
      },
      "text/plain": [
       "HBox(children=(IntProgress(value=0, description='Gen Tru Dev', max=66), HTML(value='')))"
      ]
     },
     "metadata": {},
     "output_type": "display_data"
    },
    {
     "data": {
      "application/vnd.jupyter.widget-view+json": {
       "model_id": "",
       "version_major": 2,
       "version_minor": 0
      },
      "text/plain": [
       "HBox(children=(IntProgress(value=0, description='Probability: ', max=66), HTML(value='')))"
      ]
     },
     "metadata": {},
     "output_type": "display_data"
    },
    {
     "data": {
      "application/vnd.jupyter.widget-view+json": {
       "model_id": "",
       "version_major": 2,
       "version_minor": 0
      },
      "text/plain": [
       "HBox(children=(IntProgress(value=0, description='Gen Tru Dev', max=66), HTML(value='')))"
      ]
     },
     "metadata": {},
     "output_type": "display_data"
    },
    {
     "data": {
      "application/vnd.jupyter.widget-view+json": {
       "model_id": "",
       "version_major": 2,
       "version_minor": 0
      },
      "text/plain": [
       "HBox(children=(IntProgress(value=0, description='Probability: ', max=66), HTML(value='')))"
      ]
     },
     "metadata": {},
     "output_type": "display_data"
    },
    {
     "data": {
      "application/vnd.jupyter.widget-view+json": {
       "model_id": "",
       "version_major": 2,
       "version_minor": 0
      },
      "text/plain": [
       "HBox(children=(IntProgress(value=0, description='Gen Tru Dev', max=66), HTML(value='')))"
      ]
     },
     "metadata": {},
     "output_type": "display_data"
    },
    {
     "data": {
      "application/vnd.jupyter.widget-view+json": {
       "model_id": "",
       "version_major": 2,
       "version_minor": 0
      },
      "text/plain": [
       "HBox(children=(IntProgress(value=0, description='Probability: ', max=66), HTML(value='')))"
      ]
     },
     "metadata": {},
     "output_type": "display_data"
    },
    {
     "data": {
      "application/vnd.jupyter.widget-view+json": {
       "model_id": "",
       "version_major": 2,
       "version_minor": 0
      },
      "text/plain": [
       "HBox(children=(IntProgress(value=0, description='Gen Tru Dev', max=66), HTML(value='')))"
      ]
     },
     "metadata": {},
     "output_type": "display_data"
    },
    {
     "name": "stdout",
     "output_type": "stream",
     "text": [
      "\r"
     ]
    },
    {
     "data": {
      "text/plain": [
       "([0.5909090909090909,\n",
       "  0.4393939393939394,\n",
       "  0.7272727272727273,\n",
       "  0.6060606060606061,\n",
       "  0.5151515151515151,\n",
       "  0.45454545454545453,\n",
       "  0.5454545454545454,\n",
       "  0.5606060606060606,\n",
       "  0.5606060606060606,\n",
       "  0.5151515151515151],\n",
       " 0.5515151515151515)"
      ]
     },
     "execution_count": 17,
     "metadata": {},
     "output_type": "execute_result"
    }
   ],
   "source": [
    "getAvgScoreForNSplits(10,0.01,fileNamesDF,trainFiles,False)"
   ]
  },
  {
   "cell_type": "markdown",
   "metadata": {},
   "source": [
    "## Do training and testing over different splits of train and test"
   ]
  },
  {
   "cell_type": "code",
   "execution_count": 21,
   "metadata": {},
   "outputs": [],
   "source": [
    "def scoreOverRandomTrainingOverRandomSamples(fileNamesDF,nTraining,nScores,fractionTrain,fractionTest,keepTQDM = True):\n",
    "    scores = []\n",
    "    trialScores = []\n",
    "    for i in tqdm(range(nTraining),desc='Progress: ',leave=keepTQDM):\n",
    "        trainFiles = fileNamesDF.sample(frac=fractionTrain)\n",
    "        trainFileNames = trainFiles.values.flatten()\n",
    "        trainingInputs = generateTrainingSet(trainFileNames,fractionTrain,minNumPaintingsPerArtist,keepTQDM)\n",
    "        PercentageTrue = trainingInputs[trainingInputs['sameArtist'] == True].shape[0] / trainingInputs.shape[0]\n",
    "        PercentageFalse = 1 - PercentageTrue\n",
    "        \n",
    "        perTrialScore, overallScore = getAvgScoreForNSplits(nScores,fractionTest,fileNamesDF,trainFiles,keepTQDM = keepTQDM)\n",
    "        scores.append(overallScore)\n",
    "        trialScores.append(perTrialScore)\n",
    "#     getAvgScoreForNSplits(nScores,fraction,fileNamesDF,trainFiles)\n",
    "    return np.mean(scores), scores, trialScores"
   ]
  },
  {
   "cell_type": "code",
   "execution_count": null,
   "metadata": {
    "scrolled": true
   },
   "outputs": [],
   "source": [
    "meanScoreModel = scoreOverRandomTrainingOverRandomSamples(fileNamesDF,5,10,0.03,0.03,False)[0]"
   ]
  },
  {
   "cell_type": "code",
   "execution_count": null,
   "metadata": {},
   "outputs": [],
   "source": [
    "print(meanScoreModel)"
   ]
  },
  {
   "cell_type": "markdown",
   "metadata": {},
   "source": [
    "## Do training and testing just like before but over different "
   ]
  },
  {
   "cell_type": "code",
   "execution_count": null,
   "metadata": {
    "scrolled": true
   },
   "outputs": [
    {
     "name": "stdout",
     "output_type": "stream",
     "text": [
      "Float64Index([0.1, 0.125, 0.15000000000000002, 0.17500000000000002, 0.2], dtype='float64')\n"
     ]
    },
    {
     "data": {
      "application/vnd.jupyter.widget-view+json": {
       "model_id": "1138ef2fc77744189bda6810b961594b",
       "version_major": 2,
       "version_minor": 0
      },
      "text/plain": [
       "HBox(children=(IntProgress(value=0, description='train size', max=5), HTML(value='')))"
      ]
     },
     "metadata": {},
     "output_type": "display_data"
    },
    {
     "data": {
      "application/vnd.jupyter.widget-view+json": {
       "model_id": "cc5aa343df1f4ae2a1f8f3a1f8b3108b",
       "version_major": 2,
       "version_minor": 0
      },
      "text/plain": [
       "HBox(children=(IntProgress(value=0, description='dev size', max=5), HTML(value='')))"
      ]
     },
     "metadata": {},
     "output_type": "display_data"
    },
    {
     "data": {
      "application/vnd.jupyter.widget-view+json": {
       "model_id": "4b672a54ec6d4d4b888d548a37a48b27",
       "version_major": 2,
       "version_minor": 0
      },
      "text/plain": [
       "HBox(children=(IntProgress(value=0, description='Progress: ', max=3), HTML(value='')))"
      ]
     },
     "metadata": {},
     "output_type": "display_data"
    },
    {
     "data": {
      "application/vnd.jupyter.widget-view+json": {
       "model_id": "82b0de1650154cb2b1aa675ecf5f4f3c",
       "version_major": 2,
       "version_minor": 0
      },
      "text/plain": [
       "HBox(children=(IntProgress(value=0, description='Gen Train Set', max=7381), HTML(value='')))"
      ]
     },
     "metadata": {},
     "output_type": "display_data"
    }
   ],
   "source": [
    "results = pd.DataFrame(index=np.linspace(0.1, 0.2, num=5),columns=np.linspace(0.1, 0.2, num=5))\n",
    "# print(results.head())\n",
    "numTrain = 3\n",
    "numDev = 3\n",
    "print(results.index)\n",
    "for i in tqdm(results.index,desc='train size'):\n",
    "    for j in tqdm(np.linspace(0.1, 0.2, num=5),desc='dev size',leave=False):\n",
    "        meanScoreModel = scoreOverRandomTrainingOverRandomSamples(fileNamesDF,numTrain,numDev,i,j,False)[0]\n",
    "        results[i][j] = meanScoreModel\n",
    "        results.to_csv('ScoreResults01-0.2.csv')        "
   ]
  },
  {
   "cell_type": "code",
   "execution_count": null,
   "metadata": {},
   "outputs": [],
   "source": [
    "results.head()"
   ]
  },
  {
   "cell_type": "markdown",
   "metadata": {},
   "source": [
    "## Loading an Image"
   ]
  },
  {
   "cell_type": "code",
   "execution_count": null,
   "metadata": {},
   "outputs": [],
   "source": [
    "filePair = '10.jpg'\n",
    "jpgfile = Image.open(\"data/train_1/\" + fileName)"
   ]
  },
  {
   "cell_type": "code",
   "execution_count": null,
   "metadata": {},
   "outputs": [],
   "source": [
    "print(jpgfile.getbands())"
   ]
  },
  {
   "cell_type": "code",
   "execution_count": null,
   "metadata": {},
   "outputs": [],
   "source": [
    "imageDF = pd.DataFrame(list(jpgfile.getdata()),columns=['red','green','blue'])"
   ]
  },
  {
   "cell_type": "code",
   "execution_count": null,
   "metadata": {
    "scrolled": true
   },
   "outputs": [],
   "source": [
    "imageDF['blue'].hist()"
   ]
  },
  {
   "cell_type": "markdown",
   "metadata": {},
   "source": [
    "## Generating RGB Features"
   ]
  },
  {
   "cell_type": "code",
   "execution_count": null,
   "metadata": {},
   "outputs": [],
   "source": [
    "imgFeatures = pd.concat([imageDF['red'],imageDF['green'],imageDF['blue']])"
   ]
  },
  {
   "cell_type": "code",
   "execution_count": null,
   "metadata": {},
   "outputs": [],
   "source": [
    "dataInfo = pd.read_csv('data/all_data_info.csv')\n",
    "pixelsX = dataInfo[dataInfo['new_filename'] == fileName]['pixelsx'] # pixelsx and pixelsy could also be features\n",
    "pixelsY = dataInfo[dataInfo['new_filename'] == fileName]['pixelsy'] # pixelsx and pixelsy could also be features"
   ]
  },
  {
   "cell_type": "code",
   "execution_count": null,
   "metadata": {},
   "outputs": [],
   "source": [
    "imgFeatures = imgFeatures.append(pixelsX)\n",
    "imgFeatures = imgFeatures.append(pixelsY)"
   ]
  },
  {
   "cell_type": "markdown",
   "metadata": {},
   "source": [
    "## Creating and training the model"
   ]
  },
  {
   "cell_type": "code",
   "execution_count": null,
   "metadata": {},
   "outputs": [],
   "source": [
    "model = LogisticRegression()\n",
    "model"
   ]
  },
  {
   "cell_type": "code",
   "execution_count": null,
   "metadata": {},
   "outputs": [],
   "source": []
  },
  {
   "cell_type": "markdown",
   "metadata": {},
   "source": [
    "# Test"
   ]
  },
  {
   "cell_type": "code",
   "execution_count": null,
   "metadata": {},
   "outputs": [],
   "source": [
    "df = pd.read_csv('data/solution_painter.csv')"
   ]
  },
  {
   "cell_type": "code",
   "execution_count": null,
   "metadata": {},
   "outputs": [],
   "source": [
    "df.describe()"
   ]
  },
  {
   "cell_type": "code",
   "execution_count": null,
   "metadata": {},
   "outputs": [],
   "source": []
  }
 ],
 "metadata": {
  "kernelspec": {
   "display_name": "Python 3",
   "language": "python",
   "name": "python3"
  },
  "language_info": {
   "codemirror_mode": {
    "name": "ipython",
    "version": 3
   },
   "file_extension": ".py",
   "mimetype": "text/x-python",
   "name": "python",
   "nbconvert_exporter": "python",
   "pygments_lexer": "ipython3",
   "version": "3.6.5"
  }
 },
 "nbformat": 4,
 "nbformat_minor": 2
}
